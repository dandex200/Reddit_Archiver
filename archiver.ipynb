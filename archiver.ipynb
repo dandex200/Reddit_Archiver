{
 "cells": [
  {
   "cell_type": "code",
   "execution_count": 1,
   "metadata": {},
   "outputs": [],
   "source": [
    "#   ▄████████    ▄████████ ████████▄  ████████▄   ▄█      ███             ▄████████    ▄████████  ▄████████    ▄█    █▄     ▄█   ▄█    █▄     ▄████████    ▄████████\n",
    "#   ███    ███   ███    ███ ███   ▀███ ███   ▀███ ███  ▀█████████▄        ███    ███   ███    ███ ███    ███   ███    ███   ███  ███    ███   ███    ███   ███    ███\n",
    "#   ███    ███   ███    █▀  ███    ███ ███    ███ ███▌    ▀███▀▀██        ███    ███   ███    ███ ███    █▀    ███    ███   ███▌ ███    ███   ███    █▀    ███    ███\n",
    "#  ▄███▄▄▄▄██▀  ▄███▄▄▄     ███    ███ ███    ███ ███▌     ███   ▀        ███    ███  ▄███▄▄▄▄██▀ ███         ▄███▄▄▄▄███▄▄ ███▌ ███    ███  ▄███▄▄▄      ▄███▄▄▄▄██▀\n",
    "# ▀▀███▀▀▀▀▀   ▀▀███▀▀▀     ███    ███ ███    ███ ███▌     ███          ▀███████████ ▀▀███▀▀▀▀▀   ███        ▀▀███▀▀▀▀███▀  ███▌ ███    ███ ▀▀███▀▀▀     ▀▀███▀▀▀▀▀\n",
    "# ▀███████████   ███    █▄  ███    ███ ███    ███ ███      ███            ███    ███ ▀███████████ ███    █▄    ███    ███   ███  ███    ███   ███    █▄  ▀███████████\n",
    "#   ███    ███   ███    ███ ███   ▄███ ███   ▄███ ███      ███            ███    ███   ███    ███ ███    ███   ███    ███   ███  ███    ███   ███    ███   ███    ███\n",
    "#   ███    ███   ██████████ ████████▀  ████████▀  █▀      ▄████▀          ███    █▀    ███    ███ ████████▀    ███    █▀    █▀    ▀██████▀    ██████████   ███    ███\n",
    "#   ███    ███                                                                         ███    ███                                                          ███    ███"
   ]
  },
  {
   "attachments": {},
   "cell_type": "markdown",
   "metadata": {},
   "source": [
    "# Reddit Archiver - An easy way to archive and view your Reddit Account. \n",
    "\n",
    "Downloads your profile info and posts/comments from your input reddit account. Creates a presentable webpage of your arhcived profile that can be saved locally. \n",
    "\n",
    "* Allows user to input desired Reddit Username and output directory for archive file via command line\n",
    "* Downloads user data using BeautifulSoup.\n",
    "* Saves data to JSON file\n",
    "* Loads JSON File into HTML webpage and saves webpage to desired directory\n",
    "\n",
    "\n",
    "By [dandex200](https://github.com/dandex200/) on Github\n"
   ]
  },
  {
   "attachments": {},
   "cell_type": "markdown",
   "metadata": {},
   "source": [
    "#### Imports"
   ]
  },
  {
   "cell_type": "code",
   "execution_count": 72,
   "metadata": {},
   "outputs": [],
   "source": [
    "import requests\n",
    "from bs4 import BeautifulSoup\n",
    "import json\n",
    "import os\n",
    "from tkinter import filedialog, Tk\n",
    "import datetime\n",
    "import time\n",
    "import shutil\n",
    "import wget\n",
    "import youtube_dl\n",
    "from moviepy.editor import VideoFileClip, AudioFileClip\n",
    "import urllib.request"
   ]
  },
  {
   "attachments": {},
   "cell_type": "markdown",
   "metadata": {},
   "source": [
    "## User Input"
   ]
  },
  {
   "cell_type": "code",
   "execution_count": 73,
   "metadata": {},
   "outputs": [
    {
     "name": "stdout",
     "output_type": "stream",
     "text": [
      "Will save archive file to: /home/dandex/programming/The_Reddit_Archiver/Reddit_Archiver/Temp_Files\n"
     ]
    }
   ],
   "source": [
    "#Username Input\n",
    "user_input = input(\"Enter desired Reddit Username to Archive:\")\n",
    "\n",
    "#Output Directory Input using Tkinter\n",
    "confirm_input = input(\"Choose Archive File Output Directory? (Y/N)\")\n",
    "\n",
    "#Select Output Directory if chosen\n",
    "if confirm_input.lower() == 'y':\n",
    "    root = Tk() \n",
    "    root.withdraw()\n",
    "    output_dir = filedialog.askdirectory()\n",
    "    root.destroy()\n",
    "    print(\"Will save archive file to: %s\" % output_dir)\n",
    "else:\n",
    "    print(\"No output directory selected - will save to current directory.\")\n",
    "    "
   ]
  },
  {
   "attachments": {},
   "cell_type": "markdown",
   "metadata": {},
   "source": [
    "## Scraping"
   ]
  },
  {
   "cell_type": "code",
   "execution_count": 74,
   "metadata": {},
   "outputs": [
    {
     "name": "stdout",
     "output_type": "stream",
     "text": [
      "working\n"
     ]
    }
   ],
   "source": [
    "user_url = 'https://old.reddit.com/user/'+user_input\n",
    "\n",
    "headers = {\n",
    "    'User-Agent': 'Mozilla/5.0 (Windows NT 10.0; Win64; x64) AppleWebKit/537.36 (KHTML, like Gecko) Chrome/58.0.3029.110 Safari/537.3'\n",
    "}\n",
    "\n",
    "form_data = {\"over18\": \"yes\"}\n",
    "response = requests.get(user_url, headers=headers)\n",
    "soup = BeautifulSoup(response.content, 'html.parser')\n",
    "title_check = soup.title.text.split(' ')[0]\n",
    "\n",
    "if title_check == \"overview\":\n",
    "    print(\"working\")\n",
    "else:\n",
    "    print(\"Over 18, bypassing...\")\n",
    "    age_url =soup.select_one('link[rel=\"canonical\"]')['href']\n",
    "    print(age_url)\n",
    "    new_response = requests.post(age_url, data=form_data, headers=headers)\n",
    "    soup = BeautifulSoup(new_response.content, 'html.parser')\n",
    "    title_check = soup.title.text.split(' ')[0]\n",
    "    if title_check == \"overview\":\n",
    "        print(\"bypass working\")\n",
    "    else:\n",
    "        print(\"bypass failed\")"
   ]
  },
  {
   "attachments": {},
   "cell_type": "markdown",
   "metadata": {},
   "source": [
    "### Profile Info"
   ]
  },
  {
   "cell_type": "code",
   "execution_count": 75,
   "metadata": {},
   "outputs": [
    {
     "name": "stdout",
     "output_type": "stream",
     "text": [
      "Username: Normal-Will4837\n",
      "Comment Karma: 805\n",
      "Post Karma: 123\n",
      "Creation Date: 2022-06-09T05:50:13+00:00\n",
      "Posts Count: 3\n",
      "Comments Count: 22\n"
     ]
    }
   ],
   "source": [
    "username = soup.title.text.split(' ')[2]\n",
    "\n",
    "comment_karma_box = soup.find('span', {'class': 'comment-karma'})\n",
    "comment_karma = comment_karma_box.text if comment_karma_box is not None else ''\n",
    "comment_karma = int(comment_karma.replace(',', ''))\n",
    "post_karma = soup.find('span', {'class': 'karma'})\n",
    "post_karma = post_karma.text if post_karma is not None else ''\n",
    "post_karma = int(post_karma.replace(',', ''))\n",
    "\n",
    "user_creation_date = soup.find('span', {'class': 'age'})\n",
    "user_creation_date = user_creation_date.find('time')['datetime']\n",
    "\n",
    "num_posts = 0\n",
    "num_comments = 0\n",
    "for comment in soup.find_all('div', class_='comment'):\n",
    "    num_comments += 1\n",
    "for post in soup.find_all('div', class_='link'):\n",
    "    num_posts += 1\n",
    "\n",
    "print(\"Username: \" + username)\n",
    "print(\"Comment Karma: %d\"  % comment_karma)\n",
    "print(\"Post Karma: %d\" % post_karma)\n",
    "print(\"Creation Date: \" + user_creation_date)\n",
    "print(\"Posts Count: %d\" % num_posts)\n",
    "print(\"Comments Count: %d\" % num_comments)"
   ]
  },
  {
   "attachments": {},
   "cell_type": "markdown",
   "metadata": {},
   "source": [
    "### Comments"
   ]
  },
  {
   "cell_type": "code",
   "execution_count": 76,
   "metadata": {},
   "outputs": [
    {
     "name": "stdout",
     "output_type": "stream",
     "text": [
      "[{'utc_date': '2023-07-20T19:24:42+00:00', 'score': '1 point', 'subreddit': 'NoJumper', 'permalink': 'https://old.reddit.com/r/NoJumper/comments/153hfe1/is_that_a_voicecrack_i_heard_this_definitely/jsrpw5c/', 'text': 'the cream pie was fake and Adam playing into it to get a reaction/views and yall falling for it\\n\\n'}, {'utc_date': '2023-07-18T04:06:05+00:00', 'score': '4 points', 'subreddit': 'NoJumper', 'permalink': 'https://old.reddit.com/r/NoJumper/comments/152f0di/strawberry_deker_head_ass/jsevjkn/', 'text': 'She went to the same dr heather did\\n\\n'}, {'utc_date': '2023-07-17T04:32:16+00:00', 'score': '2 points', 'subreddit': 'NoJumper', 'permalink': 'https://old.reddit.com/r/NoJumper/comments/151d40x/naw_jason_luv_is_a_menace/jsa4wx6/', 'text': 'You don’t think Adam told him to play into the cuck narrative so this shit could go more viral and they all get a bigger bag off this shit? Lmao\\n\\n'}, {'utc_date': '2023-07-15T04:54:12+00:00', 'score': '1 point', 'subreddit': 'NoJumper', 'permalink': 'https://old.reddit.com/r/NoJumper/comments/14zwun5/they_love_gossipping_about_someone_they_claim/js13d4p/', 'text': 'Hollll up wasn’t heather talm bout how she wishes her and trell could have a relationship like Adam and Lena having threesomes and shit and having an OnlyFans when she did Lena’s podcast 🤨\\n\\n'}, {'utc_date': '2023-07-14T05:53:50+00:00', 'score': '1 point', 'subreddit': 'BackonFigg', 'permalink': 'https://old.reddit.com/r/BackonFigg/comments/14z2tv3/_/jrwgtc6/', 'text': 'I heard in porn they be faking shit like this but idkkk\\n\\n'}, {'utc_date': '2023-07-13T19:03:34+00:00', 'score': '2 points', 'subreddit': 'NoJumper', 'permalink': 'https://old.reddit.com/r/NoJumper/comments/14yjcrz/july_15th_mastermind_fousey_aka_fouseytube_takes/jru7lxc/', 'text': 'Lmao this guy is the LAST person who should be taking shots at ANYBODY\\n\\n'}, {'utc_date': '2023-07-13T06:52:46+00:00', 'score': '6 points', 'subreddit': 'NoJumper', 'permalink': 'https://old.reddit.com/r/NoJumper/comments/14xp6mu/toke_tries_to_expose_adam_but_says_a_whole_bunch/jrruxl9/', 'text': 'blazzy said on yuriys stream one time that he dont even talk to toke outside of the podcast lmaooo\\n\\n'}, {'utc_date': '2023-07-11T07:43:13+00:00', 'score': '10 points', 'subreddit': 'NoJumper', 'permalink': 'https://old.reddit.com/r/NoJumper/comments/14wfuhh/yuriy_whered_you_meet_rylee/jrid2hp/', 'text': 'stay strong brother\\n\\n'}, {'utc_date': '2023-07-11T04:03:41+00:00', 'score': '3 points', 'subreddit': 'NoJumper', 'permalink': 'https://old.reddit.com/r/NoJumper/comments/14wceuk/just_saw_this_and_it_pissed_me_off_is_it_because/jrhucwu/', 'text': 'pretty sure she moved in with him as soon as they started dating so that just shows she really ain’t got nowhere else to go\\n\\n'}, {'utc_date': '2023-07-11T03:58:45+00:00', 'score': '9 points', 'subreddit': 'NoJumper', 'permalink': 'https://old.reddit.com/r/NoJumper/comments/14we5ed/potlord_aka_spliffmode_got_drunk_and_is_saying/jrhtuj2/', 'text': 'Please fire this lame again Blazzy he making y’all look bad\\n\\n'}, {'utc_date': '2023-07-11T03:53:39+00:00', 'score': '1 point', 'subreddit': 'NoJumper', 'permalink': 'https://old.reddit.com/r/NoJumper/comments/14tld1y/adam_has_no_reason_to_make_those_comments_about/jrhtavs/', 'text': 'fr ungrateful ass mfs\\n\\n'}, {'utc_date': '2023-07-11T03:44:42+00:00', 'score': '-2 points', 'subreddit': 'NoJumper', 'permalink': 'https://old.reddit.com/r/NoJumper/comments/14w8qg6/yall_think_trell_feel_some_type_of_way_that_adam/jrhscka/', 'text': 'I remember all the jerkers at my high school used to wear last kings but that’s about it\\n\\n'}, {'utc_date': '2023-07-10T21:47:56+00:00', 'score': '32 points', 'subreddit': 'NoJumper', 'permalink': 'https://old.reddit.com/r/NoJumper/comments/14w5hf9/flakko_says_trev_would_beat_yuriy_in_a_fight/jrgieq8/', 'text': 'White boys smoke weed and start thinking they from the streets\\n\\n'}, {'utc_date': '2023-07-09T05:50:35+00:00', 'score': '4 points', 'subreddit': 'NoJumper', 'permalink': 'https://old.reddit.com/r/NoJumper/comments/14ujvxx/rylee_thinks_booking_a_hotel_with_yuriys_money_is/jr8uqi2/', 'text': 'the way sandman look at her when she says she gets called a jobless loser had me weak 💀\\n\\n'}, {'utc_date': '2023-07-09T05:48:11+00:00', 'score': '3 points', 'subreddit': 'NoJumper', 'permalink': 'https://old.reddit.com/r/NoJumper/comments/14ujvxx/rylee_thinks_booking_a_hotel_with_yuriys_money_is/jr8uj5i/', 'text': 'him and toke were saying that’s how Jason luv was clapping Lena 💀💀💀\\n\\n'}, {'utc_date': '2023-07-09T04:33:06+00:00', 'score': '3 points', 'subreddit': 'NoJumper', 'permalink': 'https://old.reddit.com/r/NoJumper/comments/14uoxw8/tokes_homie_sandman_and_vell_run_the_fade_after/jr8npqe/', 'text': 'NOW ITS TIME TO RUMBLEEEEEE\\n\\n'}, {'utc_date': '2023-07-09T03:55:02+00:00', 'score': '-6 points', 'subreddit': 'NoJumper', 'permalink': 'https://old.reddit.com/r/NoJumper/comments/14umi4h/now_that_yurine_and_crylee_both_no_longer_work/jr8jthx/', 'text': \"so you'd prefer posts about.. Court?\\n\\n\"}, {'utc_date': '2023-07-09T00:25:56+00:00', 'score': '34 points', 'subreddit': 'NoJumper', 'permalink': 'https://old.reddit.com/r/NoJumper/comments/14ujvxx/rylee_thinks_booking_a_hotel_with_yuriys_money_is/jr7vw5s/', 'text': 'Fr she was letting it all out talking crazy about the stream until he walked back in and she shut up 💀\\n\\n'}, {'utc_date': '2023-07-09T00:14:14+00:00', 'score': '57 points', 'subreddit': 'NoJumper', 'permalink': 'https://old.reddit.com/r/NoJumper/comments/14ujhir/rylee_crashing_out/jr7ugex/', 'text': 'Girl on the left sitting there quietly judging tf outta rylees messy ass\\n\\n'}, {'utc_date': '2023-07-08T20:16:32+00:00', 'score': '12 points', 'subreddit': 'NoJumper', 'permalink': 'https://old.reddit.com/r/NoJumper/comments/14u9cnn/rylee_roasting_yuriys_fans_for_watching_him_lol/jr6yq15/', 'text': 'Her unemployed ass just tried to roast people for having a job?\\n\\n'}, {'utc_date': '2023-07-08T02:20:02+00:00', 'score': '72 points', 'subreddit': 'NoJumper', 'permalink': 'https://old.reddit.com/r/NoJumper/comments/14tnp1j/whos_wrong_here/jr3sy5v/', 'text': 'Yuriy got that 40k and suddenly he don’t give af about NJ or his girl anymore 💀💀💀 next he’s gonna crash out on blazzy just watch 💯\\n\\n'}, {'utc_date': '2023-07-08T02:16:57+00:00', 'score': '92 points', 'subreddit': 'NoJumper', 'permalink': 'https://old.reddit.com/r/NoJumper/comments/14tnp1j/whos_wrong_here/jr3slm5/', 'text': 'Idk man yelling at your girl in public like this in front of everyone just shows you ain’t got no respect for her anymore shits dead\\n\\n'}]\n",
      "22\n"
     ]
    }
   ],
   "source": [
    "comments = []\n",
    "comment_count = 0\n",
    "spans = []\n",
    "score = \"\"\n",
    "score_hidden = \"\"\n",
    "date_format = \"%Y-%m-%dT%H:%M:%S%z\"\n",
    "\n",
    "for comment in soup.find_all('div', class_='comment'):\n",
    "    utc_date = comment.find('time', class_=\"live-timestamp\")['datetime']\n",
    "    utc_date = datetime.datetime.strptime(utc_date, date_format)\n",
    "    utc_date = utc_date.isoformat()\n",
    "    spans = comment.find('span', class_='score unvoted')\n",
    "    if spans is not None:\n",
    "        score = spans.text\n",
    "    else:\n",
    "        score = comment.find('span', class_='score-hidden').text\n",
    "    subreddit = comment.find('a', class_=\"subreddit\").text\n",
    "    permalink = comment.find('a', class_=\"bylink\")['href']\n",
    "    text = comment.find('div', class_='md-container').text\n",
    "    comment_data = {\n",
    "        'utc_date': utc_date,\n",
    "        'score': score,\n",
    "        'subreddit': subreddit,\n",
    "        'permalink': permalink,\n",
    "        'text': text\n",
    "    }\n",
    "    comments.append(comment_data)\n",
    "    comment_count += 1\n",
    "\n",
    "print(comments)\n",
    "print(comment_count)"
   ]
  },
  {
   "attachments": {},
   "cell_type": "markdown",
   "metadata": {},
   "source": [
    "### Posts"
   ]
  },
  {
   "cell_type": "code",
   "execution_count": 77,
   "metadata": {},
   "outputs": [
    {
     "name": "stdout",
     "output_type": "stream",
     "text": [
      "<div class=\"thing id-t3_1558pmd over18 linkflair odd link\" data-author=\"Normal-Will4837\" data-author-fullname=\"t2_ocn76gdx\" data-comments-count=\"7\" data-context=\"listing\" data-domain=\"i.redd.it\" data-fullname=\"t3_1558pmd\" data-gildings=\"0\" data-is-gallery=\"false\" data-nsfw=\"true\" data-num-crossposts=\"0\" data-oc=\"false\" data-permalink=\"/r/NoJumper/comments/1558pmd/wait_until_blazzy_see_this_on_etsy/\" data-promoted=\"false\" data-rank=\"\" data-score=\"42\" data-spoiler=\"false\" data-subreddit=\"NoJumper\" data-subreddit-fullname=\"t5_3c1lr\" data-subreddit-prefixed=\"r/NoJumper\" data-subreddit-type=\"public\" data-timestamp=\"1689900378000\" data-type=\"link\" data-url=\"https://i.redd.it/01eoww0gt7db1.jpg\" data-whitelist-status=\"\" id=\"thing_t3_1558pmd\" onclick=\"click_thing(this)\"><p class=\"parent\"></p><span class=\"rank\"></span><div class=\"midcol unvoted\"><div aria-label=\"upvote\" class=\"arrow up login-required access-required\" data-event-action=\"upvote\" role=\"button\" tabindex=\"0\"></div><div class=\"score dislikes\" title=\"41\">41</div><div class=\"score unvoted\" title=\"42\">42</div><div class=\"score likes\" title=\"43\">43</div><div aria-label=\"downvote\" class=\"arrow down login-required access-required\" data-event-action=\"downvote\" role=\"button\" tabindex=\"0\"></div></div><a class=\"thumbnail invisible-when-pinned nsfw may-blank outbound\" data-event-action=\"thumbnail\" data-href-url=\"https://i.redd.it/01eoww0gt7db1.jpg\" data-outbound-expiration=\"0\" data-outbound-url=\"https://i.redd.it/01eoww0gt7db1.jpg\" href=\"https://i.redd.it/01eoww0gt7db1.jpg\" rel=\"nofollow ugc\"></a><div class=\"entry unvoted\"><div class=\"top-matter\"><p class=\"title\"><a class=\"title may-blank outbound\" data-event-action=\"title\" data-href-url=\"https://i.redd.it/01eoww0gt7db1.jpg\" data-outbound-expiration=\"0\" data-outbound-url=\"https://i.redd.it/01eoww0gt7db1.jpg\" href=\"https://i.redd.it/01eoww0gt7db1.jpg\" rel=\"nofollow ugc\" tabindex=\"1\">Wait until Blazzy see this on Etsy</a> <span class=\"domain\">(<a href=\"/domain/i.redd.it/\">i.redd.it</a>)</span></p><div class=\"expando-button collapsed hide-when-pinned video\"></div><p class=\"tagline\">submitted <time class=\"live-timestamp\" datetime=\"2023-07-21T00:46:18+00:00\" title=\"Fri Jul 21 00:46:18 2023 UTC\">14 hours ago</time> by <a class=\"author may-blank id-t2_ocn76gdx\" href=\"https://old.reddit.com/user/Normal-Will4837\">Normal-Will4837</a><span class=\"userattrs\"></span> to <a class=\"subreddit hover may-blank\" href=\"https://old.reddit.com/r/NoJumper/\">r/NoJumper</a><span class=\"awardings-bar\" data-subredditpath=\"/r/NoJumper/\"></span></p><ul class=\"flat-list buttons\"><li><span class=\"nsfw-stamp stamp\"><acronym title=\"Adult content: Not Safe For Work\">NSFW</acronym></span></li><li class=\"first\"><a class=\"bylink comments may-blank\" data-event-action=\"comments\" href=\"https://old.reddit.com/r/NoJumper/comments/1558pmd/wait_until_blazzy_see_this_on_etsy/\" rel=\"nofollow\">7 comments</a></li><li class=\"share\"><a class=\"post-sharing-button\" href=\"javascript: void 0;\">share</a></li><li class=\"link-save-button save-button login-required\"><a href=\"#\">save</a></li><li><form action=\"/post/hide\" class=\"state-button hide-button\" method=\"post\"><input name=\"executed\" type=\"hidden\" value=\"hidden\"/><span><a class=\"\" data-event-action=\"hide\" href=\"javascript:void(0)\" onclick=\"change_state(this, 'hide', hide_thing);\">hide</a></span></form></li><li class=\"report-button login-required\"><a class=\"reportbtn access-required\" data-event-action=\"report\" href=\"javascript:void(0)\">report</a></li></ul><div class=\"reportform report-t3_1558pmd\"></div></div><div class=\"expando expando-uninitialized\" data-cachedhtml=' &lt;div class=\"media-preview\" id=\"media-preview-1558pmd\" style=\"max-width: 779px\"&gt; &lt;div class=\"media-preview-content\"&gt; &lt;a href=\"https://i.redd.it/01eoww0gt7db1.jpg\" class=\"may-blank post-link\"&gt; &lt;img class=\"preview\" src=\"https://preview.redd.it/01eoww0gt7db1.jpg?width=779&amp;amp;auto=webp&amp;amp;s=6487b32c817aaa12f74d73cdbf4139390164ca92\" width=\"779\" height=\"768\"&gt; &lt;img class=\"censored-preview\" src=\"https://preview.redd.it/01eoww0gt7db1.jpg?width=779&amp;amp;blur=40&amp;amp;format=pjpg&amp;amp;auto=webp&amp;amp;s=e6a12ef4d7bb192b13feedd4bc5ecd88decfd66e\" width=\"779\" height=\"768\"&gt; &lt;/a&gt; &lt;/div&gt; &lt;/div&gt; ' data-pin-condition=\"function() {return this.style.display != 'none';}\" style=\"display: none\"><span class=\"error\">loading...</span></div></div><div class=\"child\"></div><div class=\"clearleft\"></div></div>\n",
      "<div class=\"thing id-t3_14uoxw8 linkflair even link\" data-author=\"Normal-Will4837\" data-author-fullname=\"t2_ocn76gdx\" data-comments-count=\"21\" data-context=\"listing\" data-domain=\"v.redd.it\" data-fullname=\"t3_14uoxw8\" data-gildings=\"0\" data-is-gallery=\"false\" data-kind=\"video\" data-nsfw=\"false\" data-num-crossposts=\"0\" data-oc=\"false\" data-permalink=\"/r/NoJumper/comments/14uoxw8/tokes_homie_sandman_and_vell_run_the_fade_after/\" data-promoted=\"false\" data-rank=\"\" data-score=\"19\" data-spoiler=\"false\" data-subreddit=\"NoJumper\" data-subreddit-fullname=\"t5_3c1lr\" data-subreddit-prefixed=\"r/NoJumper\" data-subreddit-type=\"public\" data-timestamp=\"1688877029000\" data-type=\"link\" data-url=\"https://v.redd.it/nydgldyaavab1\" data-whitelist-status=\"\" id=\"thing_t3_14uoxw8\" onclick=\"click_thing(this)\"><p class=\"parent\"></p><span class=\"rank\"></span><div class=\"midcol unvoted\"><div aria-label=\"upvote\" class=\"arrow up login-required access-required\" data-event-action=\"upvote\" role=\"button\" tabindex=\"0\"></div><div class=\"score dislikes\" title=\"18\">18</div><div class=\"score unvoted\" title=\"19\">19</div><div class=\"score likes\" title=\"20\">20</div><div aria-label=\"downvote\" class=\"arrow down login-required access-required\" data-event-action=\"downvote\" role=\"button\" tabindex=\"0\"></div></div><a class=\"thumbnail invisible-when-pinned default may-blank outbound\" data-event-action=\"thumbnail\" data-href-url=\"https://v.redd.it/nydgldyaavab1\" data-outbound-expiration=\"0\" data-outbound-url=\"https://v.redd.it/nydgldyaavab1\" href=\"https://v.redd.it/nydgldyaavab1\" rel=\"nofollow nofollow ugc\"></a><div class=\"entry unvoted\"><div class=\"top-matter\"><p class=\"title\"><a class=\"title may-blank outbound\" data-event-action=\"title\" data-href-url=\"https://v.redd.it/nydgldyaavab1\" data-outbound-expiration=\"0\" data-outbound-url=\"https://v.redd.it/nydgldyaavab1\" href=\"https://v.redd.it/nydgldyaavab1\" rel=\"nofollow nofollow ugc\" tabindex=\"1\">Toke’s homie Sandman and Vell run the fade after Vell’s girl butts her head in Sandman and his girls drama and gets called a nosey bitch (Allegedly)</a> <span class=\"domain\">(<a href=\"/domain/v.redd.it/\">v.redd.it</a>)</span></p><div class=\"expando-button collapsed hide-when-pinned video\"></div><p class=\"tagline\">submitted <time class=\"live-timestamp\" datetime=\"2023-07-09T04:30:29+00:00\" title=\"Sun Jul 9 04:30:29 2023 UTC\">12 days ago</time> by <a class=\"author may-blank id-t2_ocn76gdx\" href=\"https://old.reddit.com/user/Normal-Will4837\">Normal-Will4837</a><span class=\"userattrs\"></span> to <a class=\"subreddit hover may-blank\" href=\"https://old.reddit.com/r/NoJumper/\">r/NoJumper</a><span class=\"awardings-bar\" data-subredditpath=\"/r/NoJumper/\"></span></p><ul class=\"flat-list buttons\"><li class=\"first\"><a class=\"bylink comments may-blank\" data-event-action=\"comments\" href=\"https://old.reddit.com/r/NoJumper/comments/14uoxw8/tokes_homie_sandman_and_vell_run_the_fade_after/\" rel=\"nofollow\">21 comments</a></li><li class=\"share\"><a class=\"post-sharing-button\" href=\"javascript: void 0;\">share</a></li><li class=\"link-save-button save-button login-required\"><a href=\"#\">save</a></li><li><form action=\"/post/hide\" class=\"state-button hide-button\" method=\"post\"><input name=\"executed\" type=\"hidden\" value=\"hidden\"/><span><a class=\"\" data-event-action=\"hide\" href=\"javascript:void(0)\" onclick=\"change_state(this, 'hide', hide_thing);\">hide</a></span></form></li><li class=\"report-button login-required\"><a class=\"reportbtn access-required\" data-event-action=\"report\" href=\"javascript:void(0)\">report</a></li></ul><div class=\"reportform report-t3_14uoxw8\"></div></div><div class=\"expando expando-uninitialized\" data-cachedhtml=\" &lt;div class=&quot;media-preview no-constraints-when-pinned&quot; id=&quot;media-preview-14uoxw8&quot; style=&quot;max-width: 864.0px; min-width: 486px; max-height: 486px; min-height: 273px; overflow: hidden;&quot; &gt; &lt;div class=&quot;media-preview-content video-player&quot;&gt; &lt;div class=&quot;no-constraints-when-pinned&quot; style=&quot;max-width: 864.0px; min-width: 486px; max-height: 486px; min-height: 273px&quot; &gt; &lt;div id=&quot;video-14uoxw8&quot; class=&quot;landscape&quot; data-hls-url=&quot;https://v.redd.it/nydgldyaavab1/HLSPlaylist.m3u8?a=1692544613%2CNTM5MDUxOGQ5M2YzYWUxZjEzMzk4YWYwMzZlOTg4NjU4YjBhY2IyNWE3ZjI1MDhlOTljMmUxYzhlZGViNTU1OQ%3D%3D&amp;amp;v=1&amp;amp;f=sd&quot; data-id-36=&quot;14uoxw8&quot; data-link-url=&quot;/r/NoJumper/comments/14uoxw8/tokes_homie_sandman_and_vell_run_the_fade_after/&quot; data-mpd-url=&quot;https://v.redd.it/nydgldyaavab1/DASHPlaylist.mpd?a=1692544613%2CYjM2NTUxYzgwMTE2MjI2MTgyNmUxNDJlM2EzOWMwYjU0MGMyMTE2OTRlZGRlNmFmOWNmOTJjOTVmNWNiNzcxYw%3D%3D&amp;amp;v=1&amp;amp;f=sd&quot; data-obfuscated-poster-url=&quot;&quot; data-orientation=&quot;landscape&quot; data-seek-preview-url=&quot;https://v.redd.it/nydgldyaavab1/DASH_96.mp4&quot; data-video-height=&quot;486&quot; data-video-width=&quot;864.0&quot; data-pinned-height=&quot;135&quot; data-pinned-width=&quot;240.0&quot; data-max-pinned-width=&quot;240&quot; data-is-gif=&quot;false&quot; &gt;&lt;/div&gt; &lt;script type=&quot;text/javascript&quot;&gt; (function() { var thing = {&quot;obfuscatedPosterUrl&quot;: null, &quot;context&quot;: &quot;listing&quot;, &quot;isGif&quot;: false}; var autoplay = true; if (thing.obfuscatedPosterUrl){ autoplay = false; } if (r.config &amp;&amp; !r.config.pref_video_autoplay &amp;&amp; thing.context === &quot;comments&quot;) { autoplay = false; } var play_pause_click_action = autoplay ? &quot;pause&quot; : &quot;play&quot;; var play_pause_click_toggle_action = autoplay ? &quot;play&quot; : &quot;pause&quot;; var play_pause_vector_from = autoplay ? &quot;m5,5l15,7.5l0,15l-15,7.5l0,-30m15,7.5l15,7.5l0,0l-15,7.5l0,-15&quot; : &quot;m5,5l12,0l0,30l-12,0l0,-30m18,0l12,0l0,30l-12,0l0,-30&quot;; var play_pause_vector_to = autoplay ? &quot;m5,5l12,0l0,30l-12,0l0,-30m18,0l12,0l0,30l-12,0l0,-30&quot; : &quot;m5,5l15,7.5l0,15l-15,7.5l0,-30m15,7.5l15,7.5l0,0l-15,7.5l0,-15&quot;; var videoPlayerElement = $(&quot;#video-14uoxw8&quot;); var isMobile = r.utils.isMobile(); var canPlayDash = (typeof (window.MediaSource || window.WebKitMediaSource) === &quot;function&quot;); var videoOptions = { id: videoPlayerElement.data(&quot;id36&quot;), linkUrl: videoPlayerElement.data(&quot;linkUrl&quot;), src: canPlayDash ? videoPlayerElement.data(&quot;mpdUrl&quot;) : videoPlayerElement.data(&quot;hlsUrl&quot;), type: canPlayDash ? RedditVideoPlayer.Types.MPD : RedditVideoPlayer.Types.HLS, autoplay: autoplay, poster: null, loop: false, orientation: videoPlayerElement.data(&quot;orientation&quot;), }; if (isMobile) { videoOptions.enableStorage = false; videoOptions.uiControls = false; if (thing.isGif) { videoOptions.clickAction = RedditVideoPlayer.ClickActions.NONE; } else { videoOptions.controls = true; } } var redditVideoPlayer = new RedditVideoPlayer(videoPlayerElement, videoOptions); videoPlayerElement.data(&quot;video-player-object&quot;, redditVideoPlayer); redditVideoPlayer.setAspectRatio(videoPlayerElement.data(&quot;videoHeight&quot;) / videoPlayerElement.data(&quot;videoWidth&quot;)); if (!isMobile) { var bufferingControlsTree = $.parseHTML( '&lt;div class=&quot;buffering-controls&quot;&gt;' + '&lt;div class=&quot;centered horizontal&quot;&gt;' + '&lt;div class=&quot;buffering-indicator active&quot;&gt;' + '&lt;div class=&quot;spinner-layer&quot;&gt;' + '&lt;div class=&quot;circle-clipper left&quot;&gt;' + '&lt;div class=&quot;circle&quot;&gt;&lt;/div&gt;' + '&lt;/div&gt;' + '&lt;div class=&quot;gap-patch&quot;&gt;' + '&lt;div class=&quot;circle&quot;&gt;&lt;/div&gt;' + '&lt;/div&gt;' + '&lt;div class=&quot;circle-clipper right&quot;&gt;' + '&lt;div class=&quot;circle&quot;&gt;&lt;/div&gt;' + '&lt;/div&gt;' + '&lt;/div&gt;' + '&lt;/div&gt;' + '&lt;/div&gt;' + '&lt;/div&gt;' ); var bufferingControlsOptions = { behavior: RedditVideoController.Behaviors.BUFFERING, startVisible: false, fadeInDuration: 0, fadeOutDuration: 0, }; var bufferingControls = new RedditVideoController(bufferingControlsTree, bufferingControlsOptions); redditVideoPlayer.addUiController(bufferingControls); var endedControlsTree = $.parseHTML( '&lt;div class=&quot;ended-controls hide-when-pinned&quot;&gt;' + '&lt;div class=&quot;centered vertical&quot;&gt;' + '&lt;button data-control-type=&quot;click&quot; data-action=&quot;replay&quot;&gt;' + '&lt;img src=&quot;//www.redditstatic.com/video-refresh.svg&quot; &gt;' + '&lt;/button&gt;' + '&lt;span class=&quot;replay-video&quot;&gt;Replay Video&lt;/span&gt;' + '&lt;/div&gt;' + '&lt;/div&gt;' ); var endedControlsOptions = { behavior: RedditVideoController.Behaviors.COMPLETED, startVisible: false, fadeInDuration: 400, fadeOutDuration: 0, }; var endedControls = new RedditVideoController(endedControlsTree, endedControlsOptions); redditVideoPlayer.addUiController(endedControls); var playbackControlsTree = $.parseHTML( '&lt;div class=&quot;playback-controls right bottom left hide-when-pinned&quot;&gt;' + '&lt;a class=&quot;control-button permalink&quot; ' + 'tooltip-string=&quot;View post on Reddit&quot;' + 'data-control-type=&quot;click&quot; ' + 'href=&quot;/r/NoJumper/comments/14uoxw8/tokes_homie_sandman_and_vell_run_the_fade_after/&quot;&gt;' + '&lt;img src=&quot;//www.redditstatic.com/video-snoo.svg&quot; /&gt;' + '&lt;/a&gt;' + '&lt;button ' + 'class=&quot;control-button play-pause&quot; ' + 'tooltip-string=&quot;Pause&quot;' + 'tooltip-string-toggle=&quot;Play&quot; ' + 'data-control-type=&quot;click&quot; ' + 'data-action=&quot;' + play_pause_click_action + '&quot; ' + 'data-toggle-action=&quot;' + play_pause_click_toggle_action + '&quot;&gt;' + '&lt;svg class=&quot;play-pause&quot; viewbox=&quot;0 0 40 40&quot;&gt;' + '&lt;path d=&quot;' + play_pause_vector_to + '&quot;&gt;' + '&lt;animate ' + 'begin=&quot;indefinite&quot; ' + 'attributeType=&quot;XML&quot; ' + 'attributeName=&quot;d&quot; ' + 'fill=&quot;freeze&quot; ' + 'to=&quot;' + play_pause_vector_to + '&quot; ' + 'from=&quot;' + play_pause_vector_from + '&quot; ' + 'dur=&quot;0.1s&quot; ' + 'keySplines=&quot;.4 0 1 1&quot; ' + 'repeat=&quot;1&quot;&gt;' + '&lt;/animate&gt;' + '&lt;/path&gt;' + '&lt;/svg&gt;' + '&lt;/button&gt;' + '&lt;span class=&quot;time-label&quot; ' + 'data-control-type=&quot;text&quot; ' + 'data-action=&quot;elapsedTime&quot;&gt;' + '0:00' + '&lt;/span&gt;' + '&lt;div data-control-type=&quot;seekBar&quot; ' + 'data-preview-video-src=&quot;' + videoPlayerElement.data('seekPreviewUrl') + '&quot;&gt;' + '&lt;/div&gt;' + '&lt;span class=&quot;time-label&quot; ' + 'data-control-type=&quot;text&quot; ' + 'data-action=&quot;totalTime&quot;&gt;' + '0:00' + '&lt;/span&gt;' + '&lt;div class=&quot;control-button volume-container&quot;&gt;' + '&lt;div data-control-type=&quot;volumeSlider&quot;&gt;&lt;/div&gt;' + '&lt;button class=&quot;volume&quot; data-control-type=&quot;click&quot; data-action=&quot;unmute&quot; data-toggle-action=&quot;mute&quot;&gt;' + '&lt;img class=&quot;mute&quot; src=&quot;//www.redditstatic.com/video-volume.svg&quot;&gt;' + '&lt;img class=&quot;unmute&quot; src=&quot;//www.redditstatic.com/video-mute.svg&quot;&gt;' + '&lt;/button&gt;' + '&lt;/div&gt;' + '&lt;div class=&quot;control-button settings-container&quot; ' + 'tooltip-string=&quot;Settings&quot;&gt;' + '&lt;label class=&quot;settings has-submenu&quot; data-control-type=&quot;click&quot;&gt;' + '&lt;input class=&quot;settings&quot; type=&quot;checkbox&quot;&gt;' + '&lt;img class=&quot;settings-open&quot; src=&quot;//www.redditstatic.com/video-settings.svg&quot;&gt;' + '&lt;img class=&quot;settings-close&quot; src=&quot;//www.redditstatic.com/video-settings-open.svg&quot;&gt;' + '&lt;span class=&quot;submenu&quot;&gt;' + '&lt;div data-control-type=&quot;settingsMenu&quot;&gt;&lt;/div&gt;' + '&lt;/span&gt;' + '&lt;/label&gt;' + '&lt;/div&gt;' + '&lt;button class=&quot;control-button fullscreen&quot; ' + 'tooltip-string=&quot;Fullscreen&quot;' + 'tooltip-string-toggle=&quot;Exit Fullscreen&quot; ' + 'data-control-type=&quot;click&quot; ' + 'data-action=&quot;fullscreenRequest&quot; ' + 'data-toggle-action=&quot;fullscreenCancel&quot;&gt;' + '&lt;img class=&quot;expand&quot; src=&quot;//www.redditstatic.com/video-expand.svg&quot;&gt;' + '&lt;img class=&quot;collapse&quot; src=&quot;//www.redditstatic.com/video-collapse.svg&quot;&gt;' + '&lt;/button&gt;' + '&lt;/div&gt;' ); var playbackControlsOptions = { behavior: RedditVideoController.Behaviors.MOUSE_MOVE, }; var playbackControls = new RedditVideoController(playbackControlsTree, playbackControlsOptions); redditVideoPlayer.addUiController(playbackControls); if (r.config &amp;&amp; !r.config.pref_video_autoplay &amp;&amp; thing.context === &quot;comments&quot;) { var interstitialControlsTree = $.parseHTML( '&lt;div class=&quot;interstitial-controls hide-when-pinned&quot;&gt;' + '&lt;div class=&quot;centered vertical&quot;&gt;' + '&lt;button data-control-type=&quot;click&quot; data-action=&quot;play&quot;&gt;' + '&lt;svg class=&quot;play-pause&quot; viewbox=&quot;0 0 36 36&quot;&gt;' + '&lt;path d=&quot;m5,5l15,7.5l0,15l-15,7.5l0,-30m15,7.5l15,7.5l0,0l-15,7.5l0,-15&quot;&gt;&lt;/path&gt;' + '&lt;/svg&gt;' + '&lt;/button&gt;' + '&lt;/div&gt;' + '&lt;/div&gt;' ); var interstitialControlsOptions = { behavior: RedditVideoController.Behaviors.INTERSTITIAL, startVisible: true, fadeInDuration: 0, fadeOutDuration: 400, }; var interstitialControls = new RedditVideoController(interstitialControlsTree, interstitialControlsOptions); redditVideoPlayer.addUiController(interstitialControls); } $(playbackControlsTree).find('input.settings').change(function() { if ($(this).is(':checked')) { firePlayerEvent.call(redditVideoPlayer, null, null, {verb: 'click', noun: 'settings'}); redditVideoPlayer.setClickAction(RedditVideoPlayer.ClickActions.NONE); } else { redditVideoPlayer.setClickAction(RedditVideoPlayer.ClickActions.PLAY_PAUSE); } }); } if (isMobile &amp;&amp; thing.isGif) { $(videoPlayerElement).find(&quot;video&quot;).bind(&quot;webkitendfullscreen&quot;, function() { this.play(); }); redditVideoPlayer.mute(); } $(document.body).on(&quot;interstitial:destroy&quot;, function(event) { if (&quot;t3_14uoxw8&quot; == event.expando.id) { redditVideoPlayer.play(); } }); var parent = $(&quot;#media-preview-14uoxw8&quot;).parent(); var hadInterstitial = parent.hasClass(&quot;expando&quot;) &amp;&amp; !(parent.hasClass(&quot;expando--with-interstitial&quot;)) &amp;&amp; !(parent.hasClass(&quot;expando-uninitialized&quot;)) &amp;&amp; &quot;&quot; != &quot;&quot;; if (hadInterstitial &amp;&amp; !isMobile) { $(videoPlayerElement).find(&quot;video&quot;)[0].addEventListener(&quot;canplay&quot;, function() { redditVideoPlayer.play(); }) } var playPauseButtons = $(videoPlayerElement).find(&quot;button.play-pause&quot;); var isPlaying = autoplay; redditVideoPlayer.addActionCompletedCallback(function(action, value) { if ((action == RedditVideoPlayer.Actions.PLAY &amp;&amp; !isPlaying) || (action == RedditVideoPlayer.Actions.PAUSE &amp;&amp; isPlaying)) { playPauseButtons.each(function() { var animation = $(this).find('animate').first(); var to = animation.attr('to'); var from = animation.attr('from'); animation.attr({ &quot;from&quot;: to, &quot;to&quot;: from }); if ('beginElement' in animation[0]) { animation.get(0) .beginElement(); } else { var path = $(this).find('path'); path.attr({&quot;d&quot;: from}); } }); isPlaying = !isPlaying; } else if (action == RedditVideoPlayer.Actions.NONE &amp;&amp; thing.isGif &amp;&amp; isMobile) { redditVideoPlayer.toggleFullScreen(); return; } var settings = $(playbackControlsTree).find(&quot;input.settings&quot;); if (settings.prop(&quot;checked&quot;)) { settings.prop(&quot;checked&quot;, false); redditVideoPlayer.setClickAction(RedditVideoPlayer.ClickActions.PLAY_PAUSE); } }); var postElement = videoPlayerElement.closest('.thing.link'); r.analytics.observeAdVideoPlayer(postElement, videoPlayerElement); redditVideoPlayer.addActionCompletedCallback(function(action, value) { var actions = [ RedditVideoPlayer.Actions.BUFFERING, RedditVideoPlayer.Actions.PAUSE, RedditVideoPlayer.Actions.PLAYING, RedditVideoPlayer.Actions.REPLAY, RedditVideoPlayer.Actions.SEEK_JUMP, RedditVideoPlayer.Actions.SET_CURRENT_TIME, RedditVideoPlayer.Actions.FULLSCREEN_REQUEST, RedditVideoPlayer.Actions.FULLSCREEN_CANCEL, RedditVideoPlayer.Actions.UNMUTE, RedditVideoPlayer.Actions.MUTE, RedditVideoPlayer.Actions.SET_VOLUME, RedditVideoPlayer.Actions.DURATION_CHANGE, ]; if (actions.indexOf(action) &gt; -1) { var targetElement = $(this.root).closest('.thing.link'); var playerData = { muted: redditVideoPlayer.muted, volume: redditVideoPlayer.volume, duration: redditVideoPlayer.duration, }; r.analytics.handleVideoAdEvent(action, value, playerData, targetElement); } }); var lastTime = 0; redditVideoPlayer.addTimeUpdateHandler(function(currentTime, duration) { var targetElement = $(this.root).closest('.thing.link'); var INTERVAL = 0.5; var timeDiff = currentTime - lastTime; lastTime = currentTime; if (timeDiff &gt; 0 &amp;&amp; timeDiff &lt; INTERVAL) { r.analytics.handleVideoTimeUpdate(currentTime, timeDiff, duration, targetElement); } }); function firePlayerEvent(action, value, extras) { extras = (typeof extras === 'object') ? extras : {}; var verb = extras.verb || ''; var noun = extras.noun || ''; var source = extras.source || 'videoplayer'; var maxTimestamp = this.maxPlayed * 1000; var durationMs = this.duration * 1000; var timeMs = this.currentTime * 1000; var pinnableElement = $(this.root).closest('.pinnable-content'); var targetElement = $(this.root).closest('.thing.link'); var targetData = targetElement.data(); var videoState = { maxTimestampServed: parseInt(maxTimestamp), percentServed: maxTimestamp / durationMs, duration: parseInt(durationMs), time: parseInt(timeMs), isNsfw: targetElement.hasClass('over18'), isSpoiler: targetElement.hasClass('spoiler'), isPinned: pinnableElement.hasClass('pinned'), isVertical: this.orientation === RedditVideoPlayer.Orientations.PORTRAIT, firstFrameTime: this.firstFrameTime, loadStartTime: this.loadStartTime, }; r.analytics.videoPlayerEvent(source, verb, noun, targetData, videoState); } redditVideoPlayer.addActionCompletedCallback(firePlayerEvent); $(playbackControlsTree).find('a.permalink').click(function() { firePlayerEvent.call(redditVideoPlayer, null, null, {verb: 'click', noun: 'snoo'}); }); })(); &lt;/script&gt; &lt;/div&gt; &lt;/div&gt; &lt;/div&gt; \" data-pin-condition=\"function() {return this.style.display != 'none';}\" style=\"display: none\"><span class=\"error\">loading...</span></div></div><div class=\"child\"></div><div class=\"clearleft\"></div></div>\n",
      "<div class=\"thing id-t3_14ujvxx linkflair odd link\" data-author=\"Normal-Will4837\" data-author-fullname=\"t2_ocn76gdx\" data-comments-count=\"31\" data-context=\"listing\" data-domain=\"v.redd.it\" data-fullname=\"t3_14ujvxx\" data-gildings=\"0\" data-is-gallery=\"false\" data-kind=\"video\" data-nsfw=\"false\" data-num-crossposts=\"0\" data-oc=\"false\" data-permalink=\"/r/NoJumper/comments/14ujvxx/rylee_thinks_booking_a_hotel_with_yuriys_money_is/\" data-promoted=\"false\" data-rank=\"\" data-score=\"58\" data-spoiler=\"false\" data-subreddit=\"NoJumper\" data-subreddit-fullname=\"t5_3c1lr\" data-subreddit-prefixed=\"r/NoJumper\" data-subreddit-type=\"public\" data-timestamp=\"1688861842000\" data-type=\"link\" data-url=\"https://v.redd.it/7wocq0ca1uab1\" data-whitelist-status=\"\" id=\"thing_t3_14ujvxx\" onclick=\"click_thing(this)\"><p class=\"parent\"></p><span class=\"rank\"></span><div class=\"midcol unvoted\"><div aria-label=\"upvote\" class=\"arrow up login-required access-required\" data-event-action=\"upvote\" role=\"button\" tabindex=\"0\"></div><div class=\"score dislikes\" title=\"57\">57</div><div class=\"score unvoted\" title=\"58\">58</div><div class=\"score likes\" title=\"59\">59</div><div aria-label=\"downvote\" class=\"arrow down login-required access-required\" data-event-action=\"downvote\" role=\"button\" tabindex=\"0\"></div></div><a class=\"thumbnail invisible-when-pinned default may-blank outbound\" data-event-action=\"thumbnail\" data-href-url=\"https://v.redd.it/7wocq0ca1uab1\" data-outbound-expiration=\"0\" data-outbound-url=\"https://v.redd.it/7wocq0ca1uab1\" href=\"https://v.redd.it/7wocq0ca1uab1\" rel=\"nofollow nofollow ugc\"></a><div class=\"entry unvoted\"><div class=\"top-matter\"><p class=\"title\"><a class=\"title may-blank outbound\" data-event-action=\"title\" data-href-url=\"https://v.redd.it/7wocq0ca1uab1\" data-outbound-expiration=\"0\" data-outbound-url=\"https://v.redd.it/7wocq0ca1uab1\" href=\"https://v.redd.it/7wocq0ca1uab1\" rel=\"nofollow nofollow ugc\" tabindex=\"1\">Rylee thinks booking a hotel with Yuriys money is the same as having a job 🤦🏻‍♂️</a> <span class=\"domain\">(<a href=\"/domain/v.redd.it/\">v.redd.it</a>)</span></p><div class=\"expando-button collapsed hide-when-pinned video\"></div><p class=\"tagline\">submitted <time class=\"live-timestamp\" datetime=\"2023-07-09T00:17:22+00:00\" title=\"Sun Jul 9 00:17:22 2023 UTC\">12 days ago</time> by <a class=\"author may-blank id-t2_ocn76gdx\" href=\"https://old.reddit.com/user/Normal-Will4837\">Normal-Will4837</a><span class=\"userattrs\"></span> to <a class=\"subreddit hover may-blank\" href=\"https://old.reddit.com/r/NoJumper/\">r/NoJumper</a><span class=\"awardings-bar\" data-subredditpath=\"/r/NoJumper/\"></span></p><ul class=\"flat-list buttons\"><li class=\"first\"><a class=\"bylink comments may-blank\" data-event-action=\"comments\" href=\"https://old.reddit.com/r/NoJumper/comments/14ujvxx/rylee_thinks_booking_a_hotel_with_yuriys_money_is/\" rel=\"nofollow\">31 comments</a></li><li class=\"share\"><a class=\"post-sharing-button\" href=\"javascript: void 0;\">share</a></li><li class=\"link-save-button save-button login-required\"><a href=\"#\">save</a></li><li><form action=\"/post/hide\" class=\"state-button hide-button\" method=\"post\"><input name=\"executed\" type=\"hidden\" value=\"hidden\"/><span><a class=\"\" data-event-action=\"hide\" href=\"javascript:void(0)\" onclick=\"change_state(this, 'hide', hide_thing);\">hide</a></span></form></li><li class=\"report-button login-required\"><a class=\"reportbtn access-required\" data-event-action=\"report\" href=\"javascript:void(0)\">report</a></li></ul><div class=\"reportform report-t3_14ujvxx\"></div></div><div class=\"expando expando-uninitialized\" data-cachedhtml=\" &lt;div class=&quot;media-preview no-constraints-when-pinned&quot; id=&quot;media-preview-14ujvxx&quot; style=&quot;max-width: 864.0px; min-width: 486px; max-height: 486px; min-height: 273px; overflow: hidden;&quot; &gt; &lt;div class=&quot;media-preview-content video-player&quot;&gt; &lt;div class=&quot;no-constraints-when-pinned&quot; style=&quot;max-width: 864.0px; min-width: 486px; max-height: 486px; min-height: 273px&quot; &gt; &lt;div id=&quot;video-14ujvxx&quot; class=&quot;landscape&quot; data-hls-url=&quot;https://v.redd.it/7wocq0ca1uab1/HLSPlaylist.m3u8?a=1692544613%2CMzc1MWVmYWE2Y2U1YWQ1NmI3ZWE5MDIzMTYxOTcyZjI0ZTIzZjZmZmM4MGVhZjBkOGYyMzM4MjE0Zjk2NjlmOA%3D%3D&amp;amp;v=1&amp;amp;f=sd&quot; data-id-36=&quot;14ujvxx&quot; data-link-url=&quot;/r/NoJumper/comments/14ujvxx/rylee_thinks_booking_a_hotel_with_yuriys_money_is/&quot; data-mpd-url=&quot;https://v.redd.it/7wocq0ca1uab1/DASHPlaylist.mpd?a=1692544613%2CNjY0Y2E5OTllNGVmMzVmODk2ZWEyY2I3ZmQ4ZDVhMzQ4NjlhZjgzNTE5ZTMyMmYzODNjZmFlZDQ3NzAwMzI3MQ%3D%3D&amp;amp;v=1&amp;amp;f=sd&quot; data-obfuscated-poster-url=&quot;&quot; data-orientation=&quot;landscape&quot; data-seek-preview-url=&quot;https://v.redd.it/7wocq0ca1uab1/DASH_96.mp4&quot; data-video-height=&quot;486&quot; data-video-width=&quot;864.0&quot; data-pinned-height=&quot;135&quot; data-pinned-width=&quot;240.0&quot; data-max-pinned-width=&quot;240&quot; data-is-gif=&quot;false&quot; &gt;&lt;/div&gt; &lt;script type=&quot;text/javascript&quot;&gt; (function() { var thing = {&quot;obfuscatedPosterUrl&quot;: null, &quot;context&quot;: &quot;listing&quot;, &quot;isGif&quot;: false}; var autoplay = true; if (thing.obfuscatedPosterUrl){ autoplay = false; } if (r.config &amp;&amp; !r.config.pref_video_autoplay &amp;&amp; thing.context === &quot;comments&quot;) { autoplay = false; } var play_pause_click_action = autoplay ? &quot;pause&quot; : &quot;play&quot;; var play_pause_click_toggle_action = autoplay ? &quot;play&quot; : &quot;pause&quot;; var play_pause_vector_from = autoplay ? &quot;m5,5l15,7.5l0,15l-15,7.5l0,-30m15,7.5l15,7.5l0,0l-15,7.5l0,-15&quot; : &quot;m5,5l12,0l0,30l-12,0l0,-30m18,0l12,0l0,30l-12,0l0,-30&quot;; var play_pause_vector_to = autoplay ? &quot;m5,5l12,0l0,30l-12,0l0,-30m18,0l12,0l0,30l-12,0l0,-30&quot; : &quot;m5,5l15,7.5l0,15l-15,7.5l0,-30m15,7.5l15,7.5l0,0l-15,7.5l0,-15&quot;; var videoPlayerElement = $(&quot;#video-14ujvxx&quot;); var isMobile = r.utils.isMobile(); var canPlayDash = (typeof (window.MediaSource || window.WebKitMediaSource) === &quot;function&quot;); var videoOptions = { id: videoPlayerElement.data(&quot;id36&quot;), linkUrl: videoPlayerElement.data(&quot;linkUrl&quot;), src: canPlayDash ? videoPlayerElement.data(&quot;mpdUrl&quot;) : videoPlayerElement.data(&quot;hlsUrl&quot;), type: canPlayDash ? RedditVideoPlayer.Types.MPD : RedditVideoPlayer.Types.HLS, autoplay: autoplay, poster: null, loop: false, orientation: videoPlayerElement.data(&quot;orientation&quot;), }; if (isMobile) { videoOptions.enableStorage = false; videoOptions.uiControls = false; if (thing.isGif) { videoOptions.clickAction = RedditVideoPlayer.ClickActions.NONE; } else { videoOptions.controls = true; } } var redditVideoPlayer = new RedditVideoPlayer(videoPlayerElement, videoOptions); videoPlayerElement.data(&quot;video-player-object&quot;, redditVideoPlayer); redditVideoPlayer.setAspectRatio(videoPlayerElement.data(&quot;videoHeight&quot;) / videoPlayerElement.data(&quot;videoWidth&quot;)); if (!isMobile) { var bufferingControlsTree = $.parseHTML( '&lt;div class=&quot;buffering-controls&quot;&gt;' + '&lt;div class=&quot;centered horizontal&quot;&gt;' + '&lt;div class=&quot;buffering-indicator active&quot;&gt;' + '&lt;div class=&quot;spinner-layer&quot;&gt;' + '&lt;div class=&quot;circle-clipper left&quot;&gt;' + '&lt;div class=&quot;circle&quot;&gt;&lt;/div&gt;' + '&lt;/div&gt;' + '&lt;div class=&quot;gap-patch&quot;&gt;' + '&lt;div class=&quot;circle&quot;&gt;&lt;/div&gt;' + '&lt;/div&gt;' + '&lt;div class=&quot;circle-clipper right&quot;&gt;' + '&lt;div class=&quot;circle&quot;&gt;&lt;/div&gt;' + '&lt;/div&gt;' + '&lt;/div&gt;' + '&lt;/div&gt;' + '&lt;/div&gt;' + '&lt;/div&gt;' ); var bufferingControlsOptions = { behavior: RedditVideoController.Behaviors.BUFFERING, startVisible: false, fadeInDuration: 0, fadeOutDuration: 0, }; var bufferingControls = new RedditVideoController(bufferingControlsTree, bufferingControlsOptions); redditVideoPlayer.addUiController(bufferingControls); var endedControlsTree = $.parseHTML( '&lt;div class=&quot;ended-controls hide-when-pinned&quot;&gt;' + '&lt;div class=&quot;centered vertical&quot;&gt;' + '&lt;button data-control-type=&quot;click&quot; data-action=&quot;replay&quot;&gt;' + '&lt;img src=&quot;//www.redditstatic.com/video-refresh.svg&quot; &gt;' + '&lt;/button&gt;' + '&lt;span class=&quot;replay-video&quot;&gt;Replay Video&lt;/span&gt;' + '&lt;/div&gt;' + '&lt;/div&gt;' ); var endedControlsOptions = { behavior: RedditVideoController.Behaviors.COMPLETED, startVisible: false, fadeInDuration: 400, fadeOutDuration: 0, }; var endedControls = new RedditVideoController(endedControlsTree, endedControlsOptions); redditVideoPlayer.addUiController(endedControls); var playbackControlsTree = $.parseHTML( '&lt;div class=&quot;playback-controls right bottom left hide-when-pinned&quot;&gt;' + '&lt;a class=&quot;control-button permalink&quot; ' + 'tooltip-string=&quot;View post on Reddit&quot;' + 'data-control-type=&quot;click&quot; ' + 'href=&quot;/r/NoJumper/comments/14ujvxx/rylee_thinks_booking_a_hotel_with_yuriys_money_is/&quot;&gt;' + '&lt;img src=&quot;//www.redditstatic.com/video-snoo.svg&quot; /&gt;' + '&lt;/a&gt;' + '&lt;button ' + 'class=&quot;control-button play-pause&quot; ' + 'tooltip-string=&quot;Pause&quot;' + 'tooltip-string-toggle=&quot;Play&quot; ' + 'data-control-type=&quot;click&quot; ' + 'data-action=&quot;' + play_pause_click_action + '&quot; ' + 'data-toggle-action=&quot;' + play_pause_click_toggle_action + '&quot;&gt;' + '&lt;svg class=&quot;play-pause&quot; viewbox=&quot;0 0 40 40&quot;&gt;' + '&lt;path d=&quot;' + play_pause_vector_to + '&quot;&gt;' + '&lt;animate ' + 'begin=&quot;indefinite&quot; ' + 'attributeType=&quot;XML&quot; ' + 'attributeName=&quot;d&quot; ' + 'fill=&quot;freeze&quot; ' + 'to=&quot;' + play_pause_vector_to + '&quot; ' + 'from=&quot;' + play_pause_vector_from + '&quot; ' + 'dur=&quot;0.1s&quot; ' + 'keySplines=&quot;.4 0 1 1&quot; ' + 'repeat=&quot;1&quot;&gt;' + '&lt;/animate&gt;' + '&lt;/path&gt;' + '&lt;/svg&gt;' + '&lt;/button&gt;' + '&lt;span class=&quot;time-label&quot; ' + 'data-control-type=&quot;text&quot; ' + 'data-action=&quot;elapsedTime&quot;&gt;' + '0:00' + '&lt;/span&gt;' + '&lt;div data-control-type=&quot;seekBar&quot; ' + 'data-preview-video-src=&quot;' + videoPlayerElement.data('seekPreviewUrl') + '&quot;&gt;' + '&lt;/div&gt;' + '&lt;span class=&quot;time-label&quot; ' + 'data-control-type=&quot;text&quot; ' + 'data-action=&quot;totalTime&quot;&gt;' + '0:00' + '&lt;/span&gt;' + '&lt;div class=&quot;control-button volume-container&quot;&gt;' + '&lt;div data-control-type=&quot;volumeSlider&quot;&gt;&lt;/div&gt;' + '&lt;button class=&quot;volume&quot; data-control-type=&quot;click&quot; data-action=&quot;unmute&quot; data-toggle-action=&quot;mute&quot;&gt;' + '&lt;img class=&quot;mute&quot; src=&quot;//www.redditstatic.com/video-volume.svg&quot;&gt;' + '&lt;img class=&quot;unmute&quot; src=&quot;//www.redditstatic.com/video-mute.svg&quot;&gt;' + '&lt;/button&gt;' + '&lt;/div&gt;' + '&lt;div class=&quot;control-button settings-container&quot; ' + 'tooltip-string=&quot;Settings&quot;&gt;' + '&lt;label class=&quot;settings has-submenu&quot; data-control-type=&quot;click&quot;&gt;' + '&lt;input class=&quot;settings&quot; type=&quot;checkbox&quot;&gt;' + '&lt;img class=&quot;settings-open&quot; src=&quot;//www.redditstatic.com/video-settings.svg&quot;&gt;' + '&lt;img class=&quot;settings-close&quot; src=&quot;//www.redditstatic.com/video-settings-open.svg&quot;&gt;' + '&lt;span class=&quot;submenu&quot;&gt;' + '&lt;div data-control-type=&quot;settingsMenu&quot;&gt;&lt;/div&gt;' + '&lt;/span&gt;' + '&lt;/label&gt;' + '&lt;/div&gt;' + '&lt;button class=&quot;control-button fullscreen&quot; ' + 'tooltip-string=&quot;Fullscreen&quot;' + 'tooltip-string-toggle=&quot;Exit Fullscreen&quot; ' + 'data-control-type=&quot;click&quot; ' + 'data-action=&quot;fullscreenRequest&quot; ' + 'data-toggle-action=&quot;fullscreenCancel&quot;&gt;' + '&lt;img class=&quot;expand&quot; src=&quot;//www.redditstatic.com/video-expand.svg&quot;&gt;' + '&lt;img class=&quot;collapse&quot; src=&quot;//www.redditstatic.com/video-collapse.svg&quot;&gt;' + '&lt;/button&gt;' + '&lt;/div&gt;' ); var playbackControlsOptions = { behavior: RedditVideoController.Behaviors.MOUSE_MOVE, }; var playbackControls = new RedditVideoController(playbackControlsTree, playbackControlsOptions); redditVideoPlayer.addUiController(playbackControls); if (r.config &amp;&amp; !r.config.pref_video_autoplay &amp;&amp; thing.context === &quot;comments&quot;) { var interstitialControlsTree = $.parseHTML( '&lt;div class=&quot;interstitial-controls hide-when-pinned&quot;&gt;' + '&lt;div class=&quot;centered vertical&quot;&gt;' + '&lt;button data-control-type=&quot;click&quot; data-action=&quot;play&quot;&gt;' + '&lt;svg class=&quot;play-pause&quot; viewbox=&quot;0 0 36 36&quot;&gt;' + '&lt;path d=&quot;m5,5l15,7.5l0,15l-15,7.5l0,-30m15,7.5l15,7.5l0,0l-15,7.5l0,-15&quot;&gt;&lt;/path&gt;' + '&lt;/svg&gt;' + '&lt;/button&gt;' + '&lt;/div&gt;' + '&lt;/div&gt;' ); var interstitialControlsOptions = { behavior: RedditVideoController.Behaviors.INTERSTITIAL, startVisible: true, fadeInDuration: 0, fadeOutDuration: 400, }; var interstitialControls = new RedditVideoController(interstitialControlsTree, interstitialControlsOptions); redditVideoPlayer.addUiController(interstitialControls); } $(playbackControlsTree).find('input.settings').change(function() { if ($(this).is(':checked')) { firePlayerEvent.call(redditVideoPlayer, null, null, {verb: 'click', noun: 'settings'}); redditVideoPlayer.setClickAction(RedditVideoPlayer.ClickActions.NONE); } else { redditVideoPlayer.setClickAction(RedditVideoPlayer.ClickActions.PLAY_PAUSE); } }); } if (isMobile &amp;&amp; thing.isGif) { $(videoPlayerElement).find(&quot;video&quot;).bind(&quot;webkitendfullscreen&quot;, function() { this.play(); }); redditVideoPlayer.mute(); } $(document.body).on(&quot;interstitial:destroy&quot;, function(event) { if (&quot;t3_14ujvxx&quot; == event.expando.id) { redditVideoPlayer.play(); } }); var parent = $(&quot;#media-preview-14ujvxx&quot;).parent(); var hadInterstitial = parent.hasClass(&quot;expando&quot;) &amp;&amp; !(parent.hasClass(&quot;expando--with-interstitial&quot;)) &amp;&amp; !(parent.hasClass(&quot;expando-uninitialized&quot;)) &amp;&amp; &quot;&quot; != &quot;&quot;; if (hadInterstitial &amp;&amp; !isMobile) { $(videoPlayerElement).find(&quot;video&quot;)[0].addEventListener(&quot;canplay&quot;, function() { redditVideoPlayer.play(); }) } var playPauseButtons = $(videoPlayerElement).find(&quot;button.play-pause&quot;); var isPlaying = autoplay; redditVideoPlayer.addActionCompletedCallback(function(action, value) { if ((action == RedditVideoPlayer.Actions.PLAY &amp;&amp; !isPlaying) || (action == RedditVideoPlayer.Actions.PAUSE &amp;&amp; isPlaying)) { playPauseButtons.each(function() { var animation = $(this).find('animate').first(); var to = animation.attr('to'); var from = animation.attr('from'); animation.attr({ &quot;from&quot;: to, &quot;to&quot;: from }); if ('beginElement' in animation[0]) { animation.get(0) .beginElement(); } else { var path = $(this).find('path'); path.attr({&quot;d&quot;: from}); } }); isPlaying = !isPlaying; } else if (action == RedditVideoPlayer.Actions.NONE &amp;&amp; thing.isGif &amp;&amp; isMobile) { redditVideoPlayer.toggleFullScreen(); return; } var settings = $(playbackControlsTree).find(&quot;input.settings&quot;); if (settings.prop(&quot;checked&quot;)) { settings.prop(&quot;checked&quot;, false); redditVideoPlayer.setClickAction(RedditVideoPlayer.ClickActions.PLAY_PAUSE); } }); var postElement = videoPlayerElement.closest('.thing.link'); r.analytics.observeAdVideoPlayer(postElement, videoPlayerElement); redditVideoPlayer.addActionCompletedCallback(function(action, value) { var actions = [ RedditVideoPlayer.Actions.BUFFERING, RedditVideoPlayer.Actions.PAUSE, RedditVideoPlayer.Actions.PLAYING, RedditVideoPlayer.Actions.REPLAY, RedditVideoPlayer.Actions.SEEK_JUMP, RedditVideoPlayer.Actions.SET_CURRENT_TIME, RedditVideoPlayer.Actions.FULLSCREEN_REQUEST, RedditVideoPlayer.Actions.FULLSCREEN_CANCEL, RedditVideoPlayer.Actions.UNMUTE, RedditVideoPlayer.Actions.MUTE, RedditVideoPlayer.Actions.SET_VOLUME, RedditVideoPlayer.Actions.DURATION_CHANGE, ]; if (actions.indexOf(action) &gt; -1) { var targetElement = $(this.root).closest('.thing.link'); var playerData = { muted: redditVideoPlayer.muted, volume: redditVideoPlayer.volume, duration: redditVideoPlayer.duration, }; r.analytics.handleVideoAdEvent(action, value, playerData, targetElement); } }); var lastTime = 0; redditVideoPlayer.addTimeUpdateHandler(function(currentTime, duration) { var targetElement = $(this.root).closest('.thing.link'); var INTERVAL = 0.5; var timeDiff = currentTime - lastTime; lastTime = currentTime; if (timeDiff &gt; 0 &amp;&amp; timeDiff &lt; INTERVAL) { r.analytics.handleVideoTimeUpdate(currentTime, timeDiff, duration, targetElement); } }); function firePlayerEvent(action, value, extras) { extras = (typeof extras === 'object') ? extras : {}; var verb = extras.verb || ''; var noun = extras.noun || ''; var source = extras.source || 'videoplayer'; var maxTimestamp = this.maxPlayed * 1000; var durationMs = this.duration * 1000; var timeMs = this.currentTime * 1000; var pinnableElement = $(this.root).closest('.pinnable-content'); var targetElement = $(this.root).closest('.thing.link'); var targetData = targetElement.data(); var videoState = { maxTimestampServed: parseInt(maxTimestamp), percentServed: maxTimestamp / durationMs, duration: parseInt(durationMs), time: parseInt(timeMs), isNsfw: targetElement.hasClass('over18'), isSpoiler: targetElement.hasClass('spoiler'), isPinned: pinnableElement.hasClass('pinned'), isVertical: this.orientation === RedditVideoPlayer.Orientations.PORTRAIT, firstFrameTime: this.firstFrameTime, loadStartTime: this.loadStartTime, }; r.analytics.videoPlayerEvent(source, verb, noun, targetData, videoState); } redditVideoPlayer.addActionCompletedCallback(firePlayerEvent); $(playbackControlsTree).find('a.permalink').click(function() { firePlayerEvent.call(redditVideoPlayer, null, null, {verb: 'click', noun: 'snoo'}); }); })(); &lt;/script&gt; &lt;/div&gt; &lt;/div&gt; &lt;/div&gt; \" data-pin-condition=\"function() {return this.style.display != 'none';}\" style=\"display: none\"><span class=\"error\">loading...</span></div></div><div class=\"child\"></div><div class=\"clearleft\"></div></div>\n",
      "3\n"
     ]
    }
   ],
   "source": [
    "#Counting Posts\n",
    "post_count = 0\n",
    "for post in soup.find_all('div', class_='link'):\n",
    "    print(post)\n",
    "    post_count += 1\n",
    "print(post_count)"
   ]
  },
  {
   "cell_type": "code",
   "execution_count": 78,
   "metadata": {},
   "outputs": [
    {
     "data": {
      "text/plain": [
       "'/home/dandex/programming/The_Reddit_Archiver/Reddit_Archiver/Temp_Files'"
      ]
     },
     "execution_count": 78,
     "metadata": {},
     "output_type": "execute_result"
    }
   ],
   "source": [
    "output_dir"
   ]
  },
  {
   "cell_type": "code",
   "execution_count": 79,
   "metadata": {},
   "outputs": [
    {
     "name": "stdout",
     "output_type": "stream",
     "text": [
      "[Reddit] nydgldyaavab1: Downloading m3u8 information\n",
      "[Reddit] nydgldyaavab1: Downloading MPD manifest\n"
     ]
    },
    {
     "name": "stderr",
     "output_type": "stream",
     "text": [
      "WARNING: You have requested multiple formats but ffmpeg or avconv are not installed. The formats won't be merged.\n"
     ]
    },
    {
     "name": "stdout",
     "output_type": "stream",
     "text": [
      "[download] Destination: /home/dandex/programming/The_Reddit_Archiver/Reddit_Archiver/Temp_Files/nydgldyaavab1.fdash-5.mp4\n",
      "[download] 100% of 22.60MiB in 00:0405MiB/s ETA 00:004\n",
      "[download] Destination: /home/dandex/programming/The_Reddit_Archiver/Reddit_Archiver/Temp_Files/nydgldyaavab1.fdash-6.m4a\n",
      "[download] 100% of 1.98MiB in 00:0017MiB/s ETA 00:00known ETA\n",
      "Moviepy - Building video /home/dandex/programming/The_Reddit_Archiver/Reddit_Archiver/Temp_Files/nydgldyaavab1.fdash-5_merged.mp4.\n",
      "MoviePy - Writing audio in nydgldyaavab1.fdash-5_mergedTEMP_MPY_wvf_snd.mp4\n"
     ]
    },
    {
     "name": "stderr",
     "output_type": "stream",
     "text": [
      "                                                                      \r"
     ]
    },
    {
     "name": "stdout",
     "output_type": "stream",
     "text": [
      "MoviePy - Done.\n",
      "Moviepy - Writing video /home/dandex/programming/The_Reddit_Archiver/Reddit_Archiver/Temp_Files/nydgldyaavab1.fdash-5_merged.mp4\n",
      "\n"
     ]
    },
    {
     "name": "stderr",
     "output_type": "stream",
     "text": [
      "                                                                 \r"
     ]
    },
    {
     "name": "stdout",
     "output_type": "stream",
     "text": [
      "Moviepy - Done !\n",
      "Moviepy - video ready /home/dandex/programming/The_Reddit_Archiver/Reddit_Archiver/Temp_Files/nydgldyaavab1.fdash-5_merged.mp4\n",
      "[Reddit] 7wocq0ca1uab1: Downloading m3u8 information\n",
      "[Reddit] 7wocq0ca1uab1: Downloading MPD manifest\n"
     ]
    },
    {
     "name": "stderr",
     "output_type": "stream",
     "text": [
      "WARNING: You have requested multiple formats but ffmpeg or avconv are not installed. The formats won't be merged.\n"
     ]
    },
    {
     "name": "stdout",
     "output_type": "stream",
     "text": [
      "[download] Destination: /home/dandex/programming/The_Reddit_Archiver/Reddit_Archiver/Temp_Files/7wocq0ca1uab1.fdash-5.mp4\n",
      "[download] 100% of 6.90MiB in 00:0015MiB/s ETA 00:00known ETA\n",
      "[download] Destination: /home/dandex/programming/The_Reddit_Archiver/Reddit_Archiver/Temp_Files/7wocq0ca1uab1.fdash-6.m4a\n",
      "[download] 100% of 505.71KiB in 00:0060MiB/s ETA 00:00known ETA\n",
      "Moviepy - Building video /home/dandex/programming/The_Reddit_Archiver/Reddit_Archiver/Temp_Files/7wocq0ca1uab1.fdash-5_merged.mp4.\n",
      "MoviePy - Writing audio in 7wocq0ca1uab1.fdash-5_mergedTEMP_MPY_wvf_snd.mp4\n"
     ]
    },
    {
     "name": "stderr",
     "output_type": "stream",
     "text": [
      "                                                                    \r"
     ]
    },
    {
     "name": "stdout",
     "output_type": "stream",
     "text": [
      "MoviePy - Done.\n",
      "Moviepy - Writing video /home/dandex/programming/The_Reddit_Archiver/Reddit_Archiver/Temp_Files/7wocq0ca1uab1.fdash-5_merged.mp4\n",
      "\n"
     ]
    },
    {
     "name": "stderr",
     "output_type": "stream",
     "text": [
      "                                                               \r"
     ]
    },
    {
     "name": "stdout",
     "output_type": "stream",
     "text": [
      "Moviepy - Done !\n",
      "Moviepy - video ready /home/dandex/programming/The_Reddit_Archiver/Reddit_Archiver/Temp_Files/7wocq0ca1uab1.fdash-5_merged.mp4\n",
      "3\n"
     ]
    }
   ],
   "source": [
    "#Identify Posts\n",
    "posts = []\n",
    "post_count = 0\n",
    "\n",
    "utc_date = 0\n",
    "post_type = \"\"\n",
    "subreddit = \"\"\n",
    "post_title = \"\"\n",
    "file_path = \"\"\n",
    "permalink = \"\"\n",
    "score = 0\n",
    "text = \"\"\n",
    "\n",
    "#self post\n",
    "for self_post in soup.find_all('div', class_='self'):\n",
    "    post_count += 1\n",
    "    utc_date = self_post.find('time', class_=\"live-timestamp\")['datetime']\n",
    "    utc_date = datetime.datetime.strptime(utc_date, date_format)\n",
    "    utc_date = utc_date.isoformat()\n",
    "    post_type = \"self\"\n",
    "    subreddit = self_post.find('a', class_=\"subreddit\").text\n",
    "    post_title = self_post.find('a', class_=\"title\").text\n",
    "    score = self_post.find('div', {'class': 'score unvoted'}).text\n",
    "    permalink = self_post.find('a', class_=\"bylink\")['href']\n",
    "\n",
    "    #Self text post (hardest part so far)\n",
    "    if self_post.find('div', {'class': 'expando-button'}): #If expando button present\n",
    "        #Download permalink\n",
    "        #print(\"self expando\")\n",
    "        self_text_url = permalink\n",
    "        print(self_text_url)\n",
    "\n",
    "        headers2 = {\"User-Agent\": \"Mozilla/5.0 (Windows NT 10.0; Win64; x64) AppleWebKit/537.36 (KHTML, like Gecko) Chrome/91.0.4472.124 Safari/537.36\"}\n",
    "        response2 = requests.get(self_text_url, headers=headers2)\n",
    "        soup2 = BeautifulSoup(response2.content, \"html.parser\")\n",
    "        post_content = soup2.find(\"div\", class_=\"entry\")\n",
    "        md_element = post_content.find(\"div\", class_=\"md-container\")\n",
    "        post_text = md_element.text\n",
    "        #expando = soup2.find(\"div\", class_=\"usertext-body\")\n",
    "        #md_element = expando.find(\"div\", class_=\"md-container\")\n",
    "\n",
    "        #md_element = expando.find(\"div\", class_=\"md-container\") if expando else None\n",
    "        #md_text = md_element.text if md_element else None\n",
    "\n",
    "        #post_text = md_text.text\n",
    "\n",
    "        text = post_text\n",
    "        print(post_text)\n",
    "        \n",
    "    else:\n",
    "        text = None\n",
    "    post_data = {\n",
    "        'utc_date': utc_date,\n",
    "        'score': score,\n",
    "        'subreddit': subreddit,\n",
    "        'permalink': permalink,\n",
    "        'title': post_title,\n",
    "        'type': post_type,\n",
    "        'text': text\n",
    "    }\n",
    "    posts.append(post_data)\n",
    "    \n",
    "#crosspost\n",
    "for cross_post in soup.find_all('div', {'class':'link', 'data-crosspost-root-title': True}):\n",
    "    post_count += 1\n",
    "    utc_date = cross_post.find('time', class_=\"live-timestamp\")['datetime']\n",
    "    utc_date = datetime.datetime.strptime(utc_date, date_format)\n",
    "    utc_date = utc_date.isoformat()\n",
    "    post_type = \"crosspost\"\n",
    "    subreddit = cross_post.find('a', class_=\"subreddit\").text\n",
    "    post_title = cross_post.find('a', class_=\"title\").text\n",
    "    score = cross_post.find('div', {'class': 'score unvoted'}).text\n",
    "    permalink = cross_post.find('a', class_=\"bylink\")['href']\n",
    "    cross_post_link = cross_post.find('a', class_=\"title\")['href']\n",
    "    post_data = {\n",
    "        'utc_date': utc_date,\n",
    "        'score': score,\n",
    "        'subreddit': subreddit,\n",
    "        'permalink': permalink,\n",
    "        'title': post_title,\n",
    "        'type': post_type,\n",
    "        \"CrossPost Link\": cross_post_link\n",
    "    }\n",
    "    posts.append(post_data)\n",
    "#link\n",
    "domains = ['old.reddit.com', 'i.redd.it', 'v.redd.it', 'i.imgur.com']\n",
    "for link_post in soup.find_all(lambda tag: tag.has_attr('data-domain') and not any(domain in tag['data-domain'] for domain in domains )and 'self' not in tag.get('class', [])):\n",
    "    post_count += 1\n",
    "    utc_date = link_post.find('time', class_=\"live-timestamp\")['datetime']\n",
    "    utc_date = datetime.datetime.strptime(utc_date, date_format)\n",
    "    utc_date = utc_date.isoformat()\n",
    "    post_type = \"link\"\n",
    "    subreddit = link_post.find('a', class_=\"subreddit\").text\n",
    "    post_title = link_post.find('a', class_=\"title\").text\n",
    "    score = link_post.find('div', {'class': 'score unvoted'}).text\n",
    "    permalink = link_post.find('a', class_=\"bylink\")['href']\n",
    "    \n",
    "    #If expando, request permalink page, extract text, else text = NaN\n",
    "    \n",
    "    if link_post.find('div', {'class': 'expando-button'}): #If expando button present\n",
    "        #Download permalink\n",
    "        form_data = {\"over18\": \"yes\"}\n",
    "        response = requests.get(permalink, data=form_data, headers={'User-Agent': 'Mozilla/5.0'})\n",
    "        post_soup = BeautifulSoup(response.content, 'html.parser')\n",
    "        #Extract text\n",
    "        link = post_soup.find('a', class_=\"title\")['href']\n",
    "    else:\n",
    "        link = None\n",
    "    post_data = {\n",
    "        'utc_date': utc_date,\n",
    "        'score': score,\n",
    "        'subreddit': subreddit,\n",
    "        'permalink': permalink,\n",
    "        'title': post_title,\n",
    "        'type': post_type,\n",
    "        'link': link\n",
    "    }\n",
    "    posts.append(post_data)\n",
    "#video\n",
    "for video_post in soup.find_all('div', {'class':'link', \"data-domain\": \"v.redd.it\", \"data-kind\": \"video\"}):\n",
    "    post_count += 1\n",
    "    utc_date = video_post.find('time', class_=\"live-timestamp\")['datetime']\n",
    "    utc_date = datetime.datetime.strptime(utc_date, date_format)\n",
    "    utc_date = utc_date.isoformat()\n",
    "    post_type = \"video\"\n",
    "    subreddit = video_post.find('a', class_=\"subreddit\").text\n",
    "    post_title = video_post.find('a', class_=\"title\").text\n",
    "    score = video_post.find('div', {'class': 'score unvoted'}).text\n",
    "    permalink = video_post.find('a', class_=\"bylink\")['href']\n",
    "    text = None\n",
    "    vid_link = video_post.find('a', class_=\"title\")['href']\n",
    "    ydl_opts = {\n",
    "        'outtmpl': f'{output_dir}/%(title)s.%(ext)s',\n",
    "        #'outtmpl': output_dir + ,\n",
    "        'merge_output_format': 'mp4',\n",
    "    }\n",
    "    with youtube_dl.YoutubeDL(ydl_opts) as ydl:\n",
    "        ydl.download([vid_link])\n",
    "    #Merge and Remove \n",
    "    for filename in os.listdir(output_dir):\n",
    "        if filename.endswith(\".mp4\") and \"merged\" not in filename:\n",
    "            video_path = os.path.join(output_dir, filename)\n",
    "            audio_filename_prefix = filename[:8]\n",
    "            \n",
    "            for file in os.listdir(output_dir):\n",
    "                if file.startswith(audio_filename_prefix) and file.endswith(\".m4a\"):\n",
    "                    audio_path = os.path.join(output_dir, file)\n",
    "                    output_filename = os.path.splitext(filename)[0] + \"_merged.mp4\"\n",
    "                    output_path = os.path.join(output_dir, output_filename)\n",
    "                    video = VideoFileClip(video_path)\n",
    "                    audio = AudioFileClip(audio_path)\n",
    "                    video = video.set_audio(audio)\n",
    "                    video.write_videofile(output_path, codec=\"libx264\", audio_codec=\"aac\")\n",
    "                    break\n",
    "            os.remove(video_path)\n",
    "            os.remove(audio_path)\n",
    "            vid_path = output_path\n",
    "    post_data = {\n",
    "        'utc_date': utc_date,\n",
    "        'score': score,\n",
    "        'subreddit': subreddit,\n",
    "        'permalink': permalink,\n",
    "        'title': post_title,\n",
    "        'type': post_type,\n",
    "        'filepath': vid_path\n",
    "    }\n",
    "    posts.append(post_data)\n",
    "#picture \n",
    "for pic_post in soup.find_all('div', {'class':'link', \"data-domain\": \"old.reddit.com\"}):\n",
    "    post_count += 1\n",
    "    utc_date = pic_post.find('time', class_=\"live-timestamp\")['datetime']\n",
    "    utc_date = datetime.datetime.strptime(utc_date, date_format)\n",
    "    utc_date = utc_date.isoformat()\n",
    "    post_type = \"pic\"\n",
    "    subreddit = pic_post.find('a', class_=\"subreddit\").text\n",
    "    post_title = pic_post.find('a', class_=\"title\").text\n",
    "    score = pic_post.find('div', {'class': 'score unvoted'}).text\n",
    "    permalink = pic_post.find('a', class_=\"bylink\")['href']\n",
    "    pic_link = pic_post.find('a', class_=\"title\")['href']\n",
    "    pic_path = \"\"\n",
    "    pic_filename = pic_link.split(\"/\")[-1]  # Extract the original filename from the URL\n",
    "    pic_path = os.path.join(output_dir, pic_filename)\n",
    "    urllib.request.urlretrieve(pic_link, pic_path)\n",
    "    post_data = {\n",
    "        'utc_date': utc_date,\n",
    "        'score': score,\n",
    "        'subreddit': subreddit,\n",
    "        'permalink': permalink,\n",
    "        'title': post_title,\n",
    "        'type': post_type,\n",
    "        'filepath': pic_path\n",
    "    }\n",
    "    posts.append(post_data)\n",
    "\n",
    "for pic_post in soup.find_all('div', {'class':'link', \"data-domain\": \"i.redd.it\"}):\n",
    "    post_count += 1\n",
    "    utc_date = pic_post.find('time', class_=\"live-timestamp\")['datetime']\n",
    "    utc_date = datetime.datetime.strptime(utc_date, date_format)\n",
    "    utc_date = utc_date.isoformat()\n",
    "    post_type = \"pic\"\n",
    "    subreddit = pic_post.find('a', class_=\"subreddit\").text\n",
    "    post_title = pic_post.find('a', class_=\"title\").text\n",
    "    score = pic_post.find('div', {'class': 'score unvoted'}).text\n",
    "    permalink = pic_post.find('a', class_=\"bylink\")['href']\n",
    "    pic_link = pic_post.find('a', class_=\"title\")['href']\n",
    "    pic_path = \"\"\n",
    "    pic_filename = pic_link.split(\"/\")[-1]  # Extract the original filename from the URL\n",
    "    pic_path = os.path.join(output_dir, pic_filename)\n",
    "    urllib.request.urlretrieve(pic_link, pic_path)\n",
    "    post_data = {\n",
    "        'utc_date': utc_date,\n",
    "        'score': score,\n",
    "        'subreddit': subreddit,\n",
    "        'permalink': permalink,\n",
    "        'title': post_title,\n",
    "        'type': post_type,\n",
    "        'filepath': pic_path\n",
    "    }\n",
    "    posts.append(post_data)\n",
    "\n",
    "for pic_post in soup.find_all('div', {'class':'link', \"data-domain\": \"i.imgur.com\"}):\n",
    "    post_count += 1\n",
    "    utc_date = pic_post.find('time', class_=\"live-timestamp\")['datetime']\n",
    "    utc_date = datetime.datetime.strptime(utc_date, date_format)\n",
    "    utc_date = utc_date.isoformat()\n",
    "    post_type = \"pic\"\n",
    "    subreddit = pic_post.find('a', class_=\"subreddit\").text\n",
    "    post_title = pic_post.find('a', class_=\"title\").text\n",
    "    score = pic_post.find('div', {'class': 'score unvoted'}).text\n",
    "    permalink = pic_post.find('a', class_=\"bylink\")['href']\n",
    "    post_data = {\n",
    "        'utc_date': utc_date,\n",
    "        'score': score,\n",
    "        'subreddit': subreddit,\n",
    "        'permalink': permalink,\n",
    "        'title': post_title,\n",
    "        'type': post_type\n",
    "    }\n",
    "    posts.append(post_data)\n",
    "print(post_count)"
   ]
  },
  {
   "cell_type": "code",
   "execution_count": 41,
   "metadata": {},
   "outputs": [
    {
     "ename": "FileNotFoundError",
     "evalue": "[Errno 2] No such file or directory: '/home/dandex/programming/The_Reddit_Archiver/Reddit_Archiver/Temp_Files/414dcwng5lra1.fdash-audio_0_131828.m4a'",
     "output_type": "error",
     "traceback": [
      "\u001b[0;31m---------------------------------------------------------------------------\u001b[0m",
      "\u001b[0;31mFileNotFoundError\u001b[0m                         Traceback (most recent call last)",
      "\u001b[1;32m/home/dandex/programming/The_Reddit_Archiver/Reddit_Archiver/archiver.ipynb Cell 17\u001b[0m in \u001b[0;36m<cell line: 2>\u001b[0;34m()\u001b[0m\n\u001b[1;32m     <a href='vscode-notebook-cell:/home/dandex/programming/The_Reddit_Archiver/Reddit_Archiver/archiver.ipynb#X22sZmlsZQ%3D%3D?line=15'>16</a>\u001b[0m         \u001b[39mbreak\u001b[39;00m\n\u001b[1;32m     <a href='vscode-notebook-cell:/home/dandex/programming/The_Reddit_Archiver/Reddit_Archiver/archiver.ipynb#X22sZmlsZQ%3D%3D?line=16'>17</a>\u001b[0m os\u001b[39m.\u001b[39mremove(video_path)\n\u001b[0;32m---> <a href='vscode-notebook-cell:/home/dandex/programming/The_Reddit_Archiver/Reddit_Archiver/archiver.ipynb#X22sZmlsZQ%3D%3D?line=17'>18</a>\u001b[0m os\u001b[39m.\u001b[39;49mremove(audio_path)\n",
      "\u001b[0;31mFileNotFoundError\u001b[0m: [Errno 2] No such file or directory: '/home/dandex/programming/The_Reddit_Archiver/Reddit_Archiver/Temp_Files/414dcwng5lra1.fdash-audio_0_131828.m4a'"
     ]
    }
   ],
   "source": [
    "#Merge mp4 and m4a files\n",
    "for filename in os.listdir(output_dir):\n",
    "    if filename.endswith(\".mp4\"):\n",
    "        video_path = os.path.join(output_dir, filename)\n",
    "        audio_filename_prefix = filename[:8]\n",
    "        \n",
    "        for file in os.listdir(output_dir):\n",
    "            if file.startswith(audio_filename_prefix) and file.endswith(\".m4a\"):\n",
    "                audio_path = os.path.join(output_dir, file)\n",
    "                output_filename = os.path.splitext(filename)[0] + \"_merged.mp4\"\n",
    "                output_path = os.path.join(output_dir, output_filename)\n",
    "                video = VideoFileClip(video_path)\n",
    "                audio = AudioFileClip(audio_path)\n",
    "                video = video.set_audio(audio)\n",
    "                video.write_videofile(output_path, codec=\"libx264\", audio_codec=\"aac\")\n",
    "                break\n",
    "        os.remove(video_path)\n",
    "        os.remove(audio_path)"
   ]
  },
  {
   "cell_type": "code",
   "execution_count": 80,
   "metadata": {},
   "outputs": [
    {
     "name": "stdout",
     "output_type": "stream",
     "text": [
      "working\n"
     ]
    }
   ],
   "source": [
    "#Test if 25 Posts identified (Number of each page)\n",
    "if (post_count + comment_count) != 25:\n",
    "    print(\"Error\")\n",
    "else:\n",
    "    \n",
    "    print(\"working\")"
   ]
  },
  {
   "cell_type": "code",
   "execution_count": 81,
   "metadata": {},
   "outputs": [],
   "source": [
    "num_posts = len(posts)\n",
    "num_comments = len(comments)"
   ]
  },
  {
   "cell_type": "code",
   "execution_count": 82,
   "metadata": {},
   "outputs": [],
   "source": [
    "user_data = {\n",
    "    'user_info': {\n",
    "        'username': username,\n",
    "        'user_creation_date': user_creation_date,\n",
    "        'num_posts': num_posts,\n",
    "        'num_comments': num_comments,\n",
    "        'karma': {\n",
    "            'post_karma': post_karma,\n",
    "            'comment_karma': comment_karma\n",
    "        }\n",
    "    },\n",
    "    'posts': posts,\n",
    "    'comments': comments\n",
    "}"
   ]
  },
  {
   "cell_type": "code",
   "execution_count": 83,
   "metadata": {},
   "outputs": [],
   "source": [
    "with open('Temp_Files/user_data.json', 'w') as f:\n",
    "    json.dump(user_data, f)"
   ]
  },
  {
   "cell_type": "code",
   "execution_count": 84,
   "metadata": {},
   "outputs": [
    {
     "name": "stdout",
     "output_type": "stream",
     "text": [
      "{\n",
      "    \"user_info\": {\n",
      "        \"username\": \"Normal-Will4837\",\n",
      "        \"user_creation_date\": \"2022-06-09T05:50:13+00:00\",\n",
      "        \"num_posts\": 3,\n",
      "        \"num_comments\": 22,\n",
      "        \"karma\": {\n",
      "            \"post_karma\": 123,\n",
      "            \"comment_karma\": 805\n",
      "        }\n",
      "    },\n",
      "    \"posts\": [\n",
      "        {\n",
      "            \"utc_date\": \"2023-07-09T04:30:29+00:00\",\n",
      "            \"score\": \"19\",\n",
      "            \"subreddit\": \"r/NoJumper\",\n",
      "            \"permalink\": \"https://old.reddit.com/r/NoJumper/comments/14uoxw8/tokes_homie_sandman_and_vell_run_the_fade_after/\",\n",
      "            \"title\": \"Toke\\u2019s homie Sandman and Vell run the fade after Vell\\u2019s girl butts her head in Sandman and his girls drama and gets called a nosey bitch (Allegedly)\",\n",
      "            \"type\": \"video\",\n",
      "            \"filepath\": \"/home/dandex/programming/The_Reddit_Archiver/Reddit_Archiver/Temp_Files/nydgldyaavab1.fdash-5_merged.mp4\"\n",
      "        },\n",
      "        {\n",
      "            \"utc_date\": \"2023-07-09T00:17:22+00:00\",\n",
      "            \"score\": \"58\",\n",
      "            \"subreddit\": \"r/NoJumper\",\n",
      "            \"permalink\": \"https://old.reddit.com/r/NoJumper/comments/14ujvxx/rylee_thinks_booking_a_hotel_with_yuriys_money_is/\",\n",
      "            \"title\": \"Rylee thinks booking a hotel with Yuriys money is the same as having a job \\ud83e\\udd26\\ud83c\\udffb\\u200d\\u2642\\ufe0f\",\n",
      "            \"type\": \"video\",\n",
      "            \"filepath\": \"/home/dandex/programming/The_Reddit_Archiver/Reddit_Archiver/Temp_Files/7wocq0ca1uab1.fdash-5_merged.mp4\"\n",
      "        },\n",
      "        {\n",
      "            \"utc_date\": \"2023-07-21T00:46:18+00:00\",\n",
      "            \"score\": \"42\",\n",
      "            \"subreddit\": \"r/NoJumper\",\n",
      "            \"permalink\": \"https://old.reddit.com/r/NoJumper/comments/1558pmd/wait_until_blazzy_see_this_on_etsy/\",\n",
      "            \"title\": \"Wait until Blazzy see this on Etsy\",\n",
      "            \"type\": \"pic\",\n",
      "            \"filepath\": \"/home/dandex/programming/The_Reddit_Archiver/Reddit_Archiver/Temp_Files/01eoww0gt7db1.jpg\"\n",
      "        }\n",
      "    ],\n",
      "    \"comments\": [\n",
      "        {\n",
      "            \"utc_date\": \"2023-07-20T19:24:42+00:00\",\n",
      "            \"score\": \"1 point\",\n",
      "            \"subreddit\": \"NoJumper\",\n",
      "            \"permalink\": \"https://old.reddit.com/r/NoJumper/comments/153hfe1/is_that_a_voicecrack_i_heard_this_definitely/jsrpw5c/\",\n",
      "            \"text\": \"the cream pie was fake and Adam playing into it to get a reaction/views and yall falling for it\\n\\n\"\n",
      "        },\n",
      "        {\n",
      "            \"utc_date\": \"2023-07-18T04:06:05+00:00\",\n",
      "            \"score\": \"4 points\",\n",
      "            \"subreddit\": \"NoJumper\",\n",
      "            \"permalink\": \"https://old.reddit.com/r/NoJumper/comments/152f0di/strawberry_deker_head_ass/jsevjkn/\",\n",
      "            \"text\": \"She went to the same dr heather did\\n\\n\"\n",
      "        },\n",
      "        {\n",
      "            \"utc_date\": \"2023-07-17T04:32:16+00:00\",\n",
      "            \"score\": \"2 points\",\n",
      "            \"subreddit\": \"NoJumper\",\n",
      "            \"permalink\": \"https://old.reddit.com/r/NoJumper/comments/151d40x/naw_jason_luv_is_a_menace/jsa4wx6/\",\n",
      "            \"text\": \"You don\\u2019t think Adam told him to play into the cuck narrative so this shit could go more viral and they all get a bigger bag off this shit? Lmao\\n\\n\"\n",
      "        },\n",
      "        {\n",
      "            \"utc_date\": \"2023-07-15T04:54:12+00:00\",\n",
      "            \"score\": \"1 point\",\n",
      "            \"subreddit\": \"NoJumper\",\n",
      "            \"permalink\": \"https://old.reddit.com/r/NoJumper/comments/14zwun5/they_love_gossipping_about_someone_they_claim/js13d4p/\",\n",
      "            \"text\": \"Hollll up wasn\\u2019t heather talm bout how she wishes her and trell could have a relationship like Adam and Lena having threesomes and shit and having an OnlyFans when she did Lena\\u2019s podcast \\ud83e\\udd28\\n\\n\"\n",
      "        },\n",
      "        {\n",
      "            \"utc_date\": \"2023-07-14T05:53:50+00:00\",\n",
      "            \"score\": \"1 point\",\n",
      "            \"subreddit\": \"BackonFigg\",\n",
      "            \"permalink\": \"https://old.reddit.com/r/BackonFigg/comments/14z2tv3/_/jrwgtc6/\",\n",
      "            \"text\": \"I heard in porn they be faking shit like this but idkkk\\n\\n\"\n",
      "        },\n",
      "        {\n",
      "            \"utc_date\": \"2023-07-13T19:03:34+00:00\",\n",
      "            \"score\": \"2 points\",\n",
      "            \"subreddit\": \"NoJumper\",\n",
      "            \"permalink\": \"https://old.reddit.com/r/NoJumper/comments/14yjcrz/july_15th_mastermind_fousey_aka_fouseytube_takes/jru7lxc/\",\n",
      "            \"text\": \"Lmao this guy is the LAST person who should be taking shots at ANYBODY\\n\\n\"\n",
      "        },\n",
      "        {\n",
      "            \"utc_date\": \"2023-07-13T06:52:46+00:00\",\n",
      "            \"score\": \"6 points\",\n",
      "            \"subreddit\": \"NoJumper\",\n",
      "            \"permalink\": \"https://old.reddit.com/r/NoJumper/comments/14xp6mu/toke_tries_to_expose_adam_but_says_a_whole_bunch/jrruxl9/\",\n",
      "            \"text\": \"blazzy said on yuriys stream one time that he dont even talk to toke outside of the podcast lmaooo\\n\\n\"\n",
      "        },\n",
      "        {\n",
      "            \"utc_date\": \"2023-07-11T07:43:13+00:00\",\n",
      "            \"score\": \"10 points\",\n",
      "            \"subreddit\": \"NoJumper\",\n",
      "            \"permalink\": \"https://old.reddit.com/r/NoJumper/comments/14wfuhh/yuriy_whered_you_meet_rylee/jrid2hp/\",\n",
      "            \"text\": \"stay strong brother\\n\\n\"\n",
      "        },\n",
      "        {\n",
      "            \"utc_date\": \"2023-07-11T04:03:41+00:00\",\n",
      "            \"score\": \"3 points\",\n",
      "            \"subreddit\": \"NoJumper\",\n",
      "            \"permalink\": \"https://old.reddit.com/r/NoJumper/comments/14wceuk/just_saw_this_and_it_pissed_me_off_is_it_because/jrhucwu/\",\n",
      "            \"text\": \"pretty sure she moved in with him as soon as they started dating so that just shows she really ain\\u2019t got nowhere else to go\\n\\n\"\n",
      "        },\n",
      "        {\n",
      "            \"utc_date\": \"2023-07-11T03:58:45+00:00\",\n",
      "            \"score\": \"9 points\",\n",
      "            \"subreddit\": \"NoJumper\",\n",
      "            \"permalink\": \"https://old.reddit.com/r/NoJumper/comments/14we5ed/potlord_aka_spliffmode_got_drunk_and_is_saying/jrhtuj2/\",\n",
      "            \"text\": \"Please fire this lame again Blazzy he making y\\u2019all look bad\\n\\n\"\n",
      "        },\n",
      "        {\n",
      "            \"utc_date\": \"2023-07-11T03:53:39+00:00\",\n",
      "            \"score\": \"1 point\",\n",
      "            \"subreddit\": \"NoJumper\",\n",
      "            \"permalink\": \"https://old.reddit.com/r/NoJumper/comments/14tld1y/adam_has_no_reason_to_make_those_comments_about/jrhtavs/\",\n",
      "            \"text\": \"fr ungrateful ass mfs\\n\\n\"\n",
      "        },\n",
      "        {\n",
      "            \"utc_date\": \"2023-07-11T03:44:42+00:00\",\n",
      "            \"score\": \"-2 points\",\n",
      "            \"subreddit\": \"NoJumper\",\n",
      "            \"permalink\": \"https://old.reddit.com/r/NoJumper/comments/14w8qg6/yall_think_trell_feel_some_type_of_way_that_adam/jrhscka/\",\n",
      "            \"text\": \"I remember all the jerkers at my high school used to wear last kings but that\\u2019s about it\\n\\n\"\n",
      "        },\n",
      "        {\n",
      "            \"utc_date\": \"2023-07-10T21:47:56+00:00\",\n",
      "            \"score\": \"32 points\",\n",
      "            \"subreddit\": \"NoJumper\",\n",
      "            \"permalink\": \"https://old.reddit.com/r/NoJumper/comments/14w5hf9/flakko_says_trev_would_beat_yuriy_in_a_fight/jrgieq8/\",\n",
      "            \"text\": \"White boys smoke weed and start thinking they from the streets\\n\\n\"\n",
      "        },\n",
      "        {\n",
      "            \"utc_date\": \"2023-07-09T05:50:35+00:00\",\n",
      "            \"score\": \"4 points\",\n",
      "            \"subreddit\": \"NoJumper\",\n",
      "            \"permalink\": \"https://old.reddit.com/r/NoJumper/comments/14ujvxx/rylee_thinks_booking_a_hotel_with_yuriys_money_is/jr8uqi2/\",\n",
      "            \"text\": \"the way sandman look at her when she says she gets called a jobless loser had me weak \\ud83d\\udc80\\n\\n\"\n",
      "        },\n",
      "        {\n",
      "            \"utc_date\": \"2023-07-09T05:48:11+00:00\",\n",
      "            \"score\": \"3 points\",\n",
      "            \"subreddit\": \"NoJumper\",\n",
      "            \"permalink\": \"https://old.reddit.com/r/NoJumper/comments/14ujvxx/rylee_thinks_booking_a_hotel_with_yuriys_money_is/jr8uj5i/\",\n",
      "            \"text\": \"him and toke were saying that\\u2019s how Jason luv was clapping Lena \\ud83d\\udc80\\ud83d\\udc80\\ud83d\\udc80\\n\\n\"\n",
      "        },\n",
      "        {\n",
      "            \"utc_date\": \"2023-07-09T04:33:06+00:00\",\n",
      "            \"score\": \"3 points\",\n",
      "            \"subreddit\": \"NoJumper\",\n",
      "            \"permalink\": \"https://old.reddit.com/r/NoJumper/comments/14uoxw8/tokes_homie_sandman_and_vell_run_the_fade_after/jr8npqe/\",\n",
      "            \"text\": \"NOW ITS TIME TO RUMBLEEEEEE\\n\\n\"\n",
      "        },\n",
      "        {\n",
      "            \"utc_date\": \"2023-07-09T03:55:02+00:00\",\n",
      "            \"score\": \"-6 points\",\n",
      "            \"subreddit\": \"NoJumper\",\n",
      "            \"permalink\": \"https://old.reddit.com/r/NoJumper/comments/14umi4h/now_that_yurine_and_crylee_both_no_longer_work/jr8jthx/\",\n",
      "            \"text\": \"so you'd prefer posts about.. Court?\\n\\n\"\n",
      "        },\n",
      "        {\n",
      "            \"utc_date\": \"2023-07-09T00:25:56+00:00\",\n",
      "            \"score\": \"34 points\",\n",
      "            \"subreddit\": \"NoJumper\",\n",
      "            \"permalink\": \"https://old.reddit.com/r/NoJumper/comments/14ujvxx/rylee_thinks_booking_a_hotel_with_yuriys_money_is/jr7vw5s/\",\n",
      "            \"text\": \"Fr she was letting it all out talking crazy about the stream until he walked back in and she shut up \\ud83d\\udc80\\n\\n\"\n",
      "        },\n",
      "        {\n",
      "            \"utc_date\": \"2023-07-09T00:14:14+00:00\",\n",
      "            \"score\": \"57 points\",\n",
      "            \"subreddit\": \"NoJumper\",\n",
      "            \"permalink\": \"https://old.reddit.com/r/NoJumper/comments/14ujhir/rylee_crashing_out/jr7ugex/\",\n",
      "            \"text\": \"Girl on the left sitting there quietly judging tf outta rylees messy ass\\n\\n\"\n",
      "        },\n",
      "        {\n",
      "            \"utc_date\": \"2023-07-08T20:16:32+00:00\",\n",
      "            \"score\": \"12 points\",\n",
      "            \"subreddit\": \"NoJumper\",\n",
      "            \"permalink\": \"https://old.reddit.com/r/NoJumper/comments/14u9cnn/rylee_roasting_yuriys_fans_for_watching_him_lol/jr6yq15/\",\n",
      "            \"text\": \"Her unemployed ass just tried to roast people for having a job?\\n\\n\"\n",
      "        },\n",
      "        {\n",
      "            \"utc_date\": \"2023-07-08T02:20:02+00:00\",\n",
      "            \"score\": \"72 points\",\n",
      "            \"subreddit\": \"NoJumper\",\n",
      "            \"permalink\": \"https://old.reddit.com/r/NoJumper/comments/14tnp1j/whos_wrong_here/jr3sy5v/\",\n",
      "            \"text\": \"Yuriy got that 40k and suddenly he don\\u2019t give af about NJ or his girl anymore \\ud83d\\udc80\\ud83d\\udc80\\ud83d\\udc80 next he\\u2019s gonna crash out on blazzy just watch \\ud83d\\udcaf\\n\\n\"\n",
      "        },\n",
      "        {\n",
      "            \"utc_date\": \"2023-07-08T02:16:57+00:00\",\n",
      "            \"score\": \"92 points\",\n",
      "            \"subreddit\": \"NoJumper\",\n",
      "            \"permalink\": \"https://old.reddit.com/r/NoJumper/comments/14tnp1j/whos_wrong_here/jr3slm5/\",\n",
      "            \"text\": \"Idk man yelling at your girl in public like this in front of everyone just shows you ain\\u2019t got no respect for her anymore shits dead\\n\\n\"\n",
      "        }\n",
      "    ]\n",
      "}\n"
     ]
    }
   ],
   "source": [
    "with open('Temp_Files/user_data.json') as f:\n",
    "    data = json.load(f)\n",
    "\n",
    "print(json.dumps(data, indent=4))\n"
   ]
  },
  {
   "attachments": {},
   "cell_type": "markdown",
   "metadata": {},
   "source": [
    "**To-DO: PT1**\n",
    "* Successfully append comments, user info, and posts of first page to JSON in correct format\n",
    "* Save pictures/videos to directory\n",
    "* Present JSON and saved files in beginner format HTML webpage\n",
    "* Apply saving to all pages of reddit account\n",
    "* Add tests to ensure data is all saved (meets 25 posts per page, etc)\n",
    "* Create Readme on Github\n",
    "* Publish first time\n",
    "\n",
    "**TO-DO PT2**\n",
    "* Convert from notebook to script\n",
    "* Create GUI where you can choose if you want to save pics/videos, input user/output directory in GUI, etc\n",
    "* Apply ability to save pics/videos as choice\n",
    "* Create Pretty looking HTML archive page\n",
    "* Promote on Reddit\n",
    "* Release as second update \n",
    "* Add ability to keep link in comment\n",
    "\n",
    "**TO-DO PT3**\n",
    "* blank\n",
    "\n",
    "**Minor Additions**\n",
    "* Accounting for pinned posts\n",
    "* Profile pictures (snoovatar??)\n",
    "* Trophies\n",
    "* Add over 18 bypass for old.reddit"
   ]
  },
  {
   "cell_type": "code",
   "execution_count": 14,
   "metadata": {},
   "outputs": [],
   "source": [
    "#Clear Temp_Files\n",
    "for filename in os.listdir(output_dir):\n",
    "        file_path = os.path.join(output_dir, filename)\n",
    "        if os.path.isfile(file_path):\n",
    "            os.remove(file_path)"
   ]
  },
  {
   "cell_type": "code",
   "execution_count": null,
   "metadata": {},
   "outputs": [],
   "source": []
  }
 ],
 "metadata": {
  "kernelspec": {
   "display_name": "Python 3",
   "language": "python",
   "name": "python3"
  },
  "language_info": {
   "codemirror_mode": {
    "name": "ipython",
    "version": 3
   },
   "file_extension": ".py",
   "mimetype": "text/x-python",
   "name": "python",
   "nbconvert_exporter": "python",
   "pygments_lexer": "ipython3",
   "version": "3.10.11"
  },
  "orig_nbformat": 4
 },
 "nbformat": 4,
 "nbformat_minor": 2
}
