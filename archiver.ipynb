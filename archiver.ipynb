{
 "cells": [
  {
   "cell_type": "code",
   "execution_count": 1,
   "metadata": {},
   "outputs": [],
   "source": [
    "#   ▄████████    ▄████████ ████████▄  ████████▄   ▄█      ███             ▄████████    ▄████████  ▄████████    ▄█    █▄     ▄█   ▄█    █▄     ▄████████    ▄████████\n",
    "#   ███    ███   ███    ███ ███   ▀███ ███   ▀███ ███  ▀█████████▄        ███    ███   ███    ███ ███    ███   ███    ███   ███  ███    ███   ███    ███   ███    ███\n",
    "#   ███    ███   ███    █▀  ███    ███ ███    ███ ███▌    ▀███▀▀██        ███    ███   ███    ███ ███    █▀    ███    ███   ███▌ ███    ███   ███    █▀    ███    ███\n",
    "#  ▄███▄▄▄▄██▀  ▄███▄▄▄     ███    ███ ███    ███ ███▌     ███   ▀        ███    ███  ▄███▄▄▄▄██▀ ███         ▄███▄▄▄▄███▄▄ ███▌ ███    ███  ▄███▄▄▄      ▄███▄▄▄▄██▀\n",
    "# ▀▀███▀▀▀▀▀   ▀▀███▀▀▀     ███    ███ ███    ███ ███▌     ███          ▀███████████ ▀▀███▀▀▀▀▀   ███        ▀▀███▀▀▀▀███▀  ███▌ ███    ███ ▀▀███▀▀▀     ▀▀███▀▀▀▀▀\n",
    "# ▀███████████   ███    █▄  ███    ███ ███    ███ ███      ███            ███    ███ ▀███████████ ███    █▄    ███    ███   ███  ███    ███   ███    █▄  ▀███████████\n",
    "#   ███    ███   ███    ███ ███   ▄███ ███   ▄███ ███      ███            ███    ███   ███    ███ ███    ███   ███    ███   ███  ███    ███   ███    ███   ███    ███\n",
    "#   ███    ███   ██████████ ████████▀  ████████▀  █▀      ▄████▀          ███    █▀    ███    ███ ████████▀    ███    █▀    █▀    ▀██████▀    ██████████   ███    ███\n",
    "#   ███    ███                                                                         ███    ███                                                          ███    ███"
   ]
  },
  {
   "attachments": {},
   "cell_type": "markdown",
   "metadata": {},
   "source": [
    "# Reddit Archiver - An easy way to archive and view your Reddit Account. \n",
    "\n",
    "Downloads your profile info and posts/comments from your input reddit account. Creates a presentable webpage of your arhcived profile that can be saved locally. \n",
    "\n",
    "* Allows user to input desired Reddit Username and output directory for archive file via command line\n",
    "* Downloads user data using BeautifulSoup.\n",
    "* Saves data to JSON file\n",
    "* Loads JSON File into HTML webpage and saves webpage to desired directory\n",
    "\n",
    "\n",
    "By [dandex200](https://github.com/dandex200/) on Github\n"
   ]
  },
  {
   "attachments": {},
   "cell_type": "markdown",
   "metadata": {},
   "source": [
    "#### Imports"
   ]
  },
  {
   "cell_type": "code",
   "execution_count": 78,
   "metadata": {},
   "outputs": [],
   "source": [
    "import requests\n",
    "from bs4 import BeautifulSoup\n",
    "import json\n",
    "import os\n",
    "from tkinter import filedialog, Tk"
   ]
  },
  {
   "attachments": {},
   "cell_type": "markdown",
   "metadata": {},
   "source": [
    "## User Input"
   ]
  },
  {
   "cell_type": "code",
   "execution_count": 79,
   "metadata": {},
   "outputs": [
    {
     "name": "stdout",
     "output_type": "stream",
     "text": [
      "Will save archive file to: /home/dandex/programming/The_Reddit_Archiver/Reddit_Archiver/Temp_Files\n"
     ]
    }
   ],
   "source": [
    "#Username Input\n",
    "user_input = input(\"Enter desired Reddit Username to Archive:\")\n",
    "\n",
    "#Output Directory Input using Tkinter\n",
    "confirm_input = input(\"Choose Archive File Output Directory? (Y/N)\")\n",
    "\n",
    "#Select Output Directory if chosen\n",
    "if confirm_input.lower() == 'y':\n",
    "    root = Tk() \n",
    "    root.withdraw()\n",
    "    output_dir = filedialog.askdirectory()\n",
    "    root.destroy()\n",
    "    print(\"Will save archive file to: %s\" % output_dir)\n",
    "else:\n",
    "    print(\"No output directory selected - will save to current directory.\")\n",
    "    "
   ]
  },
  {
   "attachments": {},
   "cell_type": "markdown",
   "metadata": {},
   "source": [
    "## Scraping"
   ]
  },
  {
   "cell_type": "code",
   "execution_count": 80,
   "metadata": {},
   "outputs": [
    {
     "name": "stdout",
     "output_type": "stream",
     "text": [
      "working\n"
     ]
    }
   ],
   "source": [
    "user_url = 'https://old.reddit.com/user/'+user_input\n",
    "\n",
    "headers = {\n",
    "    'User-Agent': 'Mozilla/5.0 (Windows NT 10.0; Win64; x64) AppleWebKit/537.36 (KHTML, like Gecko) Chrome/58.0.3029.110 Safari/537.3'\n",
    "}\n",
    "\n",
    "response = requests.get(user_url, headers=headers)\n",
    "\n",
    "soup = BeautifulSoup(response.content, 'html.parser')\n",
    "\n",
    "title_check = soup.title.text.split(' ')[0]\n",
    "\n",
    "if title_check == \"overview\":\n",
    "    print(\"working\")\n",
    "else:\n",
    "    print(\"User does not exist\")"
   ]
  },
  {
   "attachments": {},
   "cell_type": "markdown",
   "metadata": {},
   "source": [
    "### Profile Info"
   ]
  },
  {
   "cell_type": "code",
   "execution_count": 81,
   "metadata": {},
   "outputs": [
    {
     "name": "stdout",
     "output_type": "stream",
     "text": [
      "nae-nae-gang\n",
      "140,615\n",
      "212,422\n",
      "2019-01-13T17:35:06+00:00\n",
      "0\n",
      "0\n"
     ]
    }
   ],
   "source": [
    "username = soup.title.text.split(' ')[2]\n",
    "\n",
    "comment_karma_box = soup.find('span', {'class': 'comment-karma'})\n",
    "comment_karma = comment_karma_box.text if comment_karma_box is not None else ''\n",
    "\n",
    "post_karma = soup.find('span', {'class': 'karma'})\n",
    "post_karma = post_karma.text if post_karma is not None else ''\n",
    "\n",
    "\n",
    "user_creation_date = soup.find('span', {'class': 'age'})\n",
    "user_creation_date = user_creation_date.find('time')['datetime']\n",
    "\n",
    "num_posts = 0\n",
    "num_comments = 0\n",
    "\n",
    "print(username)\n",
    "print(comment_karma)\n",
    "print(post_karma)\n",
    "print(user_creation_date)\n",
    "print(num_posts)\n",
    "print(num_comments)"
   ]
  },
  {
   "attachments": {},
   "cell_type": "markdown",
   "metadata": {},
   "source": [
    "### User Posts & Comments"
   ]
  },
  {
   "cell_type": "code",
   "execution_count": null,
   "metadata": {},
   "outputs": [],
   "source": [
    "# JSON FORMAT:\n",
    "#     Username:\n",
    "#         Post Karma:\n",
    "#         Comment Karma:\n",
    "#         Account Creation Date:\n",
    "#         Number of Submissions:\n",
    "#         Number of Comments:\n",
    "#     Posts:\n",
    "#         utc_date:\n",
    "#         Type:\n",
    "#         Subreddit:\n",
    "#         Title:\n",
    "#         File_Path:\n",
    "#         Permalink:\n",
    "#         Score:\n",
    "#     Comments:\n",
    "#         utc_date:\n",
    "#         Subreddit:\n",
    "#         Text:\n",
    "#         Score:\n",
    "#         Permalink:\n",
    "    "
   ]
  },
  {
   "cell_type": "code",
   "execution_count": 82,
   "metadata": {},
   "outputs": [
    {
     "name": "stdout",
     "output_type": "stream",
     "text": [
      "[{'utc_date': '2023-04-21T20:49:45+00:00', 'score': '5 points', 'subreddit': 'IASIP', 'permalink': 'https://old.reddit.com/r/IASIP/comments/12u2lka/whats_your_favorite_question_the_gang_asks/jh6x7wh/', 'text': 'The fact that he does that more than once, too, like he has the ultimate counter for the gang trying to trick him into thinking he’s dreaming cuz he’s just gonna start peeing apparently\\n\\n'}, {'utc_date': '2023-04-21T20:47:45+00:00', 'score': '7 points', 'subreddit': 'IASIP', 'permalink': 'https://old.reddit.com/r/IASIP/comments/12u2lka/whats_your_favorite_question_the_gang_asks/jh6wxh4/', 'text': 'For real, Charlie’s delivery is always incredible\\n\\n'}, {'utc_date': '2023-04-18T17:21:46+00:00', 'score': '2 points', 'subreddit': 'jerma985', 'permalink': 'https://old.reddit.com/r/jerma985/comments/12q40up/grand_strategy_andy/jgrp8pv/', 'text': 'PUERTO RICO REPRESENTATION 🥳🥳🥳🇵🇷🇵🇷🇵🇷🇵🇷🇵🇷🇵🇷\\n\\n'}, {'utc_date': '2023-04-18T16:43:46+00:00', 'score': '0 points', 'subreddit': 'IASIP', 'permalink': 'https://old.reddit.com/r/IASIP/comments/12p7275/after_binging_the_show_i_ended_up_writing_a_paper/jgrjc2q/', 'text': 'Idk, just from my own experience sometimes he’ll do things in the show that I interpret similar to the stuff I do because of autism/ADHD. Like not getting that “other left” thing I had his EXACT reaction lol, he might not be able to pass a clinical trial due to being illiterate and probably unwilling to sit through it, though\\n\\n'}, {'utc_date': '2023-04-17T18:08:18+00:00', 'score': '0 points', 'subreddit': 'ask', 'permalink': 'https://old.reddit.com/r/ask/comments/12pd0na/would_you_give_your_sibling_a_kidney/jgn2fs2/', 'text': 'Yea, but only if I got to hold it over his head for at least 2 years. Baby bro gotta understand he’s alive cuz of me!\\n\\n'}, {'utc_date': '2023-04-17T18:06:54+00:00', 'score': '11 points', 'subreddit': 'CookieRunKingdoms', 'permalink': 'https://old.reddit.com/r/CookieRunKingdoms/comments/12oohbr/and_so_the_wait_begins/jgn27xl/', 'text': 'He should call the other 2 guys to help him, lord knows they’re not doing much right now\\n\\n'}, {'utc_date': '2023-04-17T15:37:37+00:00', 'score': '1 point', 'subreddit': 'IASIP', 'permalink': 'https://old.reddit.com/r/IASIP/comments/12p7275/after_binging_the_show_i_ended_up_writing_a_paper/jgmf4g2/', 'text': 'Thank you so much for reading it! And yeah, asexuality is a spectrum, so maybe The Mountain just got a pass for him haha, either way he’s still wayyyy behind Mac and Dennis when it comes to sleeping around\\n\\n'}, {'utc_date': '2023-04-17T15:26:00+00:00', 'score': '-1 points', 'subreddit': 'tomorrow', 'permalink': 'https://old.reddit.com/r/tomorrow/comments/12o6dva/this_was_too_emotional/jgmddrs/', 'text': 'I also cried cuz I want my dad to be proud of me!!!\\n\\n'}, {'utc_date': '2023-03-23T13:48:51+00:00', 'score': '0 points', 'subreddit': 'Resortopia', 'permalink': 'https://old.reddit.com/r/Resortopia/comments/11zc20t/what_does_this_mean_ive_placed_a_bunch_of_stuff/jdcquci/', 'text': 'Thank you so much! It didn’t count the gatcha stuff so I was confused :,)\\n\\n'}, {'utc_date': '2023-03-21T02:43:25+00:00', 'score': '1 point', 'subreddit': 'IASIP', 'permalink': 'https://old.reddit.com/r/IASIP/comments/11w9np7/you_guys_have_any_scenes_that_shocked_you_the/jd1bndv/', 'text': 'They put that tape in and I KNEW it was coming but it still made me laugh so fucking hard\\n\\n'}, {'utc_date': '2023-03-20T20:03:54+00:00', 'score': '6 points', 'subreddit': 'IASIP', 'permalink': 'https://old.reddit.com/r/IASIP/comments/11w9np7/you_guys_have_any_scenes_that_shocked_you_the/jczqnz1/', 'text': 'I think Charlie would agree with you on the kiss scene, on Conan he said he just wanted to have it be implied lol\\n\\n'}, {'utc_date': '2023-03-20T18:48:21+00:00', 'score': '5 points', 'subreddit': 'IASIP', 'permalink': 'https://old.reddit.com/r/IASIP/comments/11w9np7/you_guys_have_any_scenes_that_shocked_you_the/jczewdh/', 'text': 'How dare you make me remember that scene!\\n\\n'}, {'utc_date': '2023-03-20T18:47:29+00:00', 'score': '10 points', 'subreddit': 'IASIP', 'permalink': 'https://old.reddit.com/r/IASIP/comments/11w9np7/you_guys_have_any_scenes_that_shocked_you_the/jczerb0/', 'text': 'The bloopers with her going “Frank I’m giving this guy a handjob under the table, are you jealous?” Make me laugh so hard. That guy tried every method under the sun to deliver that line and he still got them reeling every damn time\\n\\n'}, {'utc_date': '2023-03-20T17:29:36+00:00', 'score': '5 points', 'subreddit': 'IASIP', 'permalink': 'https://old.reddit.com/r/IASIP/comments/11w9np7/you_guys_have_any_scenes_that_shocked_you_the/jcz2l6o/', 'text': 'Fuck off I just understood the joke! Oh my god I gotta rewatch that episode for the millionth time now\\n\\n'}, {'utc_date': '2023-03-20T17:27:20+00:00', 'score': '11 points', 'subreddit': 'IASIP', 'permalink': 'https://old.reddit.com/r/IASIP/comments/11w9np7/you_guys_have_any_scenes_that_shocked_you_the/jcz28il/', 'text': 'Oh my god I was watching that episode with my family and I go “what the hell-“ and my mom just yelled “ITS THE DOG FROM THE ALLEY!” Full Chekhov’s gun moment, makes my writer heart so happy\\n\\n'}, {'utc_date': '2023-03-20T17:18:08+00:00', 'score': '0 points', 'subreddit': 'IASIP', 'permalink': 'https://old.reddit.com/r/IASIP/comments/11w9np7/you_guys_have_any_scenes_that_shocked_you_the/jcz0syx/', 'text': 'HE GOT THEM! A few seasons late but he got them!!!\\n\\n'}, {'utc_date': '2023-03-20T17:17:50+00:00', 'score': '16 points', 'subreddit': 'IASIP', 'permalink': 'https://old.reddit.com/r/IASIP/comments/11w9np7/you_guys_have_any_scenes_that_shocked_you_the/jcz0ra5/', 'text': 'When Charlie did it I was like “ok that’s just him” but when it cut to Mac eating it too I was out\\n\\n'}, {'utc_date': '2023-03-20T17:15:20+00:00', 'score': '7 points', 'subreddit': 'IASIP', 'permalink': 'https://old.reddit.com/r/IASIP/comments/11w9np7/you_guys_have_any_scenes_that_shocked_you_the/jcz0db0/', 'text': 'I knew a maniac stalker IrL! He almost murdered me over state lines which was wacky. That’s probably why I like Charlie’s character so much, he’s a much more benign stalker than the ones I’ve known…\\n\\n'}, {'utc_date': '2023-03-20T05:00:30+00:00', 'score': '0 points', 'subreddit': 'IASIP', 'permalink': 'https://old.reddit.com/r/IASIP/comments/11vv6b0/what_scene_made_you_feel_physically_uncomfortable/jcwz18e/', 'text': '“Plan B” at the high school reunion when Mac just rips his shirt off and starts yelling…the secondhand embarrassment knocked me out so hard I was squirming in my seat. It was absolutely fucking hysterical but god damn that felt next level\\n\\n'}, {'utc_date': '2023-02-22T18:11:30+00:00', 'score': '1 point', 'subreddit': 'tipofmytongue', 'permalink': 'https://old.reddit.com/r/tipofmytongue/comments/1193fnd/tomt_videonews_segment_news_reporter_telling_this/j9kpu9y/', 'text': 'Solved!\\n\\n'}]\n",
      "20\n"
     ]
    }
   ],
   "source": [
    "comments = []\n",
    "comment_count = 0\n",
    "for comment in soup.find_all('div', class_='comment'):\n",
    "    utc_date = comment.find('time', class_=\"live-timestamp\")['datetime']\n",
    "    score = comment.find('span', class_='score').text\n",
    "    subreddit = comment.find('a', class_=\"subreddit\").text\n",
    "    permalink = comment.find('a', class_=\"bylink\")['href']\n",
    "    text = comment.find('div', class_='md-container').text\n",
    "    comment_data = {\n",
    "        'utc_date': utc_date,\n",
    "        'score': score,\n",
    "        'subreddit': subreddit,\n",
    "        'permalink': permalink,\n",
    "        'text': text\n",
    "    }\n",
    "    comments.append(comment_data)\n",
    "    comment_count += 1\n",
    "print(comments)\n",
    "print(comment_count)"
   ]
  },
  {
   "cell_type": "code",
   "execution_count": 92,
   "metadata": {},
   "outputs": [
    {
     "name": "stdout",
     "output_type": "stream",
     "text": [
      "<div class=\"thing id-t3_1301dlb odd link\" data-author=\"nae-nae-gang\" data-author-fullname=\"t2_2zli5xtt\" data-comments-count=\"7\" data-context=\"listing\" data-domain=\"old.reddit.com\" data-fullname=\"t3_1301dlb\" data-gildings=\"0\" data-is-gallery=\"true\" data-nsfw=\"false\" data-num-crossposts=\"0\" data-oc=\"false\" data-permalink=\"/r/IASIP/comments/1301dlb/channeling_my_inner_janitor_with_this_outfit/\" data-promoted=\"false\" data-rank=\"\" data-score=\"36\" data-spoiler=\"false\" data-subreddit=\"IASIP\" data-subreddit-fullname=\"t5_2s28b\" data-subreddit-prefixed=\"r/IASIP\" data-subreddit-type=\"public\" data-timestamp=\"1682547221000\" data-type=\"link\" data-url=\"https://www.reddit.com/gallery/1301dlb\" data-whitelist-status=\"all_ads\" id=\"thing_t3_1301dlb\" onclick=\"click_thing(this)\"><p class=\"parent\"></p><span class=\"rank\"></span><div class=\"midcol unvoted\"><div aria-label=\"upvote\" class=\"arrow up login-required access-required\" data-event-action=\"upvote\" role=\"button\" tabindex=\"0\"></div><div class=\"score likes\">•</div><div class=\"score unvoted\">•</div><div class=\"score dislikes\">•</div><div aria-label=\"downvote\" class=\"arrow down login-required access-required\" data-event-action=\"downvote\" role=\"button\" tabindex=\"0\"></div></div><a class=\"thumbnail invisible-when-pinned may-blank outbound\" data-event-action=\"thumbnail\" data-href-url=\"https://www.reddit.com/gallery/1301dlb\" data-outbound-expiration=\"0\" data-outbound-url=\"https://www.reddit.com/gallery/1301dlb\" href=\"https://www.reddit.com/gallery/1301dlb\" rel=\"nofollow ugc\"><img alt=\"\" height=\"70\" src=\"//b.thumbs.redditmedia.com/UyCfM2QrP0_RJfslcSAfMsZ0VoOENF2ackVS6Jr0-GE.jpg\" width=\"70\"/></a><div class=\"entry unvoted\"><div class=\"top-matter\"><p class=\"title\"><a class=\"title may-blank outbound\" data-event-action=\"title\" data-href-url=\"https://www.reddit.com/gallery/1301dlb\" data-outbound-expiration=\"0\" data-outbound-url=\"https://www.reddit.com/gallery/1301dlb\" href=\"https://www.reddit.com/gallery/1301dlb\" rel=\"nofollow ugc\" tabindex=\"1\">Channeling my inner janitor with this outfit</a> <span class=\"domain\">(<a href=\"/domain/old.reddit.com/\">old.reddit.com</a>)</span></p><div class=\"expando-button collapsed hide-when-pinned video\"></div><p class=\"tagline\">submitted <time class=\"live-timestamp\" datetime=\"2023-04-26T22:13:41+00:00\" title=\"Wed Apr 26 22:13:41 2023 UTC\">1 hour ago</time> by <a class=\"author may-blank id-t2_2zli5xtt\" href=\"https://old.reddit.com/user/nae-nae-gang\">nae-nae-gang</a><span class=\"userattrs\"></span> to <a class=\"subreddit hover may-blank\" href=\"https://old.reddit.com/r/IASIP/\">r/IASIP</a><span class=\"awardings-bar\" data-subredditpath=\"/r/IASIP/\"></span></p><ul class=\"flat-list buttons\"><li class=\"first\"><a class=\"bylink comments may-blank\" data-event-action=\"comments\" href=\"https://old.reddit.com/r/IASIP/comments/1301dlb/channeling_my_inner_janitor_with_this_outfit/\" rel=\"nofollow\">7 comments</a></li><li class=\"share\"><a class=\"post-sharing-button\" href=\"javascript: void 0;\">share</a></li><li class=\"link-save-button save-button login-required\"><a href=\"#\">save</a></li><li><form action=\"/post/hide\" class=\"state-button hide-button\" method=\"post\"><input name=\"executed\" type=\"hidden\" value=\"hidden\"/><span><a class=\"\" data-event-action=\"hide\" href=\"javascript:void(0)\" onclick=\"change_state(this, 'hide', hide_thing);\">hide</a></span></form></li><li class=\"report-button login-required\"><a class=\"reportbtn access-required\" data-event-action=\"report\" href=\"javascript:void(0)\">report</a></li></ul><div class=\"reportform report-t3_1301dlb\"></div></div><div class=\"expando expando-uninitialized\" data-cachedhtml=' &lt;div class=\"media-preview\" data-media-ids=\"lyyps4o7zawa1,fxz6h5o7zawa1\" id=\"media-preview-1301dlb\" style=\"\"&gt; &lt;div class=\"media-gallery\"&gt; &lt;div class=\"gallery-tiles\"&gt; &lt;div class=\"gallery-tile gallery-navigation\" id=\"media-tile-1301dlb-lyyps4o7zawa1\" data-action=\"preview\" data-id36=\"1301dlb\" data-media-id=\"lyyps4o7zawa1\" style=\"max-width: 108px ; float: left ; padding: 4px\"&gt; &lt;div class=\"media-preview-content gallery-tile-content\"&gt; &lt;img class=\"preview\" src=\"https://preview.redd.it/lyyps4o7zawa1.jpg?width=108&amp;amp;crop=smart&amp;amp;auto=webp&amp;amp;v=enabled&amp;amp;s=b40db009807f72961ac3955d092c1252aa97697f\" width=\"108\" height=\"144\"&gt; &lt;/div&gt; &lt;/div&gt; &lt;div class=\"gallery-tile gallery-navigation\" id=\"media-tile-1301dlb-fxz6h5o7zawa1\" data-action=\"preview\" data-id36=\"1301dlb\" data-media-id=\"fxz6h5o7zawa1\" style=\"max-width: 108px ; float: left ; padding: 4px\"&gt; &lt;div class=\"media-preview-content gallery-tile-content\"&gt; &lt;img class=\"preview\" src=\"https://preview.redd.it/fxz6h5o7zawa1.jpg?width=108&amp;amp;crop=smart&amp;amp;auto=webp&amp;amp;v=enabled&amp;amp;s=03b386ac9bf7ca335b3b28e5154ab6c3cdfac00a\" width=\"108\" height=\"216\"&gt; &lt;/div&gt; &lt;/div&gt; &lt;/div&gt; &lt;div class=\"gallery-preview\" id=\"gallery-preview-1301dlb-lyyps4o7zawa1\" style=\"max-width: 576px; display: none\"&gt; &lt;ul class=\"gallery-nav-bar\"&gt; &lt;li class=\"gallery-nav-prev gallery-navigation gallery-nav-disabled\" data-action=\"carousel\" data-id36=\"1301dlb\" data-media-id=\"lyyps4o7zawa1\" data-new-item=\"\"&gt; Previous &lt;/li&gt; &lt;li class=\"gallery-nav-next gallery-navigation False\" data-action=\"carousel\" data-id36=\"1301dlb\" data-media-id=\"lyyps4o7zawa1\" data-new-item=\"fxz6h5o7zawa1\"&gt; Next &lt;/li&gt; &lt;li class=\"gallery-nav-back gallery-navigation\" data-action=\"back\" data-id36=\"1301dlb\" data-media-id=\"lyyps4o7zawa1\" id=\"gallery-back-1301dlb-lyyps4o7zawa1\"&gt; Back to Grid View &lt;/li&gt; &lt;/ul&gt; &lt;div&gt; &lt;/div&gt; &lt;div class=\"media-preview-content\"&gt; &lt;a class=\"may-blank gallery-item-thumbnail-link\" data-position=\"1\" href=\"https://preview.redd.it/lyyps4o7zawa1.jpg?width=3024&amp;amp;format=pjpg&amp;amp;auto=webp&amp;amp;v=enabled&amp;amp;s=4bf6c79e97ecc3067d9c0e98e4835aaa08ff9a58\" target=\"_blank\"&gt; &lt;img class=\"preview\" src=\"https://preview.redd.it/lyyps4o7zawa1.jpg?width=320&amp;amp;crop=smart&amp;amp;auto=webp&amp;amp;v=enabled&amp;amp;s=ba66c74bcf290ccf5973f78996567d01c6286257\" width=\"576\" height=\"768\"&gt; &lt;/a&gt; &lt;/div&gt; &lt;/div&gt; &lt;div class=\"gallery-preview\" id=\"gallery-preview-1301dlb-fxz6h5o7zawa1\" style=\"max-width: 217px; display: none\"&gt; &lt;ul class=\"gallery-nav-bar\"&gt; &lt;li class=\"gallery-nav-prev gallery-navigation False\" data-action=\"carousel\" data-id36=\"1301dlb\" data-media-id=\"fxz6h5o7zawa1\" data-new-item=\"lyyps4o7zawa1\"&gt; Previous &lt;/li&gt; &lt;li class=\"gallery-nav-next gallery-navigation gallery-nav-disabled\" data-action=\"carousel\" data-id36=\"1301dlb\" data-media-id=\"fxz6h5o7zawa1\" data-new-item=\"\"&gt; Next &lt;/li&gt; &lt;li class=\"gallery-nav-back gallery-navigation\" data-action=\"back\" data-id36=\"1301dlb\" data-media-id=\"fxz6h5o7zawa1\" id=\"gallery-back-1301dlb-fxz6h5o7zawa1\"&gt; Back to Grid View &lt;/li&gt; &lt;/ul&gt; &lt;div&gt; &lt;/div&gt; &lt;div class=\"media-preview-content\"&gt; &lt;a class=\"may-blank gallery-item-thumbnail-link\" data-position=\"2\" href=\"https://preview.redd.it/fxz6h5o7zawa1.jpg?width=217&amp;amp;format=pjpg&amp;amp;auto=webp&amp;amp;v=enabled&amp;amp;s=38e7ec91e3e123d8e140da9f231003934551b329\" target=\"_blank\"&gt; &lt;img class=\"preview\" src=\"https://preview.redd.it/fxz6h5o7zawa1.jpg?width=216&amp;amp;crop=smart&amp;amp;auto=webp&amp;amp;v=enabled&amp;amp;s=376c1c3f2fbaf879e434198361f1a753a07c4852\" width=\"217\" height=\"604\"&gt; &lt;/a&gt; &lt;/div&gt; &lt;/div&gt; &lt;/div&gt; &lt;script type=\"text/javascript\" src=\"//www.redditstatic.com/media-galleries.PCvLxhNnbZs.js\"&gt;&lt;/script&gt; &lt;/div&gt; ' data-pin-condition=\"function() {return this.style.display != 'none';}\" style=\"display: none\"><span class=\"error\">loading...</span></div></div><div class=\"child\"></div><div class=\"clearleft\"></div></div>\n",
      "<div class=\"thing id-t3_12qvnpu linkflair odd link self\" data-author=\"nae-nae-gang\" data-author-fullname=\"t2_2zli5xtt\" data-comments-count=\"4\" data-context=\"listing\" data-domain=\"self.CookieRunKingdoms\" data-fullname=\"t3_12qvnpu\" data-gildings=\"0\" data-is-gallery=\"false\" data-nsfw=\"false\" data-num-crossposts=\"0\" data-oc=\"false\" data-permalink=\"/r/CookieRunKingdoms/comments/12qvnpu/is_mala_sauce_cookies_candy_worth_getting/\" data-promoted=\"false\" data-rank=\"\" data-score=\"1\" data-spoiler=\"false\" data-subreddit=\"CookieRunKingdoms\" data-subreddit-fullname=\"t5_3r5kro\" data-subreddit-prefixed=\"r/CookieRunKingdoms\" data-subreddit-type=\"public\" data-timestamp=\"1681836398000\" data-type=\"link\" data-url=\"/r/CookieRunKingdoms/comments/12qvnpu/is_mala_sauce_cookies_candy_worth_getting/\" data-whitelist-status=\"all_ads\" id=\"thing_t3_12qvnpu\" onclick=\"click_thing(this)\"><p class=\"parent\"></p><span class=\"rank\"></span><div class=\"midcol unvoted\"><div aria-label=\"upvote\" class=\"arrow up login-required access-required\" data-event-action=\"upvote\" role=\"button\" tabindex=\"0\"></div><div class=\"score dislikes\" title=\"0\">0</div><div class=\"score unvoted\" title=\"1\">1</div><div class=\"score likes\" title=\"2\">2</div><div aria-label=\"downvote\" class=\"arrow down login-required access-required\" data-event-action=\"downvote\" role=\"button\" tabindex=\"0\"></div></div><a class=\"thumbnail invisible-when-pinned self may-blank\" data-event-action=\"thumbnail\" href=\"/r/CookieRunKingdoms/comments/12qvnpu/is_mala_sauce_cookies_candy_worth_getting/\" rel=\"nofollow\"></a><div class=\"entry unvoted\"><div class=\"top-matter\"><p class=\"title\"><a class=\"title may-blank\" data-event-action=\"title\" href=\"/r/CookieRunKingdoms/comments/12qvnpu/is_mala_sauce_cookies_candy_worth_getting/\" rel=\"nofollow\" tabindex=\"1\">Is Mala sauce cookie’s candy worth getting?</a> <span class=\"domain\">(<a href=\"/r/CookieRunKingdoms/\">self.CookieRunKingdoms</a>)</span></p><div class=\"expando-button collapsed hide-when-pinned selftext\"></div><p class=\"tagline\">submitted <time class=\"live-timestamp\" datetime=\"2023-04-18T16:46:38+00:00\" title=\"Tue Apr 18 16:46:38 2023 UTC\">8 days ago</time> by <a class=\"author may-blank id-t2_2zli5xtt\" href=\"https://old.reddit.com/user/nae-nae-gang\">nae-nae-gang</a><span class=\"userattrs\"></span> to <a class=\"subreddit hover may-blank\" href=\"https://old.reddit.com/r/CookieRunKingdoms/\">r/CookieRunKingdoms</a><span class=\"awardings-bar\" data-subredditpath=\"/r/CookieRunKingdoms/\"></span></p><ul class=\"flat-list buttons\"><li class=\"first\"><a class=\"bylink comments may-blank\" data-event-action=\"comments\" href=\"https://old.reddit.com/r/CookieRunKingdoms/comments/12qvnpu/is_mala_sauce_cookies_candy_worth_getting/\" rel=\"nofollow\">4 comments</a></li><li class=\"share\"><a class=\"post-sharing-button\" href=\"javascript: void 0;\">share</a></li><li class=\"link-save-button save-button login-required\"><a href=\"#\">save</a></li><li><form action=\"/post/hide\" class=\"state-button hide-button\" method=\"post\"><input name=\"executed\" type=\"hidden\" value=\"hidden\"/><span><a class=\"\" data-event-action=\"hide\" href=\"javascript:void(0)\" onclick=\"change_state(this, 'hide', hide_thing);\">hide</a></span></form></li><li class=\"report-button login-required\"><a class=\"reportbtn access-required\" data-event-action=\"report\" href=\"javascript:void(0)\">report</a></li></ul><div class=\"reportform report-t3_12qvnpu\"></div></div><div class=\"expando expando-uninitialized\" data-pin-condition=\"function() {return this.style.display != 'none';}\" style=\"display: none\"><span class=\"error\">loading...</span></div></div><div class=\"child\"></div><div class=\"clearleft\"></div></div>\n",
      "<div class=\"thing id-t3_12p7275 odd link\" data-author=\"nae-nae-gang\" data-author-fullname=\"t2_2zli5xtt\" data-comments-count=\"11\" data-context=\"listing\" data-domain=\"docs.google.com\" data-fullname=\"t3_12p7275\" data-gildings=\"0\" data-is-gallery=\"false\" data-nsfw=\"false\" data-num-crossposts=\"0\" data-oc=\"false\" data-permalink=\"/r/IASIP/comments/12p7275/after_binging_the_show_i_ended_up_writing_a_paper/\" data-promoted=\"false\" data-rank=\"\" data-score=\"5\" data-spoiler=\"false\" data-subreddit=\"IASIP\" data-subreddit-fullname=\"t5_2s28b\" data-subreddit-prefixed=\"r/IASIP\" data-subreddit-type=\"public\" data-timestamp=\"1681717614000\" data-type=\"link\" data-url=\"https://docs.google.com/document/d/147dETfcqkH0D3Iqeonm0oDd8L4QfKDh4brNOd8w41sk/edit\" data-whitelist-status=\"all_ads\" id=\"thing_t3_12p7275\" onclick=\"click_thing(this)\"><p class=\"parent\"></p><span class=\"rank\"></span><div class=\"midcol unvoted\"><div aria-label=\"upvote\" class=\"arrow up login-required access-required\" data-event-action=\"upvote\" role=\"button\" tabindex=\"0\"></div><div class=\"score dislikes\" title=\"4\">4</div><div class=\"score unvoted\" title=\"5\">5</div><div class=\"score likes\" title=\"6\">6</div><div aria-label=\"downvote\" class=\"arrow down login-required access-required\" data-event-action=\"downvote\" role=\"button\" tabindex=\"0\"></div></div><a class=\"thumbnail invisible-when-pinned may-blank outbound\" data-event-action=\"thumbnail\" data-href-url=\"https://docs.google.com/document/d/147dETfcqkH0D3Iqeonm0oDd8L4QfKDh4brNOd8w41sk/edit\" data-outbound-expiration=\"1682556310000\" data-outbound-url=\"https://out.reddit.com/t3_12p7275?url=https%3A%2F%2Fdocs.google.com%2Fdocument%2Fd%2F147dETfcqkH0D3Iqeonm0oDd8L4QfKDh4brNOd8w41sk%2Fedit&amp;token=AQAAlsVJZHrhkwlW6DyQjP_7mIPEd6VW8o4GRWuD4hoqvcSBcVSg&amp;app_name=reddit.com\" href=\"https://docs.google.com/document/d/147dETfcqkH0D3Iqeonm0oDd8L4QfKDh4brNOd8w41sk/edit\" rel=\"nofollow ugc\"><img alt=\"\" height=\"36\" src=\"//b.thumbs.redditmedia.com/Xy_D7_-NGQQNhBg_jxC4qam95HYVcjW5n75O8vFmhOE.jpg\" width=\"70\"/></a><div class=\"entry unvoted\"><div class=\"top-matter\"><p class=\"title\"><a class=\"title may-blank outbound\" data-event-action=\"title\" data-href-url=\"https://docs.google.com/document/d/147dETfcqkH0D3Iqeonm0oDd8L4QfKDh4brNOd8w41sk/edit\" data-outbound-expiration=\"1682556310000\" data-outbound-url=\"https://out.reddit.com/t3_12p7275?url=https%3A%2F%2Fdocs.google.com%2Fdocument%2Fd%2F147dETfcqkH0D3Iqeonm0oDd8L4QfKDh4brNOd8w41sk%2Fedit&amp;token=AQAAlsVJZHrhkwlW6DyQjP_7mIPEd6VW8o4GRWuD4hoqvcSBcVSg&amp;app_name=reddit.com\" href=\"https://docs.google.com/document/d/147dETfcqkH0D3Iqeonm0oDd8L4QfKDh4brNOd8w41sk/edit\" rel=\"nofollow ugc\" tabindex=\"1\">After binging the show I ended up writing a paper about Charlie’s character. I hope you enjoy</a> <span class=\"domain\">(<a href=\"/domain/docs.google.com/\">docs.google.com</a>)</span></p><div class=\"expando-button collapsed hide-when-pinned selftext\"></div><p class=\"tagline\">submitted <time class=\"live-timestamp\" datetime=\"2023-04-17T07:46:54+00:00\" title=\"Mon Apr 17 07:46:54 2023 UTC\">9 days ago</time> by <a class=\"author may-blank id-t2_2zli5xtt\" href=\"https://old.reddit.com/user/nae-nae-gang\">nae-nae-gang</a><span class=\"userattrs\"></span> to <a class=\"subreddit hover may-blank\" href=\"https://old.reddit.com/r/IASIP/\">r/IASIP</a><span class=\"awardings-bar\" data-subredditpath=\"/r/IASIP/\"></span></p><ul class=\"flat-list buttons\"><li class=\"first\"><a class=\"bylink comments may-blank\" data-event-action=\"comments\" href=\"https://old.reddit.com/r/IASIP/comments/12p7275/after_binging_the_show_i_ended_up_writing_a_paper/\" rel=\"nofollow\">11 comments</a></li><li class=\"share\"><a class=\"post-sharing-button\" href=\"javascript: void 0;\">share</a></li><li class=\"link-save-button save-button login-required\"><a href=\"#\">save</a></li><li><form action=\"/post/hide\" class=\"state-button hide-button\" method=\"post\"><input name=\"executed\" type=\"hidden\" value=\"hidden\"/><span><a class=\"\" data-event-action=\"hide\" href=\"javascript:void(0)\" onclick=\"change_state(this, 'hide', hide_thing);\">hide</a></span></form></li><li class=\"report-button login-required\"><a class=\"reportbtn access-required\" data-event-action=\"report\" href=\"javascript:void(0)\">report</a></li></ul><div class=\"reportform report-t3_12p7275\"></div></div><div class=\"expando expando-uninitialized\" data-pin-condition=\"function() {return this.style.display != 'none';}\" style=\"display: none\"><span class=\"error\">loading...</span></div></div><div class=\"child\"></div><div class=\"clearleft\"></div></div>\n",
      "<div class=\"thing id-t3_11zc20t linkflair odd link\" data-author=\"nae-nae-gang\" data-author-fullname=\"t2_2zli5xtt\" data-comments-count=\"2\" data-context=\"listing\" data-domain=\"i.redd.it\" data-fullname=\"t3_11zc20t\" data-gildings=\"0\" data-is-gallery=\"false\" data-nsfw=\"false\" data-num-crossposts=\"0\" data-oc=\"false\" data-permalink=\"/r/Resortopia/comments/11zc20t/what_does_this_mean_ive_placed_a_bunch_of_stuff/\" data-promoted=\"false\" data-rank=\"\" data-score=\"4\" data-spoiler=\"false\" data-subreddit=\"Resortopia\" data-subreddit-fullname=\"t5_57ijka\" data-subreddit-prefixed=\"r/Resortopia\" data-subreddit-type=\"public\" data-timestamp=\"1679555011000\" data-type=\"link\" data-url=\"https://i.redd.it/z9pkin0dbhpa1.jpg\" data-whitelist-status=\"\" id=\"thing_t3_11zc20t\" onclick=\"click_thing(this)\"><p class=\"parent\"></p><span class=\"rank\"></span><div class=\"midcol unvoted\"><div aria-label=\"upvote\" class=\"arrow up login-required access-required\" data-event-action=\"upvote\" role=\"button\" tabindex=\"0\"></div><div class=\"score dislikes\" title=\"3\">3</div><div class=\"score unvoted\" title=\"4\">4</div><div class=\"score likes\" title=\"5\">5</div><div aria-label=\"downvote\" class=\"arrow down login-required access-required\" data-event-action=\"downvote\" role=\"button\" tabindex=\"0\"></div></div><a class=\"thumbnail invisible-when-pinned may-blank outbound\" data-event-action=\"thumbnail\" data-href-url=\"https://i.redd.it/z9pkin0dbhpa1.jpg\" data-outbound-expiration=\"0\" data-outbound-url=\"https://i.redd.it/z9pkin0dbhpa1.jpg\" href=\"https://i.redd.it/z9pkin0dbhpa1.jpg\" rel=\"nofollow ugc\"><img alt=\"\" height=\"70\" src=\"//b.thumbs.redditmedia.com/AfI40xGo4Z8-zt2DgjiBL3WRW8Nc1o3vh3Zhy__mhCY.jpg\" width=\"70\"/></a><div class=\"entry unvoted\"><div class=\"top-matter\"><p class=\"title\"><a class=\"title may-blank outbound\" data-event-action=\"title\" data-href-url=\"https://i.redd.it/z9pkin0dbhpa1.jpg\" data-outbound-expiration=\"0\" data-outbound-url=\"https://i.redd.it/z9pkin0dbhpa1.jpg\" href=\"https://i.redd.it/z9pkin0dbhpa1.jpg\" rel=\"nofollow ugc\" tabindex=\"1\">What does this mean? I’ve placed a bunch of stuff but nothing qualifies</a> <span class=\"domain\">(<a href=\"/domain/i.redd.it/\">i.redd.it</a>)</span></p><div class=\"expando-button collapsed hide-when-pinned video\"></div><p class=\"tagline\">submitted <time class=\"live-timestamp\" datetime=\"2023-03-23T07:03:31+00:00\" title=\"Thu Mar 23 07:03:31 2023 UTC\">1 month ago</time> by <a class=\"author may-blank id-t2_2zli5xtt\" href=\"https://old.reddit.com/user/nae-nae-gang\">nae-nae-gang</a><span class=\"userattrs\"></span> to <a class=\"subreddit hover may-blank\" href=\"https://old.reddit.com/r/Resortopia/\">r/Resortopia</a><span class=\"awardings-bar\" data-subredditpath=\"/r/Resortopia/\"></span></p><ul class=\"flat-list buttons\"><li class=\"first\"><a class=\"bylink comments may-blank\" data-event-action=\"comments\" href=\"https://old.reddit.com/r/Resortopia/comments/11zc20t/what_does_this_mean_ive_placed_a_bunch_of_stuff/\" rel=\"nofollow\">2 comments</a></li><li class=\"share\"><a class=\"post-sharing-button\" href=\"javascript: void 0;\">share</a></li><li class=\"link-save-button save-button login-required\"><a href=\"#\">save</a></li><li><form action=\"/post/hide\" class=\"state-button hide-button\" method=\"post\"><input name=\"executed\" type=\"hidden\" value=\"hidden\"/><span><a class=\"\" data-event-action=\"hide\" href=\"javascript:void(0)\" onclick=\"change_state(this, 'hide', hide_thing);\">hide</a></span></form></li><li class=\"report-button login-required\"><a class=\"reportbtn access-required\" data-event-action=\"report\" href=\"javascript:void(0)\">report</a></li></ul><div class=\"reportform report-t3_11zc20t\"></div></div><div class=\"expando expando-uninitialized\" data-cachedhtml=' &lt;div class=\"media-preview\" id=\"media-preview-11zc20t\" style=\"max-width: 727px\"&gt; &lt;div class=\"media-preview-content\"&gt; &lt;a href=\"https://i.redd.it/z9pkin0dbhpa1.jpg\" class=\"may-blank post-link\"&gt; &lt;img class=\"preview\" src=\"https://preview.redd.it/z9pkin0dbhpa1.jpg?width=727&amp;amp;auto=webp&amp;amp;v=enabled&amp;amp;s=1113ebadf5b9443f4102be8111f4632e56ac5178\" width=\"727\" height=\"768\"&gt; &lt;/a&gt; &lt;/div&gt; &lt;/div&gt; ' data-pin-condition=\"function() {return this.style.display != 'none';}\" style=\"display: none\"><span class=\"error\">loading...</span></div></div><div class=\"child\"></div><div class=\"clearleft\"></div></div>\n",
      "<div class=\"thing id-t3_11w9np7 odd link\" data-author=\"nae-nae-gang\" data-author-fullname=\"t2_2zli5xtt\" data-comments-count=\"108\" data-context=\"listing\" data-domain=\"old.reddit.com\" data-fullname=\"t3_11w9np7\" data-gildings=\"0\" data-is-gallery=\"true\" data-nsfw=\"false\" data-num-crossposts=\"0\" data-oc=\"false\" data-permalink=\"/r/IASIP/comments/11w9np7/you_guys_have_any_scenes_that_shocked_you_the/\" data-promoted=\"false\" data-rank=\"\" data-score=\"327\" data-spoiler=\"false\" data-subreddit=\"IASIP\" data-subreddit-fullname=\"t5_2s28b\" data-subreddit-prefixed=\"r/IASIP\" data-subreddit-type=\"public\" data-timestamp=\"1679290074000\" data-type=\"link\" data-url=\"https://www.reddit.com/gallery/11w9np7\" data-whitelist-status=\"all_ads\" id=\"thing_t3_11w9np7\" onclick=\"click_thing(this)\"><p class=\"parent\"></p><span class=\"rank\"></span><div class=\"midcol unvoted\"><div aria-label=\"upvote\" class=\"arrow up login-required access-required\" data-event-action=\"upvote\" role=\"button\" tabindex=\"0\"></div><div class=\"score dislikes\" title=\"326\">326</div><div class=\"score unvoted\" title=\"327\">327</div><div class=\"score likes\" title=\"328\">328</div><div aria-label=\"downvote\" class=\"arrow down login-required access-required\" data-event-action=\"downvote\" role=\"button\" tabindex=\"0\"></div></div><a class=\"thumbnail invisible-when-pinned may-blank outbound\" data-event-action=\"thumbnail\" data-href-url=\"https://www.reddit.com/gallery/11w9np7\" data-outbound-expiration=\"0\" data-outbound-url=\"https://www.reddit.com/gallery/11w9np7\" href=\"https://www.reddit.com/gallery/11w9np7\" rel=\"nofollow ugc\"><img alt=\"\" height=\"38\" src=\"//b.thumbs.redditmedia.com/kSljynKIa7AvTRgaY3d2a8lZnYA0bKl3I0EyK9MkhKE.jpg\" width=\"70\"/></a><div class=\"entry unvoted\"><div class=\"top-matter\"><p class=\"title\"><a class=\"title may-blank outbound\" data-event-action=\"title\" data-href-url=\"https://www.reddit.com/gallery/11w9np7\" data-outbound-expiration=\"0\" data-outbound-url=\"https://www.reddit.com/gallery/11w9np7\" href=\"https://www.reddit.com/gallery/11w9np7\" rel=\"nofollow ugc\" tabindex=\"1\">You guys have any scenes that shocked you the first time around? I think I actually gasped when Mac put the dog in the Mac and cheese</a> <span class=\"domain\">(<a href=\"/domain/old.reddit.com/\">old.reddit.com</a>)</span></p><div class=\"expando-button collapsed hide-when-pinned video\"></div><p class=\"tagline\">submitted <time class=\"live-timestamp\" datetime=\"2023-03-20T05:27:54+00:00\" title=\"Mon Mar 20 05:27:54 2023 UTC\">1 month ago</time> by <a class=\"author may-blank id-t2_2zli5xtt\" href=\"https://old.reddit.com/user/nae-nae-gang\">nae-nae-gang</a><span class=\"userattrs\"></span> to <a class=\"subreddit hover may-blank\" href=\"https://old.reddit.com/r/IASIP/\">r/IASIP</a><span class=\"awardings-bar\" data-subredditpath=\"/r/IASIP/\"></span></p><ul class=\"flat-list buttons\"><li class=\"first\"><a class=\"bylink comments may-blank\" data-event-action=\"comments\" href=\"https://old.reddit.com/r/IASIP/comments/11w9np7/you_guys_have_any_scenes_that_shocked_you_the/\" rel=\"nofollow\">108 comments</a></li><li class=\"share\"><a class=\"post-sharing-button\" href=\"javascript: void 0;\">share</a></li><li class=\"link-save-button save-button login-required\"><a href=\"#\">save</a></li><li><form action=\"/post/hide\" class=\"state-button hide-button\" method=\"post\"><input name=\"executed\" type=\"hidden\" value=\"hidden\"/><span><a class=\"\" data-event-action=\"hide\" href=\"javascript:void(0)\" onclick=\"change_state(this, 'hide', hide_thing);\">hide</a></span></form></li><li class=\"report-button login-required\"><a class=\"reportbtn access-required\" data-event-action=\"report\" href=\"javascript:void(0)\">report</a></li></ul><div class=\"reportform report-t3_11w9np7\"></div></div><div class=\"expando expando-uninitialized\" data-cachedhtml=' &lt;div class=\"media-preview\" data-media-ids=\"n2uqtkj1ytoa1,znh8mlj1ytoa1\" id=\"media-preview-11w9np7\" style=\"\"&gt; &lt;div class=\"media-gallery\"&gt; &lt;div class=\"gallery-tiles\"&gt; &lt;div class=\"gallery-tile gallery-navigation\" id=\"media-tile-11w9np7-n2uqtkj1ytoa1\" data-action=\"preview\" data-id36=\"11w9np7\" data-media-id=\"n2uqtkj1ytoa1\" style=\"max-width: 108px ; float: left ; padding: 4px\"&gt; &lt;div class=\"media-preview-content gallery-tile-content\"&gt; &lt;img class=\"preview\" src=\"https://preview.redd.it/n2uqtkj1ytoa1.jpg?width=108&amp;amp;crop=smart&amp;amp;auto=webp&amp;amp;v=enabled&amp;amp;s=fd7fc57f8ddfb08de100f947f96b6da3265a36f2\" width=\"108\" height=\"59\"&gt; &lt;/div&gt; &lt;/div&gt; &lt;div class=\"gallery-tile gallery-navigation\" id=\"media-tile-11w9np7-znh8mlj1ytoa1\" data-action=\"preview\" data-id36=\"11w9np7\" data-media-id=\"znh8mlj1ytoa1\" style=\"max-width: 108px ; float: left ; padding: 4px\"&gt; &lt;div class=\"media-preview-content gallery-tile-content\"&gt; &lt;img class=\"preview\" src=\"https://preview.redd.it/znh8mlj1ytoa1.jpg?width=108&amp;amp;crop=smart&amp;amp;auto=webp&amp;amp;v=enabled&amp;amp;s=70ae26c72fe8eedeea3980c673da78b7186df7e9\" width=\"108\" height=\"81\"&gt; &lt;/div&gt; &lt;/div&gt; &lt;/div&gt; &lt;div class=\"gallery-preview\" id=\"gallery-preview-11w9np7-n2uqtkj1ytoa1\" style=\"max-width: 1024px; display: none\"&gt; &lt;ul class=\"gallery-nav-bar\"&gt; &lt;li class=\"gallery-nav-prev gallery-navigation gallery-nav-disabled\" data-action=\"carousel\" data-id36=\"11w9np7\" data-media-id=\"n2uqtkj1ytoa1\" data-new-item=\"\"&gt; Previous &lt;/li&gt; &lt;li class=\"gallery-nav-next gallery-navigation False\" data-action=\"carousel\" data-id36=\"11w9np7\" data-media-id=\"n2uqtkj1ytoa1\" data-new-item=\"znh8mlj1ytoa1\"&gt; Next &lt;/li&gt; &lt;li class=\"gallery-nav-back gallery-navigation\" data-action=\"back\" data-id36=\"11w9np7\" data-media-id=\"n2uqtkj1ytoa1\" id=\"gallery-back-11w9np7-n2uqtkj1ytoa1\"&gt; Back to Grid View &lt;/li&gt; &lt;/ul&gt; &lt;div&gt; &lt;/div&gt; &lt;div class=\"media-preview-content\"&gt; &lt;a class=\"may-blank gallery-item-thumbnail-link\" data-position=\"1\" href=\"https://preview.redd.it/n2uqtkj1ytoa1.jpg?width=2113&amp;amp;format=pjpg&amp;amp;auto=webp&amp;amp;v=enabled&amp;amp;s=752c250700012ecd0fa74887159922b6afb75882\" target=\"_blank\"&gt; &lt;img class=\"preview\" src=\"https://preview.redd.it/n2uqtkj1ytoa1.jpg?width=960&amp;amp;crop=smart&amp;amp;auto=webp&amp;amp;v=enabled&amp;amp;s=e97283beb949160670751b7e197efbc6e53ad062\" width=\"1024\" height=\"567\"&gt; &lt;/a&gt; &lt;/div&gt; &lt;/div&gt; &lt;div class=\"gallery-preview\" id=\"gallery-preview-11w9np7-znh8mlj1ytoa1\" style=\"max-width: 480px; display: none\"&gt; &lt;ul class=\"gallery-nav-bar\"&gt; &lt;li class=\"gallery-nav-prev gallery-navigation False\" data-action=\"carousel\" data-id36=\"11w9np7\" data-media-id=\"znh8mlj1ytoa1\" data-new-item=\"n2uqtkj1ytoa1\"&gt; Previous &lt;/li&gt; &lt;li class=\"gallery-nav-next gallery-navigation gallery-nav-disabled\" data-action=\"carousel\" data-id36=\"11w9np7\" data-media-id=\"znh8mlj1ytoa1\" data-new-item=\"\"&gt; Next &lt;/li&gt; &lt;li class=\"gallery-nav-back gallery-navigation\" data-action=\"back\" data-id36=\"11w9np7\" data-media-id=\"znh8mlj1ytoa1\" id=\"gallery-back-11w9np7-znh8mlj1ytoa1\"&gt; Back to Grid View &lt;/li&gt; &lt;/ul&gt; &lt;div&gt; &lt;/div&gt; &lt;div class=\"media-preview-content\"&gt; &lt;a class=\"may-blank gallery-item-thumbnail-link\" data-position=\"2\" href=\"https://preview.redd.it/znh8mlj1ytoa1.jpg?width=480&amp;amp;format=pjpg&amp;amp;auto=webp&amp;amp;v=enabled&amp;amp;s=ea465276179491fb00dd9f9abbc2706bb6b54026\" target=\"_blank\"&gt; &lt;img class=\"preview\" src=\"https://preview.redd.it/znh8mlj1ytoa1.jpg?width=320&amp;amp;crop=smart&amp;amp;auto=webp&amp;amp;v=enabled&amp;amp;s=d9eaf35a6041fb057db804ef68c9e7ce8cb983ac\" width=\"480\" height=\"360\"&gt; &lt;/a&gt; &lt;/div&gt; &lt;/div&gt; &lt;/div&gt; &lt;script type=\"text/javascript\" src=\"//www.redditstatic.com/media-galleries.PCvLxhNnbZs.js\"&gt;&lt;/script&gt; &lt;/div&gt; ' data-pin-condition=\"function() {return this.style.display != 'none';}\" style=\"display: none\"><span class=\"error\">loading...</span></div></div><div class=\"child\"></div><div class=\"clearleft\"></div></div>\n"
     ]
    }
   ],
   "source": [
    "for post in soup.find_all('div', class_='link'):\n",
    "    print(post)"
   ]
  },
  {
   "cell_type": "code",
   "execution_count": 109,
   "metadata": {},
   "outputs": [
    {
     "name": "stdout",
     "output_type": "stream",
     "text": [
      "self:\n",
      "<div class=\"thing id-t3_12qvnpu linkflair odd link self\" data-author=\"nae-nae-gang\" data-author-fullname=\"t2_2zli5xtt\" data-comments-count=\"4\" data-context=\"listing\" data-domain=\"self.CookieRunKingdoms\" data-fullname=\"t3_12qvnpu\" data-gildings=\"0\" data-is-gallery=\"false\" data-nsfw=\"false\" data-num-crossposts=\"0\" data-oc=\"false\" data-permalink=\"/r/CookieRunKingdoms/comments/12qvnpu/is_mala_sauce_cookies_candy_worth_getting/\" data-promoted=\"false\" data-rank=\"\" data-score=\"1\" data-spoiler=\"false\" data-subreddit=\"CookieRunKingdoms\" data-subreddit-fullname=\"t5_3r5kro\" data-subreddit-prefixed=\"r/CookieRunKingdoms\" data-subreddit-type=\"public\" data-timestamp=\"1681836398000\" data-type=\"link\" data-url=\"/r/CookieRunKingdoms/comments/12qvnpu/is_mala_sauce_cookies_candy_worth_getting/\" data-whitelist-status=\"all_ads\" id=\"thing_t3_12qvnpu\" onclick=\"click_thing(this)\"><p class=\"parent\"></p><span class=\"rank\"></span><div class=\"midcol unvoted\"><div aria-label=\"upvote\" class=\"arrow up login-required access-required\" data-event-action=\"upvote\" role=\"button\" tabindex=\"0\"></div><div class=\"score dislikes\" title=\"0\">0</div><div class=\"score unvoted\" title=\"1\">1</div><div class=\"score likes\" title=\"2\">2</div><div aria-label=\"downvote\" class=\"arrow down login-required access-required\" data-event-action=\"downvote\" role=\"button\" tabindex=\"0\"></div></div><a class=\"thumbnail invisible-when-pinned self may-blank\" data-event-action=\"thumbnail\" href=\"/r/CookieRunKingdoms/comments/12qvnpu/is_mala_sauce_cookies_candy_worth_getting/\" rel=\"nofollow\"></a><div class=\"entry unvoted\"><div class=\"top-matter\"><p class=\"title\"><a class=\"title may-blank\" data-event-action=\"title\" href=\"/r/CookieRunKingdoms/comments/12qvnpu/is_mala_sauce_cookies_candy_worth_getting/\" rel=\"nofollow\" tabindex=\"1\">Is Mala sauce cookie’s candy worth getting?</a> <span class=\"domain\">(<a href=\"/r/CookieRunKingdoms/\">self.CookieRunKingdoms</a>)</span></p><div class=\"expando-button collapsed hide-when-pinned selftext\"></div><p class=\"tagline\">submitted <time class=\"live-timestamp\" datetime=\"2023-04-18T16:46:38+00:00\" title=\"Tue Apr 18 16:46:38 2023 UTC\">8 days ago</time> by <a class=\"author may-blank id-t2_2zli5xtt\" href=\"https://old.reddit.com/user/nae-nae-gang\">nae-nae-gang</a><span class=\"userattrs\"></span> to <a class=\"subreddit hover may-blank\" href=\"https://old.reddit.com/r/CookieRunKingdoms/\">r/CookieRunKingdoms</a><span class=\"awardings-bar\" data-subredditpath=\"/r/CookieRunKingdoms/\"></span></p><ul class=\"flat-list buttons\"><li class=\"first\"><a class=\"bylink comments may-blank\" data-event-action=\"comments\" href=\"https://old.reddit.com/r/CookieRunKingdoms/comments/12qvnpu/is_mala_sauce_cookies_candy_worth_getting/\" rel=\"nofollow\">4 comments</a></li><li class=\"share\"><a class=\"post-sharing-button\" href=\"javascript: void 0;\">share</a></li><li class=\"link-save-button save-button login-required\"><a href=\"#\">save</a></li><li><form action=\"/post/hide\" class=\"state-button hide-button\" method=\"post\"><input name=\"executed\" type=\"hidden\" value=\"hidden\"/><span><a class=\"\" data-event-action=\"hide\" href=\"javascript:void(0)\" onclick=\"change_state(this, 'hide', hide_thing);\">hide</a></span></form></li><li class=\"report-button login-required\"><a class=\"reportbtn access-required\" data-event-action=\"report\" href=\"javascript:void(0)\">report</a></li></ul><div class=\"reportform report-t3_12qvnpu\"></div></div><div class=\"expando expando-uninitialized\" data-pin-condition=\"function() {return this.style.display != 'none';}\" style=\"display: none\"><span class=\"error\">loading...</span></div></div><div class=\"child\"></div><div class=\"clearleft\"></div></div>\n",
      "links:\n",
      "<div class=\"thing id-t3_12p7275 odd link\" data-author=\"nae-nae-gang\" data-author-fullname=\"t2_2zli5xtt\" data-comments-count=\"11\" data-context=\"listing\" data-domain=\"docs.google.com\" data-fullname=\"t3_12p7275\" data-gildings=\"0\" data-is-gallery=\"false\" data-nsfw=\"false\" data-num-crossposts=\"0\" data-oc=\"false\" data-permalink=\"/r/IASIP/comments/12p7275/after_binging_the_show_i_ended_up_writing_a_paper/\" data-promoted=\"false\" data-rank=\"\" data-score=\"5\" data-spoiler=\"false\" data-subreddit=\"IASIP\" data-subreddit-fullname=\"t5_2s28b\" data-subreddit-prefixed=\"r/IASIP\" data-subreddit-type=\"public\" data-timestamp=\"1681717614000\" data-type=\"link\" data-url=\"https://docs.google.com/document/d/147dETfcqkH0D3Iqeonm0oDd8L4QfKDh4brNOd8w41sk/edit\" data-whitelist-status=\"all_ads\" id=\"thing_t3_12p7275\" onclick=\"click_thing(this)\"><p class=\"parent\"></p><span class=\"rank\"></span><div class=\"midcol unvoted\"><div aria-label=\"upvote\" class=\"arrow up login-required access-required\" data-event-action=\"upvote\" role=\"button\" tabindex=\"0\"></div><div class=\"score dislikes\" title=\"4\">4</div><div class=\"score unvoted\" title=\"5\">5</div><div class=\"score likes\" title=\"6\">6</div><div aria-label=\"downvote\" class=\"arrow down login-required access-required\" data-event-action=\"downvote\" role=\"button\" tabindex=\"0\"></div></div><a class=\"thumbnail invisible-when-pinned may-blank outbound\" data-event-action=\"thumbnail\" data-href-url=\"https://docs.google.com/document/d/147dETfcqkH0D3Iqeonm0oDd8L4QfKDh4brNOd8w41sk/edit\" data-outbound-expiration=\"1682556310000\" data-outbound-url=\"https://out.reddit.com/t3_12p7275?url=https%3A%2F%2Fdocs.google.com%2Fdocument%2Fd%2F147dETfcqkH0D3Iqeonm0oDd8L4QfKDh4brNOd8w41sk%2Fedit&amp;token=AQAAlsVJZHrhkwlW6DyQjP_7mIPEd6VW8o4GRWuD4hoqvcSBcVSg&amp;app_name=reddit.com\" href=\"https://docs.google.com/document/d/147dETfcqkH0D3Iqeonm0oDd8L4QfKDh4brNOd8w41sk/edit\" rel=\"nofollow ugc\"><img alt=\"\" height=\"36\" src=\"//b.thumbs.redditmedia.com/Xy_D7_-NGQQNhBg_jxC4qam95HYVcjW5n75O8vFmhOE.jpg\" width=\"70\"/></a><div class=\"entry unvoted\"><div class=\"top-matter\"><p class=\"title\"><a class=\"title may-blank outbound\" data-event-action=\"title\" data-href-url=\"https://docs.google.com/document/d/147dETfcqkH0D3Iqeonm0oDd8L4QfKDh4brNOd8w41sk/edit\" data-outbound-expiration=\"1682556310000\" data-outbound-url=\"https://out.reddit.com/t3_12p7275?url=https%3A%2F%2Fdocs.google.com%2Fdocument%2Fd%2F147dETfcqkH0D3Iqeonm0oDd8L4QfKDh4brNOd8w41sk%2Fedit&amp;token=AQAAlsVJZHrhkwlW6DyQjP_7mIPEd6VW8o4GRWuD4hoqvcSBcVSg&amp;app_name=reddit.com\" href=\"https://docs.google.com/document/d/147dETfcqkH0D3Iqeonm0oDd8L4QfKDh4brNOd8w41sk/edit\" rel=\"nofollow ugc\" tabindex=\"1\">After binging the show I ended up writing a paper about Charlie’s character. I hope you enjoy</a> <span class=\"domain\">(<a href=\"/domain/docs.google.com/\">docs.google.com</a>)</span></p><div class=\"expando-button collapsed hide-when-pinned selftext\"></div><p class=\"tagline\">submitted <time class=\"live-timestamp\" datetime=\"2023-04-17T07:46:54+00:00\" title=\"Mon Apr 17 07:46:54 2023 UTC\">9 days ago</time> by <a class=\"author may-blank id-t2_2zli5xtt\" href=\"https://old.reddit.com/user/nae-nae-gang\">nae-nae-gang</a><span class=\"userattrs\"></span> to <a class=\"subreddit hover may-blank\" href=\"https://old.reddit.com/r/IASIP/\">r/IASIP</a><span class=\"awardings-bar\" data-subredditpath=\"/r/IASIP/\"></span></p><ul class=\"flat-list buttons\"><li class=\"first\"><a class=\"bylink comments may-blank\" data-event-action=\"comments\" href=\"https://old.reddit.com/r/IASIP/comments/12p7275/after_binging_the_show_i_ended_up_writing_a_paper/\" rel=\"nofollow\">11 comments</a></li><li class=\"share\"><a class=\"post-sharing-button\" href=\"javascript: void 0;\">share</a></li><li class=\"link-save-button save-button login-required\"><a href=\"#\">save</a></li><li><form action=\"/post/hide\" class=\"state-button hide-button\" method=\"post\"><input name=\"executed\" type=\"hidden\" value=\"hidden\"/><span><a class=\"\" data-event-action=\"hide\" href=\"javascript:void(0)\" onclick=\"change_state(this, 'hide', hide_thing);\">hide</a></span></form></li><li class=\"report-button login-required\"><a class=\"reportbtn access-required\" data-event-action=\"report\" href=\"javascript:void(0)\">report</a></li></ul><div class=\"reportform report-t3_12p7275\"></div></div><div class=\"expando expando-uninitialized\" data-pin-condition=\"function() {return this.style.display != 'none';}\" style=\"display: none\"><span class=\"error\">loading...</span></div></div><div class=\"child\"></div><div class=\"clearleft\"></div></div>\n",
      "pictures:\n",
      "<div class=\"thing id-t3_1301dlb odd link\" data-author=\"nae-nae-gang\" data-author-fullname=\"t2_2zli5xtt\" data-comments-count=\"7\" data-context=\"listing\" data-domain=\"old.reddit.com\" data-fullname=\"t3_1301dlb\" data-gildings=\"0\" data-is-gallery=\"true\" data-nsfw=\"false\" data-num-crossposts=\"0\" data-oc=\"false\" data-permalink=\"/r/IASIP/comments/1301dlb/channeling_my_inner_janitor_with_this_outfit/\" data-promoted=\"false\" data-rank=\"\" data-score=\"36\" data-spoiler=\"false\" data-subreddit=\"IASIP\" data-subreddit-fullname=\"t5_2s28b\" data-subreddit-prefixed=\"r/IASIP\" data-subreddit-type=\"public\" data-timestamp=\"1682547221000\" data-type=\"link\" data-url=\"https://www.reddit.com/gallery/1301dlb\" data-whitelist-status=\"all_ads\" id=\"thing_t3_1301dlb\" onclick=\"click_thing(this)\"><p class=\"parent\"></p><span class=\"rank\"></span><div class=\"midcol unvoted\"><div aria-label=\"upvote\" class=\"arrow up login-required access-required\" data-event-action=\"upvote\" role=\"button\" tabindex=\"0\"></div><div class=\"score likes\">•</div><div class=\"score unvoted\">•</div><div class=\"score dislikes\">•</div><div aria-label=\"downvote\" class=\"arrow down login-required access-required\" data-event-action=\"downvote\" role=\"button\" tabindex=\"0\"></div></div><a class=\"thumbnail invisible-when-pinned may-blank outbound\" data-event-action=\"thumbnail\" data-href-url=\"https://www.reddit.com/gallery/1301dlb\" data-outbound-expiration=\"0\" data-outbound-url=\"https://www.reddit.com/gallery/1301dlb\" href=\"https://www.reddit.com/gallery/1301dlb\" rel=\"nofollow ugc\"><img alt=\"\" height=\"70\" src=\"//b.thumbs.redditmedia.com/UyCfM2QrP0_RJfslcSAfMsZ0VoOENF2ackVS6Jr0-GE.jpg\" width=\"70\"/></a><div class=\"entry unvoted\"><div class=\"top-matter\"><p class=\"title\"><a class=\"title may-blank outbound\" data-event-action=\"title\" data-href-url=\"https://www.reddit.com/gallery/1301dlb\" data-outbound-expiration=\"0\" data-outbound-url=\"https://www.reddit.com/gallery/1301dlb\" href=\"https://www.reddit.com/gallery/1301dlb\" rel=\"nofollow ugc\" tabindex=\"1\">Channeling my inner janitor with this outfit</a> <span class=\"domain\">(<a href=\"/domain/old.reddit.com/\">old.reddit.com</a>)</span></p><div class=\"expando-button collapsed hide-when-pinned video\"></div><p class=\"tagline\">submitted <time class=\"live-timestamp\" datetime=\"2023-04-26T22:13:41+00:00\" title=\"Wed Apr 26 22:13:41 2023 UTC\">1 hour ago</time> by <a class=\"author may-blank id-t2_2zli5xtt\" href=\"https://old.reddit.com/user/nae-nae-gang\">nae-nae-gang</a><span class=\"userattrs\"></span> to <a class=\"subreddit hover may-blank\" href=\"https://old.reddit.com/r/IASIP/\">r/IASIP</a><span class=\"awardings-bar\" data-subredditpath=\"/r/IASIP/\"></span></p><ul class=\"flat-list buttons\"><li class=\"first\"><a class=\"bylink comments may-blank\" data-event-action=\"comments\" href=\"https://old.reddit.com/r/IASIP/comments/1301dlb/channeling_my_inner_janitor_with_this_outfit/\" rel=\"nofollow\">7 comments</a></li><li class=\"share\"><a class=\"post-sharing-button\" href=\"javascript: void 0;\">share</a></li><li class=\"link-save-button save-button login-required\"><a href=\"#\">save</a></li><li><form action=\"/post/hide\" class=\"state-button hide-button\" method=\"post\"><input name=\"executed\" type=\"hidden\" value=\"hidden\"/><span><a class=\"\" data-event-action=\"hide\" href=\"javascript:void(0)\" onclick=\"change_state(this, 'hide', hide_thing);\">hide</a></span></form></li><li class=\"report-button login-required\"><a class=\"reportbtn access-required\" data-event-action=\"report\" href=\"javascript:void(0)\">report</a></li></ul><div class=\"reportform report-t3_1301dlb\"></div></div><div class=\"expando expando-uninitialized\" data-cachedhtml=' &lt;div class=\"media-preview\" data-media-ids=\"lyyps4o7zawa1,fxz6h5o7zawa1\" id=\"media-preview-1301dlb\" style=\"\"&gt; &lt;div class=\"media-gallery\"&gt; &lt;div class=\"gallery-tiles\"&gt; &lt;div class=\"gallery-tile gallery-navigation\" id=\"media-tile-1301dlb-lyyps4o7zawa1\" data-action=\"preview\" data-id36=\"1301dlb\" data-media-id=\"lyyps4o7zawa1\" style=\"max-width: 108px ; float: left ; padding: 4px\"&gt; &lt;div class=\"media-preview-content gallery-tile-content\"&gt; &lt;img class=\"preview\" src=\"https://preview.redd.it/lyyps4o7zawa1.jpg?width=108&amp;amp;crop=smart&amp;amp;auto=webp&amp;amp;v=enabled&amp;amp;s=b40db009807f72961ac3955d092c1252aa97697f\" width=\"108\" height=\"144\"&gt; &lt;/div&gt; &lt;/div&gt; &lt;div class=\"gallery-tile gallery-navigation\" id=\"media-tile-1301dlb-fxz6h5o7zawa1\" data-action=\"preview\" data-id36=\"1301dlb\" data-media-id=\"fxz6h5o7zawa1\" style=\"max-width: 108px ; float: left ; padding: 4px\"&gt; &lt;div class=\"media-preview-content gallery-tile-content\"&gt; &lt;img class=\"preview\" src=\"https://preview.redd.it/fxz6h5o7zawa1.jpg?width=108&amp;amp;crop=smart&amp;amp;auto=webp&amp;amp;v=enabled&amp;amp;s=03b386ac9bf7ca335b3b28e5154ab6c3cdfac00a\" width=\"108\" height=\"216\"&gt; &lt;/div&gt; &lt;/div&gt; &lt;/div&gt; &lt;div class=\"gallery-preview\" id=\"gallery-preview-1301dlb-lyyps4o7zawa1\" style=\"max-width: 576px; display: none\"&gt; &lt;ul class=\"gallery-nav-bar\"&gt; &lt;li class=\"gallery-nav-prev gallery-navigation gallery-nav-disabled\" data-action=\"carousel\" data-id36=\"1301dlb\" data-media-id=\"lyyps4o7zawa1\" data-new-item=\"\"&gt; Previous &lt;/li&gt; &lt;li class=\"gallery-nav-next gallery-navigation False\" data-action=\"carousel\" data-id36=\"1301dlb\" data-media-id=\"lyyps4o7zawa1\" data-new-item=\"fxz6h5o7zawa1\"&gt; Next &lt;/li&gt; &lt;li class=\"gallery-nav-back gallery-navigation\" data-action=\"back\" data-id36=\"1301dlb\" data-media-id=\"lyyps4o7zawa1\" id=\"gallery-back-1301dlb-lyyps4o7zawa1\"&gt; Back to Grid View &lt;/li&gt; &lt;/ul&gt; &lt;div&gt; &lt;/div&gt; &lt;div class=\"media-preview-content\"&gt; &lt;a class=\"may-blank gallery-item-thumbnail-link\" data-position=\"1\" href=\"https://preview.redd.it/lyyps4o7zawa1.jpg?width=3024&amp;amp;format=pjpg&amp;amp;auto=webp&amp;amp;v=enabled&amp;amp;s=4bf6c79e97ecc3067d9c0e98e4835aaa08ff9a58\" target=\"_blank\"&gt; &lt;img class=\"preview\" src=\"https://preview.redd.it/lyyps4o7zawa1.jpg?width=320&amp;amp;crop=smart&amp;amp;auto=webp&amp;amp;v=enabled&amp;amp;s=ba66c74bcf290ccf5973f78996567d01c6286257\" width=\"576\" height=\"768\"&gt; &lt;/a&gt; &lt;/div&gt; &lt;/div&gt; &lt;div class=\"gallery-preview\" id=\"gallery-preview-1301dlb-fxz6h5o7zawa1\" style=\"max-width: 217px; display: none\"&gt; &lt;ul class=\"gallery-nav-bar\"&gt; &lt;li class=\"gallery-nav-prev gallery-navigation False\" data-action=\"carousel\" data-id36=\"1301dlb\" data-media-id=\"fxz6h5o7zawa1\" data-new-item=\"lyyps4o7zawa1\"&gt; Previous &lt;/li&gt; &lt;li class=\"gallery-nav-next gallery-navigation gallery-nav-disabled\" data-action=\"carousel\" data-id36=\"1301dlb\" data-media-id=\"fxz6h5o7zawa1\" data-new-item=\"\"&gt; Next &lt;/li&gt; &lt;li class=\"gallery-nav-back gallery-navigation\" data-action=\"back\" data-id36=\"1301dlb\" data-media-id=\"fxz6h5o7zawa1\" id=\"gallery-back-1301dlb-fxz6h5o7zawa1\"&gt; Back to Grid View &lt;/li&gt; &lt;/ul&gt; &lt;div&gt; &lt;/div&gt; &lt;div class=\"media-preview-content\"&gt; &lt;a class=\"may-blank gallery-item-thumbnail-link\" data-position=\"2\" href=\"https://preview.redd.it/fxz6h5o7zawa1.jpg?width=217&amp;amp;format=pjpg&amp;amp;auto=webp&amp;amp;v=enabled&amp;amp;s=38e7ec91e3e123d8e140da9f231003934551b329\" target=\"_blank\"&gt; &lt;img class=\"preview\" src=\"https://preview.redd.it/fxz6h5o7zawa1.jpg?width=216&amp;amp;crop=smart&amp;amp;auto=webp&amp;amp;v=enabled&amp;amp;s=376c1c3f2fbaf879e434198361f1a753a07c4852\" width=\"217\" height=\"604\"&gt; &lt;/a&gt; &lt;/div&gt; &lt;/div&gt; &lt;/div&gt; &lt;script type=\"text/javascript\" src=\"//www.redditstatic.com/media-galleries.PCvLxhNnbZs.js\"&gt;&lt;/script&gt; &lt;/div&gt; ' data-pin-condition=\"function() {return this.style.display != 'none';}\" style=\"display: none\"><span class=\"error\">loading...</span></div></div><div class=\"child\"></div><div class=\"clearleft\"></div></div>\n",
      "pictures:\n",
      "<div class=\"thing id-t3_11w9np7 odd link\" data-author=\"nae-nae-gang\" data-author-fullname=\"t2_2zli5xtt\" data-comments-count=\"108\" data-context=\"listing\" data-domain=\"old.reddit.com\" data-fullname=\"t3_11w9np7\" data-gildings=\"0\" data-is-gallery=\"true\" data-nsfw=\"false\" data-num-crossposts=\"0\" data-oc=\"false\" data-permalink=\"/r/IASIP/comments/11w9np7/you_guys_have_any_scenes_that_shocked_you_the/\" data-promoted=\"false\" data-rank=\"\" data-score=\"327\" data-spoiler=\"false\" data-subreddit=\"IASIP\" data-subreddit-fullname=\"t5_2s28b\" data-subreddit-prefixed=\"r/IASIP\" data-subreddit-type=\"public\" data-timestamp=\"1679290074000\" data-type=\"link\" data-url=\"https://www.reddit.com/gallery/11w9np7\" data-whitelist-status=\"all_ads\" id=\"thing_t3_11w9np7\" onclick=\"click_thing(this)\"><p class=\"parent\"></p><span class=\"rank\"></span><div class=\"midcol unvoted\"><div aria-label=\"upvote\" class=\"arrow up login-required access-required\" data-event-action=\"upvote\" role=\"button\" tabindex=\"0\"></div><div class=\"score dislikes\" title=\"326\">326</div><div class=\"score unvoted\" title=\"327\">327</div><div class=\"score likes\" title=\"328\">328</div><div aria-label=\"downvote\" class=\"arrow down login-required access-required\" data-event-action=\"downvote\" role=\"button\" tabindex=\"0\"></div></div><a class=\"thumbnail invisible-when-pinned may-blank outbound\" data-event-action=\"thumbnail\" data-href-url=\"https://www.reddit.com/gallery/11w9np7\" data-outbound-expiration=\"0\" data-outbound-url=\"https://www.reddit.com/gallery/11w9np7\" href=\"https://www.reddit.com/gallery/11w9np7\" rel=\"nofollow ugc\"><img alt=\"\" height=\"38\" src=\"//b.thumbs.redditmedia.com/kSljynKIa7AvTRgaY3d2a8lZnYA0bKl3I0EyK9MkhKE.jpg\" width=\"70\"/></a><div class=\"entry unvoted\"><div class=\"top-matter\"><p class=\"title\"><a class=\"title may-blank outbound\" data-event-action=\"title\" data-href-url=\"https://www.reddit.com/gallery/11w9np7\" data-outbound-expiration=\"0\" data-outbound-url=\"https://www.reddit.com/gallery/11w9np7\" href=\"https://www.reddit.com/gallery/11w9np7\" rel=\"nofollow ugc\" tabindex=\"1\">You guys have any scenes that shocked you the first time around? I think I actually gasped when Mac put the dog in the Mac and cheese</a> <span class=\"domain\">(<a href=\"/domain/old.reddit.com/\">old.reddit.com</a>)</span></p><div class=\"expando-button collapsed hide-when-pinned video\"></div><p class=\"tagline\">submitted <time class=\"live-timestamp\" datetime=\"2023-03-20T05:27:54+00:00\" title=\"Mon Mar 20 05:27:54 2023 UTC\">1 month ago</time> by <a class=\"author may-blank id-t2_2zli5xtt\" href=\"https://old.reddit.com/user/nae-nae-gang\">nae-nae-gang</a><span class=\"userattrs\"></span> to <a class=\"subreddit hover may-blank\" href=\"https://old.reddit.com/r/IASIP/\">r/IASIP</a><span class=\"awardings-bar\" data-subredditpath=\"/r/IASIP/\"></span></p><ul class=\"flat-list buttons\"><li class=\"first\"><a class=\"bylink comments may-blank\" data-event-action=\"comments\" href=\"https://old.reddit.com/r/IASIP/comments/11w9np7/you_guys_have_any_scenes_that_shocked_you_the/\" rel=\"nofollow\">108 comments</a></li><li class=\"share\"><a class=\"post-sharing-button\" href=\"javascript: void 0;\">share</a></li><li class=\"link-save-button save-button login-required\"><a href=\"#\">save</a></li><li><form action=\"/post/hide\" class=\"state-button hide-button\" method=\"post\"><input name=\"executed\" type=\"hidden\" value=\"hidden\"/><span><a class=\"\" data-event-action=\"hide\" href=\"javascript:void(0)\" onclick=\"change_state(this, 'hide', hide_thing);\">hide</a></span></form></li><li class=\"report-button login-required\"><a class=\"reportbtn access-required\" data-event-action=\"report\" href=\"javascript:void(0)\">report</a></li></ul><div class=\"reportform report-t3_11w9np7\"></div></div><div class=\"expando expando-uninitialized\" data-cachedhtml=' &lt;div class=\"media-preview\" data-media-ids=\"n2uqtkj1ytoa1,znh8mlj1ytoa1\" id=\"media-preview-11w9np7\" style=\"\"&gt; &lt;div class=\"media-gallery\"&gt; &lt;div class=\"gallery-tiles\"&gt; &lt;div class=\"gallery-tile gallery-navigation\" id=\"media-tile-11w9np7-n2uqtkj1ytoa1\" data-action=\"preview\" data-id36=\"11w9np7\" data-media-id=\"n2uqtkj1ytoa1\" style=\"max-width: 108px ; float: left ; padding: 4px\"&gt; &lt;div class=\"media-preview-content gallery-tile-content\"&gt; &lt;img class=\"preview\" src=\"https://preview.redd.it/n2uqtkj1ytoa1.jpg?width=108&amp;amp;crop=smart&amp;amp;auto=webp&amp;amp;v=enabled&amp;amp;s=fd7fc57f8ddfb08de100f947f96b6da3265a36f2\" width=\"108\" height=\"59\"&gt; &lt;/div&gt; &lt;/div&gt; &lt;div class=\"gallery-tile gallery-navigation\" id=\"media-tile-11w9np7-znh8mlj1ytoa1\" data-action=\"preview\" data-id36=\"11w9np7\" data-media-id=\"znh8mlj1ytoa1\" style=\"max-width: 108px ; float: left ; padding: 4px\"&gt; &lt;div class=\"media-preview-content gallery-tile-content\"&gt; &lt;img class=\"preview\" src=\"https://preview.redd.it/znh8mlj1ytoa1.jpg?width=108&amp;amp;crop=smart&amp;amp;auto=webp&amp;amp;v=enabled&amp;amp;s=70ae26c72fe8eedeea3980c673da78b7186df7e9\" width=\"108\" height=\"81\"&gt; &lt;/div&gt; &lt;/div&gt; &lt;/div&gt; &lt;div class=\"gallery-preview\" id=\"gallery-preview-11w9np7-n2uqtkj1ytoa1\" style=\"max-width: 1024px; display: none\"&gt; &lt;ul class=\"gallery-nav-bar\"&gt; &lt;li class=\"gallery-nav-prev gallery-navigation gallery-nav-disabled\" data-action=\"carousel\" data-id36=\"11w9np7\" data-media-id=\"n2uqtkj1ytoa1\" data-new-item=\"\"&gt; Previous &lt;/li&gt; &lt;li class=\"gallery-nav-next gallery-navigation False\" data-action=\"carousel\" data-id36=\"11w9np7\" data-media-id=\"n2uqtkj1ytoa1\" data-new-item=\"znh8mlj1ytoa1\"&gt; Next &lt;/li&gt; &lt;li class=\"gallery-nav-back gallery-navigation\" data-action=\"back\" data-id36=\"11w9np7\" data-media-id=\"n2uqtkj1ytoa1\" id=\"gallery-back-11w9np7-n2uqtkj1ytoa1\"&gt; Back to Grid View &lt;/li&gt; &lt;/ul&gt; &lt;div&gt; &lt;/div&gt; &lt;div class=\"media-preview-content\"&gt; &lt;a class=\"may-blank gallery-item-thumbnail-link\" data-position=\"1\" href=\"https://preview.redd.it/n2uqtkj1ytoa1.jpg?width=2113&amp;amp;format=pjpg&amp;amp;auto=webp&amp;amp;v=enabled&amp;amp;s=752c250700012ecd0fa74887159922b6afb75882\" target=\"_blank\"&gt; &lt;img class=\"preview\" src=\"https://preview.redd.it/n2uqtkj1ytoa1.jpg?width=960&amp;amp;crop=smart&amp;amp;auto=webp&amp;amp;v=enabled&amp;amp;s=e97283beb949160670751b7e197efbc6e53ad062\" width=\"1024\" height=\"567\"&gt; &lt;/a&gt; &lt;/div&gt; &lt;/div&gt; &lt;div class=\"gallery-preview\" id=\"gallery-preview-11w9np7-znh8mlj1ytoa1\" style=\"max-width: 480px; display: none\"&gt; &lt;ul class=\"gallery-nav-bar\"&gt; &lt;li class=\"gallery-nav-prev gallery-navigation False\" data-action=\"carousel\" data-id36=\"11w9np7\" data-media-id=\"znh8mlj1ytoa1\" data-new-item=\"n2uqtkj1ytoa1\"&gt; Previous &lt;/li&gt; &lt;li class=\"gallery-nav-next gallery-navigation gallery-nav-disabled\" data-action=\"carousel\" data-id36=\"11w9np7\" data-media-id=\"znh8mlj1ytoa1\" data-new-item=\"\"&gt; Next &lt;/li&gt; &lt;li class=\"gallery-nav-back gallery-navigation\" data-action=\"back\" data-id36=\"11w9np7\" data-media-id=\"znh8mlj1ytoa1\" id=\"gallery-back-11w9np7-znh8mlj1ytoa1\"&gt; Back to Grid View &lt;/li&gt; &lt;/ul&gt; &lt;div&gt; &lt;/div&gt; &lt;div class=\"media-preview-content\"&gt; &lt;a class=\"may-blank gallery-item-thumbnail-link\" data-position=\"2\" href=\"https://preview.redd.it/znh8mlj1ytoa1.jpg?width=480&amp;amp;format=pjpg&amp;amp;auto=webp&amp;amp;v=enabled&amp;amp;s=ea465276179491fb00dd9f9abbc2706bb6b54026\" target=\"_blank\"&gt; &lt;img class=\"preview\" src=\"https://preview.redd.it/znh8mlj1ytoa1.jpg?width=320&amp;amp;crop=smart&amp;amp;auto=webp&amp;amp;v=enabled&amp;amp;s=d9eaf35a6041fb057db804ef68c9e7ce8cb983ac\" width=\"480\" height=\"360\"&gt; &lt;/a&gt; &lt;/div&gt; &lt;/div&gt; &lt;/div&gt; &lt;script type=\"text/javascript\" src=\"//www.redditstatic.com/media-galleries.PCvLxhNnbZs.js\"&gt;&lt;/script&gt; &lt;/div&gt; ' data-pin-condition=\"function() {return this.style.display != 'none';}\" style=\"display: none\"><span class=\"error\">loading...</span></div></div><div class=\"child\"></div><div class=\"clearleft\"></div></div>\n",
      "pictures:\n",
      "<div class=\"thing id-t3_11zc20t linkflair odd link\" data-author=\"nae-nae-gang\" data-author-fullname=\"t2_2zli5xtt\" data-comments-count=\"2\" data-context=\"listing\" data-domain=\"i.redd.it\" data-fullname=\"t3_11zc20t\" data-gildings=\"0\" data-is-gallery=\"false\" data-nsfw=\"false\" data-num-crossposts=\"0\" data-oc=\"false\" data-permalink=\"/r/Resortopia/comments/11zc20t/what_does_this_mean_ive_placed_a_bunch_of_stuff/\" data-promoted=\"false\" data-rank=\"\" data-score=\"4\" data-spoiler=\"false\" data-subreddit=\"Resortopia\" data-subreddit-fullname=\"t5_57ijka\" data-subreddit-prefixed=\"r/Resortopia\" data-subreddit-type=\"public\" data-timestamp=\"1679555011000\" data-type=\"link\" data-url=\"https://i.redd.it/z9pkin0dbhpa1.jpg\" data-whitelist-status=\"\" id=\"thing_t3_11zc20t\" onclick=\"click_thing(this)\"><p class=\"parent\"></p><span class=\"rank\"></span><div class=\"midcol unvoted\"><div aria-label=\"upvote\" class=\"arrow up login-required access-required\" data-event-action=\"upvote\" role=\"button\" tabindex=\"0\"></div><div class=\"score dislikes\" title=\"3\">3</div><div class=\"score unvoted\" title=\"4\">4</div><div class=\"score likes\" title=\"5\">5</div><div aria-label=\"downvote\" class=\"arrow down login-required access-required\" data-event-action=\"downvote\" role=\"button\" tabindex=\"0\"></div></div><a class=\"thumbnail invisible-when-pinned may-blank outbound\" data-event-action=\"thumbnail\" data-href-url=\"https://i.redd.it/z9pkin0dbhpa1.jpg\" data-outbound-expiration=\"0\" data-outbound-url=\"https://i.redd.it/z9pkin0dbhpa1.jpg\" href=\"https://i.redd.it/z9pkin0dbhpa1.jpg\" rel=\"nofollow ugc\"><img alt=\"\" height=\"70\" src=\"//b.thumbs.redditmedia.com/AfI40xGo4Z8-zt2DgjiBL3WRW8Nc1o3vh3Zhy__mhCY.jpg\" width=\"70\"/></a><div class=\"entry unvoted\"><div class=\"top-matter\"><p class=\"title\"><a class=\"title may-blank outbound\" data-event-action=\"title\" data-href-url=\"https://i.redd.it/z9pkin0dbhpa1.jpg\" data-outbound-expiration=\"0\" data-outbound-url=\"https://i.redd.it/z9pkin0dbhpa1.jpg\" href=\"https://i.redd.it/z9pkin0dbhpa1.jpg\" rel=\"nofollow ugc\" tabindex=\"1\">What does this mean? I’ve placed a bunch of stuff but nothing qualifies</a> <span class=\"domain\">(<a href=\"/domain/i.redd.it/\">i.redd.it</a>)</span></p><div class=\"expando-button collapsed hide-when-pinned video\"></div><p class=\"tagline\">submitted <time class=\"live-timestamp\" datetime=\"2023-03-23T07:03:31+00:00\" title=\"Thu Mar 23 07:03:31 2023 UTC\">1 month ago</time> by <a class=\"author may-blank id-t2_2zli5xtt\" href=\"https://old.reddit.com/user/nae-nae-gang\">nae-nae-gang</a><span class=\"userattrs\"></span> to <a class=\"subreddit hover may-blank\" href=\"https://old.reddit.com/r/Resortopia/\">r/Resortopia</a><span class=\"awardings-bar\" data-subredditpath=\"/r/Resortopia/\"></span></p><ul class=\"flat-list buttons\"><li class=\"first\"><a class=\"bylink comments may-blank\" data-event-action=\"comments\" href=\"https://old.reddit.com/r/Resortopia/comments/11zc20t/what_does_this_mean_ive_placed_a_bunch_of_stuff/\" rel=\"nofollow\">2 comments</a></li><li class=\"share\"><a class=\"post-sharing-button\" href=\"javascript: void 0;\">share</a></li><li class=\"link-save-button save-button login-required\"><a href=\"#\">save</a></li><li><form action=\"/post/hide\" class=\"state-button hide-button\" method=\"post\"><input name=\"executed\" type=\"hidden\" value=\"hidden\"/><span><a class=\"\" data-event-action=\"hide\" href=\"javascript:void(0)\" onclick=\"change_state(this, 'hide', hide_thing);\">hide</a></span></form></li><li class=\"report-button login-required\"><a class=\"reportbtn access-required\" data-event-action=\"report\" href=\"javascript:void(0)\">report</a></li></ul><div class=\"reportform report-t3_11zc20t\"></div></div><div class=\"expando expando-uninitialized\" data-cachedhtml=' &lt;div class=\"media-preview\" id=\"media-preview-11zc20t\" style=\"max-width: 727px\"&gt; &lt;div class=\"media-preview-content\"&gt; &lt;a href=\"https://i.redd.it/z9pkin0dbhpa1.jpg\" class=\"may-blank post-link\"&gt; &lt;img class=\"preview\" src=\"https://preview.redd.it/z9pkin0dbhpa1.jpg?width=727&amp;amp;auto=webp&amp;amp;v=enabled&amp;amp;s=1113ebadf5b9443f4102be8111f4632e56ac5178\" width=\"727\" height=\"768\"&gt; &lt;/a&gt; &lt;/div&gt; &lt;/div&gt; ' data-pin-condition=\"function() {return this.style.display != 'none';}\" style=\"display: none\"><span class=\"error\">loading...</span></div></div><div class=\"child\"></div><div class=\"clearleft\"></div></div>\n",
      "5\n"
     ]
    }
   ],
   "source": [
    "#Identify Posts\n",
    "\n",
    "posts = []\n",
    "post_count = 0\n",
    "\n",
    "#self post\n",
    "for self_post in soup.find_all('div', class_='self'):\n",
    "    print(\"self:\")\n",
    "    print(self_post)\n",
    "    post_count += 1\n",
    "\n",
    "#crosspost\n",
    "for cross_post in soup.find_all('div', {'class':'link', 'data-crosspost-root-title': True}):\n",
    "    print(\"cross:\")\n",
    "    print(cross_post)\n",
    "    post_count += 1\n",
    "\n",
    "\n",
    "domains = ['old.reddit.com', 'i.redd.it', 'v.redd.it']\n",
    "\n",
    "#link\n",
    "for link_post in soup.find_all(lambda tag: tag.has_attr('data-domain') and not any(domain in tag['data-domain'] for domain in domains )and 'self' not in tag.get('class', [])):\n",
    "    print(\"links:\")\n",
    "    print(link_post)\n",
    "    post_count += 1\n",
    "\n",
    "#video\n",
    "for video_post in soup.find_all('div', {'class':'link', \"data-domain\": \"v.redd.it\"}):\n",
    "    print(\"Videos:\")\n",
    "    print(video_post)\n",
    "    post_count += 1\n",
    "\n",
    "#picture \n",
    "for pic_post in soup.find_all('div', {'class':'link', \"data-domain\": \"old.reddit.com\"}):\n",
    "    print(\"pictures:\")\n",
    "    print(pic_post)\n",
    "    post_count += 1\n",
    "for pic_post in soup.find_all('div', {'class':'link', \"data-domain\": \"i.redd.it\"}):\n",
    "    print(\"pictures:\")\n",
    "    print(pic_post)\n",
    "    post_count += 1\n",
    "\n",
    "\n",
    "print(post_count)"
   ]
  },
  {
   "cell_type": "code",
   "execution_count": 111,
   "metadata": {},
   "outputs": [
    {
     "name": "stdout",
     "output_type": "stream",
     "text": [
      "working\n"
     ]
    }
   ],
   "source": [
    "if (post_count + comment_count) != 25:\n",
    "    print(\"Error\")\n",
    "else:\n",
    "    print(\"working\")"
   ]
  },
  {
   "cell_type": "code",
   "execution_count": null,
   "metadata": {},
   "outputs": [],
   "source": [
    "user_data = {\n",
    "    'user_info': {\n",
    "        'username': username,\n",
    "        'user_creation_date': user_creation_date,\n",
    "        'num_posts': num_posts,\n",
    "        'num_comments': num_comments,\n",
    "        'karma': {\n",
    "            'post_karma': post_karma,\n",
    "            'comment_karma': comment_karma\n",
    "        }\n",
    "    },\n",
    "    'posts': posts,\n",
    "    'comments': comments\n",
    "}"
   ]
  },
  {
   "cell_type": "code",
   "execution_count": null,
   "metadata": {},
   "outputs": [],
   "source": [
    "with open('Temp_Files/user_data.json', 'w') as f:\n",
    "    json.dump(user_data, f)"
   ]
  },
  {
   "attachments": {},
   "cell_type": "markdown",
   "metadata": {},
   "source": [
    "**To-DO: PT1**\n",
    "* Successfully append comments, user info, and posts of first page to JSON in correct format\n",
    "* Save pictures/videos to directory\n",
    "* Present JSON and saved files in beginner format HTML webpage\n",
    "* Apply saving to all pages of reddit account\n",
    "* Add tests to ensure data is all saved (meets 25 posts per page, etc)\n",
    "* Create Readme on Github\n",
    "* Publish first time\n",
    "\n",
    "**TO-DO PT2**\n",
    "* Convert from notebook to script\n",
    "* Create GUI where you can choose if you want to save pics/videos, input user/output directory in GUI, etc\n",
    "* Apply ability to save pics/videos as choice\n",
    "* Create Pretty looking HTML archive page\n",
    "* Promote on Reddit\n",
    "* Release as second update \n",
    "* Add ability to keep link in comment\n",
    "\n",
    "**TO-DO PT3**\n",
    "* "
   ]
  }
 ],
 "metadata": {
  "kernelspec": {
   "display_name": "Python 3",
   "language": "python",
   "name": "python3"
  },
  "language_info": {
   "codemirror_mode": {
    "name": "ipython",
    "version": 3
   },
   "file_extension": ".py",
   "mimetype": "text/x-python",
   "name": "python",
   "nbconvert_exporter": "python",
   "pygments_lexer": "ipython3",
   "version": "3.10.10"
  },
  "orig_nbformat": 4
 },
 "nbformat": 4,
 "nbformat_minor": 2
}
